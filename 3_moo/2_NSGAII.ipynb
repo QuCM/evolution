{
 "cells": [
  {
   "cell_type": "markdown",
   "metadata": {
    "slideshow": {
     "slide_type": "slide"
    }
   },
   "source": [
    "<img src=\"../imgs/logo.png\" width=\"20%\" align=\"right\" style=\"margin:0px 20px\">\n",
    "\n",
    "\n",
    "# Evolutionary Computation\n",
    "\n",
    "## 3.2 NSGA-II\n",
    "\n",
    "<a rel=\"license\" href=\"http://creativecommons.org/licenses/by-sa/4.0/\"><img alt=\"Creative Commons License\" align=\"left\" src=\"https://i.creativecommons.org/l/by-sa/4.0/80x15.png\" /></a>&nbsp;| Dennis G. Wilson | <a href=\"https://d9w.github.io/evolution/\">https://d9w.github.io/evolution/</a>"
   ]
  },
  {
   "cell_type": "markdown",
   "metadata": {
    "slideshow": {
     "slide_type": "slide"
    }
   },
   "source": [
    "## Outline\n",
    "\n",
    "1. [The Knapsack Problem](#knapsack)\n",
    "2. [Evolution](#evolution)\n",
    "3. [Visualization](#visualization)"
   ]
  },
  {
   "cell_type": "code",
   "execution_count": 2,
   "metadata": {
    "slideshow": {
     "slide_type": "slide"
    }
   },
   "outputs": [
    {
     "name": "stderr",
     "output_type": "stream",
     "text": [
      "┌ Info: Precompiling GLPK [60bf3e95-4087-53dc-ae20-288a0d20c6a6]\n",
      "└ @ Base loading.jl:1260\n"
     ]
    }
   ],
   "source": [
    "using NSGAII\n",
    "using JuMP, GLPK\n",
    "using Plots\n",
    "default(show=:ijulia)"
   ]
  },
  {
   "cell_type": "markdown",
   "metadata": {
    "slideshow": {
     "slide_type": "fragment"
    }
   },
   "source": [
    "To experiment with NSGAII we'll be using a rather new implementation of it from Github: https://github.com/gsoleilhac/NSGAII.jl/.\n",
    "\n",
    "This implementation isn't so complicated and if we look at the code, we can see that much of it resembles our [notebook code](https://github.com/d9w/evolution/blob/master/2_ga/1_GAs.ipynb) on Genetic Algorithms. Let's look at the [functions](https://github.com/gsoleilhac/NSGAII.jl/blob/master/src/functions.jl) code which contains the main Genetic Algorithm loop, as well as the [NSGA-II](http://repository.ias.ac.in/83498/1/2-a.pdf) Fast Non-Dominated Sort and Crowding Distance Algorithm."
   ]
  },
  {
   "cell_type": "markdown",
   "metadata": {
    "slideshow": {
     "slide_type": "slide"
    }
   },
   "source": [
    "## <a id=\"knapsack\"></a>The Knapsack Problem"
   ]
  },
  {
   "cell_type": "markdown",
   "metadata": {
    "slideshow": {
     "slide_type": "fragment"
    }
   },
   "source": [
    "<img src=\"https://imgs.xkcd.com/comics/np_complete.png\">\n",
    "<div style=\"text-align:center\"><a href=\"https://xkcd.com/287/\">XKCD on the Knapsack Problem</a></div>\n"
   ]
  },
  {
   "cell_type": "markdown",
   "metadata": {
    "slideshow": {
     "slide_type": "slide"
    }
   },
   "source": [
    "Imagine we're travelling and our bag has a maximum weight limit. We want to fill this bag with items of different value and maximize the total value in our bag, as long as it stays in the weight limit. This is known as the \"knapsack problem\".\n",
    "<img src=\"../imgs/knapsack.png\" width=\"30%\" height=\"auto\">\n",
    "Instead of a bag with items, you could imagine a scenario like the comic. You want to order different appetizers, but you only want to spend a fixed maximum amount. How can you get the best appetizers?"
   ]
  },
  {
   "cell_type": "markdown",
   "metadata": {
    "slideshow": {
     "slide_type": "slide"
    }
   },
   "source": [
    "Let's look at an example, specifically using the version of the Knapsack problem known as the \"0-1 knapsack problem\" where we can have at most 1 copy of each item. We'll use 5 items and randomly geneate values for them."
   ]
  },
  {
   "cell_type": "code",
   "execution_count": 3,
   "metadata": {
    "slideshow": {
     "slide_type": "fragment"
    }
   },
   "outputs": [
    {
     "name": "stdout",
     "output_type": "stream",
     "text": [
      "[89, 3, 10, 69, 59] total value: 230\n"
     ]
    }
   ],
   "source": [
    "n = 5\n",
    "values = rand(0:100, n)\n",
    "println(values, \" total value: \", sum(values))"
   ]
  },
  {
   "cell_type": "code",
   "execution_count": 4,
   "metadata": {
    "slideshow": {
     "slide_type": "fragment"
    }
   },
   "outputs": [
    {
     "name": "stdout",
     "output_type": "stream",
     "text": [
      "[10, 12, 17, 14, 12] total weight: 65\n"
     ]
    }
   ],
   "source": [
    "weights = rand(10:20, n)\n",
    "max_weight = 55\n",
    "println(weights, \" total weight: \", sum(weights))"
   ]
  },
  {
   "cell_type": "markdown",
   "metadata": {
    "slideshow": {
     "slide_type": "fragment"
    }
   },
   "source": [
    "We won't be able to take all items because of the maximum weight of 55. We'll express our choice of items using a binary string, 1 if we take the item and 0 otherwise."
   ]
  },
  {
   "cell_type": "code",
   "execution_count": 5,
   "metadata": {
    "slideshow": {
     "slide_type": "fragment"
    }
   },
   "outputs": [
    {
     "name": "stdout",
     "output_type": "stream",
     "text": [
      "Bool[1, 0, 1, 1, 1]\n"
     ]
    }
   ],
   "source": [
    "using Random: bitrand\n",
    "choices = bitrand(n)\n",
    "println(choices)"
   ]
  },
  {
   "cell_type": "markdown",
   "metadata": {
    "slideshow": {
     "slide_type": "slide"
    }
   },
   "source": [
    "The total value of our knapsack is therefore the sum of the element-wise multiplication of our choices and the individual item values."
   ]
  },
  {
   "cell_type": "code",
   "execution_count": 6,
   "metadata": {
    "slideshow": {
     "slide_type": "fragment"
    }
   },
   "outputs": [
    {
     "data": {
      "text/plain": [
       "227"
      ]
     },
     "execution_count": 6,
     "metadata": {},
     "output_type": "execute_result"
    }
   ],
   "source": [
    "sum(choices .* values)"
   ]
  },
  {
   "cell_type": "markdown",
   "metadata": {
    "slideshow": {
     "slide_type": "fragment"
    }
   },
   "source": [
    "In other words, the dot product of the two vectors."
   ]
  },
  {
   "cell_type": "code",
   "execution_count": 7,
   "metadata": {
    "slideshow": {
     "slide_type": "fragment"
    }
   },
   "outputs": [
    {
     "data": {
      "text/plain": [
       "227"
      ]
     },
     "execution_count": 7,
     "metadata": {},
     "output_type": "execute_result"
    }
   ],
   "source": [
    "using LinearAlgebra: dot\n",
    "dot(choices, values)"
   ]
  },
  {
   "cell_type": "markdown",
   "metadata": {
    "slideshow": {
     "slide_type": "fragment"
    }
   },
   "source": [
    "We can also use the dot product to check if our choices fall under the weight limit"
   ]
  },
  {
   "cell_type": "code",
   "execution_count": 8,
   "metadata": {
    "slideshow": {
     "slide_type": "fragment"
    }
   },
   "outputs": [
    {
     "data": {
      "text/plain": [
       "(53, 55)"
      ]
     },
     "execution_count": 8,
     "metadata": {},
     "output_type": "execute_result"
    }
   ],
   "source": [
    "dot(choices, weights), max_weight"
   ]
  },
  {
   "cell_type": "markdown",
   "metadata": {
    "slideshow": {
     "slide_type": "slide"
    }
   },
   "source": [
    "Let's say you and a friend are travelling together and to make it cheaper, you're sharing a bag. You and your friend assign different values to each item based on what you want to bring on the trip. Your preferences are in `values` and your friends preferences are:"
   ]
  },
  {
   "cell_type": "code",
   "execution_count": 9,
   "metadata": {
    "slideshow": {
     "slide_type": "fragment"
    }
   },
   "outputs": [
    {
     "name": "stdout",
     "output_type": "stream",
     "text": [
      "You:\t[89, 3, 10, 69, 59] total value: 230\n",
      "Friend:\t[84, 42, 19, 62, 90] total value: 297\n"
     ]
    }
   ],
   "source": [
    "values2 = rand(0:100, n)\n",
    "println(\"You:\\t\", values, \" total value: \", sum(values))\n",
    "println(\"Friend:\\t\", values2, \" total value: \", sum(values2))"
   ]
  },
  {
   "cell_type": "markdown",
   "metadata": {
    "slideshow": {
     "slide_type": "fragment"
    }
   },
   "source": [
    "Let's see who is happier with the choices we made"
   ]
  },
  {
   "cell_type": "code",
   "execution_count": 10,
   "metadata": {
    "slideshow": {
     "slide_type": "fragment"
    }
   },
   "outputs": [
    {
     "name": "stdout",
     "output_type": "stream",
     "text": [
      "Bool[0, 1, 0, 1, 0]\n",
      "weight: 26\n",
      "You: 72 Friend: 104\n"
     ]
    }
   ],
   "source": [
    "choices = bitrand(n)\n",
    "println(choices)\n",
    "println(\"weight: \", dot(choices, weights))\n",
    "println(\"You: \", dot(choices, values), \" Friend: \", dot(choices, values2))"
   ]
  },
  {
   "cell_type": "markdown",
   "metadata": {
    "slideshow": {
     "slide_type": "fragment"
    }
   },
   "source": [
    "This is the multi-objective version of the Knapsack problem where we use $K$ different value vectors for $K$ objectives."
   ]
  },
  {
   "cell_type": "markdown",
   "metadata": {
    "slideshow": {
     "slide_type": "slide"
    }
   },
   "source": [
    "[The Knapsack problem](https://en.wikipedia.org/wiki/Knapsack_problem) has been thoroughly studied in theoretical computer science and evolutionary computation is not the only choice for solving it; dynamic programming and mixed integer programming are what [JuMP](https://github.com/JuliaOpt/JuMP.jl), an optimization library, uses."
   ]
  },
  {
   "cell_type": "code",
   "execution_count": 11,
   "metadata": {
    "slideshow": {
     "slide_type": "fragment"
    }
   },
   "outputs": [],
   "source": [
    "# Now in JuMP > 0.19 format\n",
    "m = Model(GLPK.Optimizer)\n",
    "@variable(m, x[1:n], Bin)\n",
    "# Objective: maximize profit\n",
    "@objective(m, Max, dot(values, x))\n",
    "@objective(m, Max, dot(values2, x))\n",
    "# Constraint: can carry all\n",
    "@constraint(m, dot(weights, x) <= max_weight)\n",
    "# Solve problem using MIP solver\n",
    "JuMP.optimize!(m)"
   ]
  },
  {
   "cell_type": "code",
   "execution_count": 12,
   "metadata": {
    "slideshow": {
     "slide_type": "fragment"
    }
   },
   "outputs": [
    {
     "name": "stdout",
     "output_type": "stream",
     "text": [
      "Objective is: 278.0\n",
      "Solution is:\n",
      "x[1] = 1.0, p[1]/w[1] = 8.9, p[1]/w[1] = 8.4\n",
      "x[2] = 1.0, p[2]/w[2] = 0.25, p[2]/w[2] = 3.5\n",
      "x[3] = 0.0, p[3]/w[3] = 0.5882352941176471, p[3]/w[3] = 1.1176470588235294\n",
      "x[4] = 1.0, p[4]/w[4] = 4.928571428571429, p[4]/w[4] = 4.428571428571429\n",
      "x[5] = 1.0, p[5]/w[5] = 4.916666666666667, p[5]/w[5] = 7.5\n",
      "true\n"
     ]
    }
   ],
   "source": [
    "println(\"Objective is: \", JuMP.objective_value(m))\n",
    "println(\"Solution is:\")\n",
    "for i = 1:5\n",
    "    print(\"x[$i] = \", JuMP.value(x[i]))\n",
    "    print(\", p[$i]/w[$i] = \", values[i]/weights[i])\n",
    "    println(\", p[$i]/w[$i] = \", values2[i]/weights[i])\n",
    "end\n",
    "println(JuMP.termination_status(m) == MOI.OPTIMAL)"
   ]
  },
  {
   "cell_type": "markdown",
   "metadata": {
    "slideshow": {
     "slide_type": "slide"
    }
   },
   "source": [
    "## <a id=\"evolution\"></a>Evolution"
   ]
  },
  {
   "cell_type": "markdown",
   "metadata": {
    "slideshow": {
     "slide_type": "fragment"
    }
   },
   "source": [
    "To apply NSGA-II to this problem, let's scale up the number of items to 100. "
   ]
  },
  {
   "cell_type": "code",
   "execution_count": 13,
   "metadata": {
    "slideshow": {
     "slide_type": "fragment"
    }
   },
   "outputs": [
    {
     "data": {
      "text/plain": [
       "100×2 Array{Float64,2}:\n",
       " 0.929256    0.197346\n",
       " 0.187912    0.143706\n",
       " 0.262501    0.386356\n",
       " 0.313164    0.715353\n",
       " 0.144708    0.22544\n",
       " 0.0265955   0.863525\n",
       " 0.324204    0.293988\n",
       " 0.0741329   0.0983828\n",
       " 0.199045    0.568675\n",
       " 0.604914    0.344082\n",
       " 0.222769    0.833153\n",
       " 0.5994      0.687952\n",
       " 0.641886    0.437186\n",
       " ⋮           \n",
       " 0.0436402   0.0717665\n",
       " 0.0623721   0.882542\n",
       " 0.434737    0.701015\n",
       " 0.451456    0.00547964\n",
       " 0.698508    0.246542\n",
       " 0.757456    0.408952\n",
       " 0.756166    0.840814\n",
       " 0.640896    0.0297207\n",
       " 0.225947    0.597112\n",
       " 0.7263      0.0892413\n",
       " 0.256084    0.913091\n",
       " 0.00802464  0.631363"
      ]
     },
     "execution_count": 13,
     "metadata": {},
     "output_type": "execute_result"
    }
   ],
   "source": [
    "n = 100\n",
    "n_objectives = 2\n",
    "values = rand(n, n_objectives)"
   ]
  },
  {
   "cell_type": "markdown",
   "metadata": {
    "slideshow": {
     "slide_type": "slide"
    }
   },
   "source": [
    "Let's normalize our fitness values by their sum, so that the total maximum value is 1.0 which will help with plotting later."
   ]
  },
  {
   "cell_type": "code",
   "execution_count": 14,
   "metadata": {
    "slideshow": {
     "slide_type": "fragment"
    }
   },
   "outputs": [
    {
     "data": {
      "text/plain": [
       "1×2 Array{Float64,2}:\n",
       " 1.0  1.0"
      ]
     },
     "execution_count": 14,
     "metadata": {},
     "output_type": "execute_result"
    }
   ],
   "source": [
    "values = values ./ sum(values, dims=1);\n",
    "sum(values, dims=1)"
   ]
  },
  {
   "cell_type": "markdown",
   "metadata": {
    "slideshow": {
     "slide_type": "slide"
    }
   },
   "source": [
    "Similarly, let's normalize the weights to sum to 1 and set a maximum weight of 0.5, meaning we can keep only half the items on average. This will let us change the number of items more easily later on but doesn't impact the problem in any way."
   ]
  },
  {
   "cell_type": "code",
   "execution_count": 15,
   "metadata": {
    "slideshow": {
     "slide_type": "fragment"
    }
   },
   "outputs": [
    {
     "data": {
      "text/plain": [
       "0.5"
      ]
     },
     "execution_count": 15,
     "metadata": {},
     "output_type": "execute_result"
    }
   ],
   "source": [
    "weights = rand(n)\n",
    "weights = weights ./ sum(weights)\n",
    "max_weight = 0.5"
   ]
  },
  {
   "cell_type": "markdown",
   "metadata": {
    "slideshow": {
     "slide_type": "slide"
    }
   },
   "source": [
    "Let's write our objective function which will compute the value of our knapsack using each different column of profit values."
   ]
  },
  {
   "cell_type": "code",
   "execution_count": 34,
   "metadata": {
    "slideshow": {
     "slide_type": "fragment"
    }
   },
   "outputs": [
    {
     "data": {
      "text/plain": [
       "objective (generic function with 1 method)"
      ]
     },
     "execution_count": 34,
     "metadata": {},
     "output_type": "execute_result"
    }
   ],
   "source": [
    "function objective(genes::AbstractArray)\n",
    "    fits = zeros(n_objectives)\n",
    "    for i in 1:n_objectives\n",
    "        fits[i] = dot(genes, values[:, i])\n",
    "    end\n",
    "    tuple(fits...)\n",
    "end"
   ]
  },
  {
   "cell_type": "markdown",
   "metadata": {
    "slideshow": {
     "slide_type": "slide"
    }
   },
   "source": [
    "We'll add in our weight constraint separately. This is used in the evaluation of individuals and is considered a part of our objective function, but is handled separately. Our lecture on evolution with constraints will go into more detail on that. For this NSGA-II implementation, we return 0 if the condition passes and the distance from meeting the condition otherwise."
   ]
  },
  {
   "cell_type": "code",
   "execution_count": 17,
   "metadata": {
    "slideshow": {
     "slide_type": "fragment"
    }
   },
   "outputs": [
    {
     "data": {
      "text/plain": [
       "constraint (generic function with 1 method)"
      ]
     },
     "execution_count": 17,
     "metadata": {},
     "output_type": "execute_result"
    }
   ],
   "source": [
    "function constraint(genes::AbstractArray)\n",
    "    sum_weights = dot(genes, weights)\n",
    "    return sum_weights <= max_weight ? 0 : sum_weights - max_weight\n",
    "end"
   ]
  },
  {
   "cell_type": "markdown",
   "metadata": {
    "slideshow": {
     "slide_type": "slide"
    }
   },
   "source": [
    "That's all, so now we're ready to run NSGA-II. Let's run it for 100 generations on a population of 100. The function returns the set of non-dominated individuals at the end"
   ]
  },
  {
   "cell_type": "code",
   "execution_count": 18,
   "metadata": {
    "slideshow": {
     "slide_type": "fragment"
    }
   },
   "outputs": [
    {
     "name": "stderr",
     "output_type": "stream",
     "text": [
      "\u001b[32mProgress: 100%|█████████████████████████████████████████| Time: 0:00:01\u001b[39m\n"
     ]
    },
    {
     "data": {
      "text/plain": [
       "indiv([100001001101110...110011111101111] : (0.736786336337982, 0.7346406044357606) | rank : 1)"
      ]
     },
     "execution_count": 18,
     "metadata": {},
     "output_type": "execute_result"
    }
   ],
   "source": [
    "popsize = 100\n",
    "nbgen = 100\n",
    "init() = bitrand(n)\n",
    "non_dominated =  nsga_max(popsize, nbgen, objective, init, fCV=constraint)\n",
    "non_dominated[1]"
   ]
  },
  {
   "cell_type": "markdown",
   "metadata": {
    "slideshow": {
     "slide_type": "slide"
    }
   },
   "source": [
    "Let's see what type of total profit values we have from our two objectives."
   ]
  },
  {
   "cell_type": "code",
   "execution_count": 19,
   "metadata": {
    "slideshow": {
     "slide_type": "fragment"
    }
   },
   "outputs": [
    {
     "data": {
      "text/plain": [
       "6-element Array{Array{Float64,1},1}:\n",
       " [0.736786336337982, 0.7346406044357606]\n",
       " [0.7750735537031028, 0.7099595800718382]\n",
       " [0.7405183095893383, 0.73020410718075]\n",
       " [0.7637282942046821, 0.7273853015020643]\n",
       " [0.7647306069962339, 0.7251527049183029]\n",
       " [0.7671554456672762, 0.7150068487272458]"
      ]
     },
     "execution_count": 19,
     "metadata": {},
     "output_type": "execute_result"
    }
   ],
   "source": [
    "unique([collect(i.y) for i in non_dominated])"
   ]
  },
  {
   "cell_type": "markdown",
   "metadata": {
    "slideshow": {
     "slide_type": "slide"
    }
   },
   "source": [
    "Finally, we can compare this value to a value obtained by JuMP"
   ]
  },
  {
   "cell_type": "code",
   "execution_count": 20,
   "metadata": {
    "slideshow": {
     "slide_type": "fragment"
    }
   },
   "outputs": [
    {
     "name": "stdout",
     "output_type": "stream",
     "text": [
      "JuMP: 0.6244456865132857 0.8015280553679752\n"
     ]
    }
   ],
   "source": [
    "m = Model(GLPK.Optimizer)\n",
    "@variable(m, x[1:n], Bin)\n",
    "@objective(m, Max, dot(values[:, 1], x))\n",
    "@objective(m, Max, dot(values[:, 2], x))\n",
    "@constraint(m, dot(weights, x) <= max_weight)\n",
    "JuMP.optimize!(m)\n",
    "best_solution = [JuMP.value(x[i]) for i in 1:n]\n",
    "println(\"JuMP: \", dot(values[:, 1], best_solution), \" \", dot(values[:, 2], best_solution))"
   ]
  },
  {
   "cell_type": "markdown",
   "metadata": {
    "slideshow": {
     "slide_type": "slide"
    }
   },
   "source": [
    "<div class=\"alert alert-success\">\n",
    "    <b>Exercise 2</b>\n",
    "    <br/>\n",
    "    Increase the problem difficulty by increasing the number of items and reducing the weight limit. How does NSGA-II do?\n",
    "    <br/>\n",
    "</div>"
   ]
  },
  {
   "cell_type": "code",
   "execution_count": 29,
   "metadata": {},
   "outputs": [
    {
     "name": "stderr",
     "output_type": "stream",
     "text": [
      "\u001b[32mProgress: 100%|█████████████████████████████████████████| Time: 0:00:02\u001b[39m\n"
     ]
    },
    {
     "data": {
      "text/plain": [
       "4-element Array{Array{Float64,1},1}:\n",
       " [0.4287622339851799, 0.37285957318940666]\n",
       " [0.4341649721403221, 0.35079551124663366]\n",
       " [0.42878896248866416, 0.36316655356775895]\n",
       " [0.43413824363683784, 0.36048853086828136]"
      ]
     },
     "execution_count": 29,
     "metadata": {},
     "output_type": "execute_result"
    }
   ],
   "source": [
    "max_weight = 0.15\n",
    "popsize = 100\n",
    "nbgen = 1000\n",
    "init() = bitrand(n)\n",
    "non_dominated =  nsga_max(popsize, nbgen, objective, init, fCV=constraint)\n",
    "unique([collect(i.y) for i in non_dominated])"
   ]
  },
  {
   "cell_type": "code",
   "execution_count": 30,
   "metadata": {},
   "outputs": [
    {
     "name": "stdout",
     "output_type": "stream",
     "text": [
      "JuMP: 0.3192816989281055 0.4215565010372469\n"
     ]
    }
   ],
   "source": [
    "m = Model(GLPK.Optimizer)\n",
    "@variable(m, x[1:n], Bin)\n",
    "@objective(m, Max, dot(values[:, 1], x))\n",
    "@objective(m, Max, dot(values[:, 2], x))\n",
    "@constraint(m, dot(weights, x) <= max_weight)\n",
    "JuMP.optimize!(m)\n",
    "best_solution = [JuMP.value(x[i]) for i in 1:n]\n",
    "println(\"JuMP: \", dot(values[:, 1], best_solution), \" \", dot(values[:, 2], best_solution))"
   ]
  },
  {
   "cell_type": "markdown",
   "metadata": {
    "slideshow": {
     "slide_type": "slide"
    }
   },
   "source": [
    "## <a id=\"visualization\"></a>Visualization"
   ]
  },
  {
   "cell_type": "markdown",
   "metadata": {
    "slideshow": {
     "slide_type": "fragment"
    }
   },
   "source": [
    "To better understand NSGA-II's evolution, let's observe the population over time."
   ]
  },
  {
   "cell_type": "code",
   "execution_count": 31,
   "metadata": {
    "scrolled": true,
    "slideshow": {
     "slide_type": "slide"
    }
   },
   "outputs": [
    {
     "data": {
      "image/svg+xml": [
       "<?xml version=\"1.0\" encoding=\"utf-8\"?>\n",
       "<svg xmlns=\"http://www.w3.org/2000/svg\" xmlns:xlink=\"http://www.w3.org/1999/xlink\" width=\"600\" height=\"400\" viewBox=\"0 0 2400 1600\">\n",
       "<defs>\n",
       "  <clipPath id=\"clip9200\">\n",
       "    <rect x=\"0\" y=\"0\" width=\"2400\" height=\"1600\"/>\n",
       "  </clipPath>\n",
       "</defs>\n",
       "<path clip-path=\"url(#clip9200)\" d=\"\n",
       "M0 1600 L2400 1600 L2400 0 L0 0  Z\n",
       "  \" fill=\"#ffffff\" fill-rule=\"evenodd\" fill-opacity=\"1\"/>\n",
       "<defs>\n",
       "  <clipPath id=\"clip9201\">\n",
       "    <rect x=\"480\" y=\"0\" width=\"1681\" height=\"1600\"/>\n",
       "  </clipPath>\n",
       "</defs>\n",
       "<path clip-path=\"url(#clip9200)\" d=\"\n",
       "M148.334 1486.45 L2352.76 1486.45 L2352.76 47.2441 L148.334 47.2441  Z\n",
       "  \" fill=\"#ffffff\" fill-rule=\"evenodd\" fill-opacity=\"1\"/>\n",
       "<defs>\n",
       "  <clipPath id=\"clip9202\">\n",
       "    <rect x=\"148\" y=\"47\" width=\"2205\" height=\"1440\"/>\n",
       "  </clipPath>\n",
       "</defs>\n",
       "<polyline clip-path=\"url(#clip9202)\" style=\"stroke:#000000; stroke-width:2; stroke-opacity:0.1; fill:none\" points=\"\n",
       "  148.334,1486.45 148.334,47.2441 \n",
       "  \"/>\n",
       "<polyline clip-path=\"url(#clip9202)\" style=\"stroke:#000000; stroke-width:2; stroke-opacity:0.1; fill:none\" points=\"\n",
       "  589.219,1486.45 589.219,47.2441 \n",
       "  \"/>\n",
       "<polyline clip-path=\"url(#clip9202)\" style=\"stroke:#000000; stroke-width:2; stroke-opacity:0.1; fill:none\" points=\"\n",
       "  1030.1,1486.45 1030.1,47.2441 \n",
       "  \"/>\n",
       "<polyline clip-path=\"url(#clip9202)\" style=\"stroke:#000000; stroke-width:2; stroke-opacity:0.1; fill:none\" points=\"\n",
       "  1470.99,1486.45 1470.99,47.2441 \n",
       "  \"/>\n",
       "<polyline clip-path=\"url(#clip9202)\" style=\"stroke:#000000; stroke-width:2; stroke-opacity:0.1; fill:none\" points=\"\n",
       "  1911.87,1486.45 1911.87,47.2441 \n",
       "  \"/>\n",
       "<polyline clip-path=\"url(#clip9202)\" style=\"stroke:#000000; stroke-width:2; stroke-opacity:0.1; fill:none\" points=\"\n",
       "  2352.76,1486.45 2352.76,47.2441 \n",
       "  \"/>\n",
       "<polyline clip-path=\"url(#clip9202)\" style=\"stroke:#000000; stroke-width:2; stroke-opacity:0.1; fill:none\" points=\"\n",
       "  148.334,1486.45 2352.76,1486.45 \n",
       "  \"/>\n",
       "<polyline clip-path=\"url(#clip9202)\" style=\"stroke:#000000; stroke-width:2; stroke-opacity:0.1; fill:none\" points=\"\n",
       "  148.334,1198.61 2352.76,1198.61 \n",
       "  \"/>\n",
       "<polyline clip-path=\"url(#clip9202)\" style=\"stroke:#000000; stroke-width:2; stroke-opacity:0.1; fill:none\" points=\"\n",
       "  148.334,910.766 2352.76,910.766 \n",
       "  \"/>\n",
       "<polyline clip-path=\"url(#clip9202)\" style=\"stroke:#000000; stroke-width:2; stroke-opacity:0.1; fill:none\" points=\"\n",
       "  148.334,622.926 2352.76,622.926 \n",
       "  \"/>\n",
       "<polyline clip-path=\"url(#clip9202)\" style=\"stroke:#000000; stroke-width:2; stroke-opacity:0.1; fill:none\" points=\"\n",
       "  148.334,335.085 2352.76,335.085 \n",
       "  \"/>\n",
       "<polyline clip-path=\"url(#clip9202)\" style=\"stroke:#000000; stroke-width:2; stroke-opacity:0.1; fill:none\" points=\"\n",
       "  148.334,47.2441 2352.76,47.2441 \n",
       "  \"/>\n",
       "<polyline clip-path=\"url(#clip9200)\" style=\"stroke:#000000; stroke-width:4; stroke-opacity:1; fill:none\" points=\"\n",
       "  148.334,1486.45 2352.76,1486.45 \n",
       "  \"/>\n",
       "<polyline clip-path=\"url(#clip9200)\" style=\"stroke:#000000; stroke-width:4; stroke-opacity:1; fill:none\" points=\"\n",
       "  148.334,1486.45 148.334,47.2441 \n",
       "  \"/>\n",
       "<polyline clip-path=\"url(#clip9200)\" style=\"stroke:#000000; stroke-width:4; stroke-opacity:1; fill:none\" points=\"\n",
       "  148.334,1486.45 148.334,1469.18 \n",
       "  \"/>\n",
       "<polyline clip-path=\"url(#clip9200)\" style=\"stroke:#000000; stroke-width:4; stroke-opacity:1; fill:none\" points=\"\n",
       "  589.219,1486.45 589.219,1469.18 \n",
       "  \"/>\n",
       "<polyline clip-path=\"url(#clip9200)\" style=\"stroke:#000000; stroke-width:4; stroke-opacity:1; fill:none\" points=\"\n",
       "  1030.1,1486.45 1030.1,1469.18 \n",
       "  \"/>\n",
       "<polyline clip-path=\"url(#clip9200)\" style=\"stroke:#000000; stroke-width:4; stroke-opacity:1; fill:none\" points=\"\n",
       "  1470.99,1486.45 1470.99,1469.18 \n",
       "  \"/>\n",
       "<polyline clip-path=\"url(#clip9200)\" style=\"stroke:#000000; stroke-width:4; stroke-opacity:1; fill:none\" points=\"\n",
       "  1911.87,1486.45 1911.87,1469.18 \n",
       "  \"/>\n",
       "<polyline clip-path=\"url(#clip9200)\" style=\"stroke:#000000; stroke-width:4; stroke-opacity:1; fill:none\" points=\"\n",
       "  2352.76,1486.45 2352.76,1469.18 \n",
       "  \"/>\n",
       "<polyline clip-path=\"url(#clip9200)\" style=\"stroke:#000000; stroke-width:4; stroke-opacity:1; fill:none\" points=\"\n",
       "  148.334,1486.45 174.787,1486.45 \n",
       "  \"/>\n",
       "<polyline clip-path=\"url(#clip9200)\" style=\"stroke:#000000; stroke-width:4; stroke-opacity:1; fill:none\" points=\"\n",
       "  148.334,1198.61 174.787,1198.61 \n",
       "  \"/>\n",
       "<polyline clip-path=\"url(#clip9200)\" style=\"stroke:#000000; stroke-width:4; stroke-opacity:1; fill:none\" points=\"\n",
       "  148.334,910.766 174.787,910.766 \n",
       "  \"/>\n",
       "<polyline clip-path=\"url(#clip9200)\" style=\"stroke:#000000; stroke-width:4; stroke-opacity:1; fill:none\" points=\"\n",
       "  148.334,622.926 174.787,622.926 \n",
       "  \"/>\n",
       "<polyline clip-path=\"url(#clip9200)\" style=\"stroke:#000000; stroke-width:4; stroke-opacity:1; fill:none\" points=\"\n",
       "  148.334,335.085 174.787,335.085 \n",
       "  \"/>\n",
       "<polyline clip-path=\"url(#clip9200)\" style=\"stroke:#000000; stroke-width:4; stroke-opacity:1; fill:none\" points=\"\n",
       "  148.334,47.2441 174.787,47.2441 \n",
       "  \"/>\n",
       "<path clip-path=\"url(#clip9200)\" d=\"M 0 0 M129.851 1508.44 Q126.24 1508.44 124.411 1512 Q122.605 1515.55 122.605 1522.67 Q122.605 1529.78 124.411 1533.35 Q126.24 1536.89 129.851 1536.89 Q133.485 1536.89 135.29 1533.35 Q137.119 1529.78 137.119 1522.67 Q137.119 1515.55 135.29 1512 Q133.485 1508.44 129.851 1508.44 M129.851 1504.73 Q135.661 1504.73 138.716 1509.34 Q141.795 1513.92 141.795 1522.67 Q141.795 1531.4 138.716 1536.01 Q135.661 1540.59 129.851 1540.59 Q124.041 1540.59 120.962 1536.01 Q117.906 1531.4 117.906 1522.67 Q117.906 1513.92 120.962 1509.34 Q124.041 1504.73 129.851 1504.73 Z\" fill=\"#000000\" fill-rule=\"evenodd\" fill-opacity=\"1\" /><path clip-path=\"url(#clip9200)\" d=\"M 0 0 M146.864 1534.04 L151.749 1534.04 L151.749 1539.92 L146.864 1539.92 L146.864 1534.04 Z\" fill=\"#000000\" fill-rule=\"evenodd\" fill-opacity=\"1\" /><path clip-path=\"url(#clip9200)\" d=\"M 0 0 M166.818 1508.44 Q163.207 1508.44 161.378 1512 Q159.573 1515.55 159.573 1522.67 Q159.573 1529.78 161.378 1533.35 Q163.207 1536.89 166.818 1536.89 Q170.452 1536.89 172.258 1533.35 Q174.087 1529.78 174.087 1522.67 Q174.087 1515.55 172.258 1512 Q170.452 1508.44 166.818 1508.44 M166.818 1504.73 Q172.628 1504.73 175.684 1509.34 Q178.762 1513.92 178.762 1522.67 Q178.762 1531.4 175.684 1536.01 Q172.628 1540.59 166.818 1540.59 Q161.008 1540.59 157.929 1536.01 Q154.874 1531.4 154.874 1522.67 Q154.874 1513.92 157.929 1509.34 Q161.008 1504.73 166.818 1504.73 Z\" fill=\"#000000\" fill-rule=\"evenodd\" fill-opacity=\"1\" /><path clip-path=\"url(#clip9200)\" d=\"M 0 0 M571.534 1508.44 Q567.923 1508.44 566.094 1512 Q564.288 1515.55 564.288 1522.67 Q564.288 1529.78 566.094 1533.35 Q567.923 1536.89 571.534 1536.89 Q575.168 1536.89 576.973 1533.35 Q578.802 1529.78 578.802 1522.67 Q578.802 1515.55 576.973 1512 Q575.168 1508.44 571.534 1508.44 M571.534 1504.73 Q577.344 1504.73 580.399 1509.34 Q583.478 1513.92 583.478 1522.67 Q583.478 1531.4 580.399 1536.01 Q577.344 1540.59 571.534 1540.59 Q565.723 1540.59 562.645 1536.01 Q559.589 1531.4 559.589 1522.67 Q559.589 1513.92 562.645 1509.34 Q565.723 1504.73 571.534 1504.73 Z\" fill=\"#000000\" fill-rule=\"evenodd\" fill-opacity=\"1\" /><path clip-path=\"url(#clip9200)\" d=\"M 0 0 M588.547 1534.04 L593.432 1534.04 L593.432 1539.92 L588.547 1539.92 L588.547 1534.04 Z\" fill=\"#000000\" fill-rule=\"evenodd\" fill-opacity=\"1\" /><path clip-path=\"url(#clip9200)\" d=\"M 0 0 M602.529 1535.98 L618.848 1535.98 L618.848 1539.92 L596.904 1539.92 L596.904 1535.98 Q599.566 1533.23 604.149 1528.6 Q608.756 1523.95 609.936 1522.61 Q612.182 1520.08 613.061 1518.35 Q613.964 1516.59 613.964 1514.9 Q613.964 1512.14 612.019 1510.41 Q610.098 1508.67 606.996 1508.67 Q604.797 1508.67 602.344 1509.43 Q599.913 1510.2 597.135 1511.75 L597.135 1507.03 Q599.959 1505.89 602.413 1505.31 Q604.867 1504.73 606.904 1504.73 Q612.274 1504.73 615.469 1507.42 Q618.663 1510.11 618.663 1514.6 Q618.663 1516.73 617.853 1518.65 Q617.066 1520.54 614.959 1523.14 Q614.381 1523.81 611.279 1527.03 Q608.177 1530.22 602.529 1535.98 Z\" fill=\"#000000\" fill-rule=\"evenodd\" fill-opacity=\"1\" /><path clip-path=\"url(#clip9200)\" d=\"M 0 0 M1011.38 1508.44 Q1007.77 1508.44 1005.94 1512 Q1004.13 1515.55 1004.13 1522.67 Q1004.13 1529.78 1005.94 1533.35 Q1007.77 1536.89 1011.38 1536.89 Q1015.01 1536.89 1016.82 1533.35 Q1018.64 1529.78 1018.64 1522.67 Q1018.64 1515.55 1016.82 1512 Q1015.01 1508.44 1011.38 1508.44 M1011.38 1504.73 Q1017.19 1504.73 1020.24 1509.34 Q1023.32 1513.92 1023.32 1522.67 Q1023.32 1531.4 1020.24 1536.01 Q1017.19 1540.59 1011.38 1540.59 Q1005.57 1540.59 1002.49 1536.01 Q999.432 1531.4 999.432 1522.67 Q999.432 1513.92 1002.49 1509.34 Q1005.57 1504.73 1011.38 1504.73 Z\" fill=\"#000000\" fill-rule=\"evenodd\" fill-opacity=\"1\" /><path clip-path=\"url(#clip9200)\" d=\"M 0 0 M1028.39 1534.04 L1033.27 1534.04 L1033.27 1539.92 L1028.39 1539.92 L1028.39 1534.04 Z\" fill=\"#000000\" fill-rule=\"evenodd\" fill-opacity=\"1\" /><path clip-path=\"url(#clip9200)\" d=\"M 0 0 M1051.19 1509.43 L1039.39 1527.88 L1051.19 1527.88 L1051.19 1509.43 M1049.96 1505.36 L1055.84 1505.36 L1055.84 1527.88 L1060.77 1527.88 L1060.77 1531.77 L1055.84 1531.77 L1055.84 1539.92 L1051.19 1539.92 L1051.19 1531.77 L1035.59 1531.77 L1035.59 1527.26 L1049.96 1505.36 Z\" fill=\"#000000\" fill-rule=\"evenodd\" fill-opacity=\"1\" /><path clip-path=\"url(#clip9200)\" d=\"M 0 0 M1452.42 1508.44 Q1448.81 1508.44 1446.98 1512 Q1445.18 1515.55 1445.18 1522.67 Q1445.18 1529.78 1446.98 1533.35 Q1448.81 1536.89 1452.42 1536.89 Q1456.06 1536.89 1457.86 1533.35 Q1459.69 1529.78 1459.69 1522.67 Q1459.69 1515.55 1457.86 1512 Q1456.06 1508.44 1452.42 1508.44 M1452.42 1504.73 Q1458.23 1504.73 1461.29 1509.34 Q1464.37 1513.92 1464.37 1522.67 Q1464.37 1531.4 1461.29 1536.01 Q1458.23 1540.59 1452.42 1540.59 Q1446.61 1540.59 1443.53 1536.01 Q1440.48 1531.4 1440.48 1522.67 Q1440.48 1513.92 1443.53 1509.34 Q1446.61 1504.73 1452.42 1504.73 Z\" fill=\"#000000\" fill-rule=\"evenodd\" fill-opacity=\"1\" /><path clip-path=\"url(#clip9200)\" d=\"M 0 0 M1469.44 1534.04 L1474.32 1534.04 L1474.32 1539.92 L1469.44 1539.92 L1469.44 1534.04 Z\" fill=\"#000000\" fill-rule=\"evenodd\" fill-opacity=\"1\" /><path clip-path=\"url(#clip9200)\" d=\"M 0 0 M1489.97 1520.78 Q1486.82 1520.78 1484.97 1522.93 Q1483.14 1525.08 1483.14 1528.83 Q1483.14 1532.56 1484.97 1534.73 Q1486.82 1536.89 1489.97 1536.89 Q1493.12 1536.89 1494.95 1534.73 Q1496.8 1532.56 1496.8 1528.83 Q1496.8 1525.08 1494.95 1522.93 Q1493.12 1520.78 1489.97 1520.78 M1499.25 1506.12 L1499.25 1510.38 Q1497.49 1509.55 1495.69 1509.11 Q1493.9 1508.67 1492.14 1508.67 Q1487.51 1508.67 1485.06 1511.8 Q1482.63 1514.92 1482.28 1521.24 Q1483.65 1519.23 1485.71 1518.16 Q1487.77 1517.07 1490.25 1517.07 Q1495.45 1517.07 1498.46 1520.24 Q1501.5 1523.39 1501.5 1528.83 Q1501.5 1534.16 1498.35 1537.37 Q1495.2 1540.59 1489.97 1540.59 Q1483.97 1540.59 1480.8 1536.01 Q1477.63 1531.4 1477.63 1522.67 Q1477.63 1514.48 1481.52 1509.62 Q1485.41 1504.73 1491.96 1504.73 Q1493.72 1504.73 1495.5 1505.08 Q1497.31 1505.43 1499.25 1506.12 Z\" fill=\"#000000\" fill-rule=\"evenodd\" fill-opacity=\"1\" /><path clip-path=\"url(#clip9200)\" d=\"M 0 0 M1893.43 1508.44 Q1889.82 1508.44 1887.99 1512 Q1886.19 1515.55 1886.19 1522.67 Q1886.19 1529.78 1887.99 1533.35 Q1889.82 1536.89 1893.43 1536.89 Q1897.07 1536.89 1898.87 1533.35 Q1900.7 1529.78 1900.7 1522.67 Q1900.7 1515.55 1898.87 1512 Q1897.07 1508.44 1893.43 1508.44 M1893.43 1504.73 Q1899.24 1504.73 1902.3 1509.34 Q1905.38 1513.92 1905.38 1522.67 Q1905.38 1531.4 1902.3 1536.01 Q1899.24 1540.59 1893.43 1540.59 Q1887.62 1540.59 1884.55 1536.01 Q1881.49 1531.4 1881.49 1522.67 Q1881.49 1513.92 1884.55 1509.34 Q1887.62 1504.73 1893.43 1504.73 Z\" fill=\"#000000\" fill-rule=\"evenodd\" fill-opacity=\"1\" /><path clip-path=\"url(#clip9200)\" d=\"M 0 0 M1910.45 1534.04 L1915.33 1534.04 L1915.33 1539.92 L1910.45 1539.92 L1910.45 1534.04 Z\" fill=\"#000000\" fill-rule=\"evenodd\" fill-opacity=\"1\" /><path clip-path=\"url(#clip9200)\" d=\"M 0 0 M1930.4 1523.51 Q1927.07 1523.51 1925.15 1525.29 Q1923.25 1527.07 1923.25 1530.2 Q1923.25 1533.32 1925.15 1535.11 Q1927.07 1536.89 1930.4 1536.89 Q1933.73 1536.89 1935.66 1535.11 Q1937.58 1533.3 1937.58 1530.2 Q1937.58 1527.07 1935.66 1525.29 Q1933.76 1523.51 1930.4 1523.51 M1925.73 1521.52 Q1922.72 1520.78 1921.03 1518.72 Q1919.36 1516.66 1919.36 1513.69 Q1919.36 1509.55 1922.3 1507.14 Q1925.26 1504.73 1930.4 1504.73 Q1935.56 1504.73 1938.5 1507.14 Q1941.44 1509.55 1941.44 1513.69 Q1941.44 1516.66 1939.75 1518.72 Q1938.09 1520.78 1935.1 1521.52 Q1938.48 1522.3 1940.36 1524.6 Q1942.25 1526.89 1942.25 1530.2 Q1942.25 1535.22 1939.17 1537.91 Q1936.12 1540.59 1930.4 1540.59 Q1924.68 1540.59 1921.61 1537.91 Q1918.55 1535.22 1918.55 1530.2 Q1918.55 1526.89 1920.45 1524.6 Q1922.35 1522.3 1925.73 1521.52 M1924.01 1514.13 Q1924.01 1516.82 1925.68 1518.32 Q1927.37 1519.83 1930.4 1519.83 Q1933.41 1519.83 1935.1 1518.32 Q1936.81 1516.82 1936.81 1514.13 Q1936.81 1511.45 1935.1 1509.94 Q1933.41 1508.44 1930.4 1508.44 Q1927.37 1508.44 1925.68 1509.94 Q1924.01 1511.45 1924.01 1514.13 Z\" fill=\"#000000\" fill-rule=\"evenodd\" fill-opacity=\"1\" /><path clip-path=\"url(#clip9200)\" d=\"M 0 0 M2324.65 1535.98 L2332.29 1535.98 L2332.29 1509.62 L2323.98 1511.29 L2323.98 1507.03 L2332.25 1505.36 L2336.92 1505.36 L2336.92 1535.98 L2344.56 1535.98 L2344.56 1539.92 L2324.65 1539.92 L2324.65 1535.98 Z\" fill=\"#000000\" fill-rule=\"evenodd\" fill-opacity=\"1\" /><path clip-path=\"url(#clip9200)\" d=\"M 0 0 M2349.63 1534.04 L2354.52 1534.04 L2354.52 1539.92 L2349.63 1539.92 L2349.63 1534.04 Z\" fill=\"#000000\" fill-rule=\"evenodd\" fill-opacity=\"1\" /><path clip-path=\"url(#clip9200)\" d=\"M 0 0 M2369.58 1508.44 Q2365.97 1508.44 2364.14 1512 Q2362.34 1515.55 2362.34 1522.67 Q2362.34 1529.78 2364.14 1533.35 Q2365.97 1536.89 2369.58 1536.89 Q2373.22 1536.89 2375.02 1533.35 Q2376.85 1529.78 2376.85 1522.67 Q2376.85 1515.55 2375.02 1512 Q2373.22 1508.44 2369.58 1508.44 M2369.58 1504.73 Q2375.39 1504.73 2378.45 1509.34 Q2381.53 1513.92 2381.53 1522.67 Q2381.53 1531.4 2378.45 1536.01 Q2375.39 1540.59 2369.58 1540.59 Q2363.77 1540.59 2360.7 1536.01 Q2357.64 1531.4 2357.64 1522.67 Q2357.64 1513.92 2360.7 1509.34 Q2363.77 1504.73 2369.58 1504.73 Z\" fill=\"#000000\" fill-rule=\"evenodd\" fill-opacity=\"1\" /><path clip-path=\"url(#clip9200)\" d=\"M 0 0 M75.4226 1472.25 Q71.8115 1472.25 69.9828 1475.81 Q68.1773 1479.35 68.1773 1486.48 Q68.1773 1493.59 69.9828 1497.15 Q71.8115 1500.7 75.4226 1500.7 Q79.0569 1500.7 80.8624 1497.15 Q82.6911 1493.59 82.6911 1486.48 Q82.6911 1479.35 80.8624 1475.81 Q79.0569 1472.25 75.4226 1472.25 M75.4226 1468.54 Q81.2328 1468.54 84.2883 1473.15 Q87.367 1477.73 87.367 1486.48 Q87.367 1495.21 84.2883 1499.82 Q81.2328 1504.4 75.4226 1504.4 Q69.6125 1504.4 66.5338 1499.82 Q63.4782 1495.21 63.4782 1486.48 Q63.4782 1477.73 66.5338 1473.15 Q69.6125 1468.54 75.4226 1468.54 Z\" fill=\"#000000\" fill-rule=\"evenodd\" fill-opacity=\"1\" /><path clip-path=\"url(#clip9200)\" d=\"M 0 0 M92.4364 1497.85 L97.3206 1497.85 L97.3206 1503.73 L92.4364 1503.73 L92.4364 1497.85 Z\" fill=\"#000000\" fill-rule=\"evenodd\" fill-opacity=\"1\" /><path clip-path=\"url(#clip9200)\" d=\"M 0 0 M112.39 1472.25 Q108.779 1472.25 106.95 1475.81 Q105.145 1479.35 105.145 1486.48 Q105.145 1493.59 106.95 1497.15 Q108.779 1500.7 112.39 1500.7 Q116.024 1500.7 117.83 1497.15 Q119.658 1493.59 119.658 1486.48 Q119.658 1479.35 117.83 1475.81 Q116.024 1472.25 112.39 1472.25 M112.39 1468.54 Q118.2 1468.54 121.256 1473.15 Q124.334 1477.73 124.334 1486.48 Q124.334 1495.21 121.256 1499.82 Q118.2 1504.4 112.39 1504.4 Q106.58 1504.4 103.501 1499.82 Q100.446 1495.21 100.446 1486.48 Q100.446 1477.73 103.501 1473.15 Q106.58 1468.54 112.39 1468.54 Z\" fill=\"#000000\" fill-rule=\"evenodd\" fill-opacity=\"1\" /><path clip-path=\"url(#clip9200)\" d=\"M 0 0 M77.0198 1184.41 Q73.4087 1184.41 71.58 1187.97 Q69.7745 1191.51 69.7745 1198.64 Q69.7745 1205.75 71.58 1209.31 Q73.4087 1212.85 77.0198 1212.85 Q80.6541 1212.85 82.4596 1209.31 Q84.2883 1205.75 84.2883 1198.64 Q84.2883 1191.51 82.4596 1187.97 Q80.6541 1184.41 77.0198 1184.41 M77.0198 1180.7 Q82.83 1180.7 85.8855 1185.31 Q88.9642 1189.89 88.9642 1198.64 Q88.9642 1207.37 85.8855 1211.98 Q82.83 1216.56 77.0198 1216.56 Q71.2097 1216.56 68.131 1211.98 Q65.0754 1207.37 65.0754 1198.64 Q65.0754 1189.89 68.131 1185.31 Q71.2097 1180.7 77.0198 1180.7 Z\" fill=\"#000000\" fill-rule=\"evenodd\" fill-opacity=\"1\" /><path clip-path=\"url(#clip9200)\" d=\"M 0 0 M94.0336 1210.01 L98.9179 1210.01 L98.9179 1215.89 L94.0336 1215.89 L94.0336 1210.01 Z\" fill=\"#000000\" fill-rule=\"evenodd\" fill-opacity=\"1\" /><path clip-path=\"url(#clip9200)\" d=\"M 0 0 M108.015 1211.95 L124.334 1211.95 L124.334 1215.89 L102.39 1215.89 L102.39 1211.95 Q105.052 1209.2 109.635 1204.57 Q114.242 1199.91 115.422 1198.57 Q117.668 1196.05 118.547 1194.31 Q119.45 1192.55 119.45 1190.86 Q119.45 1188.11 117.506 1186.37 Q115.584 1184.64 112.483 1184.64 Q110.284 1184.64 107.83 1185.4 Q105.399 1186.17 102.622 1187.72 L102.622 1182.99 Q105.446 1181.86 107.899 1181.28 Q110.353 1180.7 112.39 1180.7 Q117.76 1180.7 120.955 1183.39 Q124.149 1186.07 124.149 1190.56 Q124.149 1192.69 123.339 1194.61 Q122.552 1196.51 120.446 1199.1 Q119.867 1199.78 116.765 1202.99 Q113.663 1206.19 108.015 1211.95 Z\" fill=\"#000000\" fill-rule=\"evenodd\" fill-opacity=\"1\" /><path clip-path=\"url(#clip9200)\" d=\"M 0 0 M74.9365 896.565 Q71.3254 896.565 69.4967 900.13 Q67.6912 903.671 67.6912 910.801 Q67.6912 917.908 69.4967 921.472 Q71.3254 925.014 74.9365 925.014 Q78.5707 925.014 80.3763 921.472 Q82.205 917.908 82.205 910.801 Q82.205 903.671 80.3763 900.13 Q78.5707 896.565 74.9365 896.565 M74.9365 892.861 Q80.7467 892.861 83.8022 897.468 Q86.8809 902.051 86.8809 910.801 Q86.8809 919.528 83.8022 924.134 Q80.7467 928.718 74.9365 928.718 Q69.1264 928.718 66.0477 924.134 Q62.9921 919.528 62.9921 910.801 Q62.9921 902.051 66.0477 897.468 Q69.1264 892.861 74.9365 892.861 Z\" fill=\"#000000\" fill-rule=\"evenodd\" fill-opacity=\"1\" /><path clip-path=\"url(#clip9200)\" d=\"M 0 0 M91.9503 922.167 L96.8345 922.167 L96.8345 928.046 L91.9503 928.046 L91.9503 922.167 Z\" fill=\"#000000\" fill-rule=\"evenodd\" fill-opacity=\"1\" /><path clip-path=\"url(#clip9200)\" d=\"M 0 0 M114.751 897.56 L102.946 916.009 L114.751 916.009 L114.751 897.56 M113.524 893.486 L119.404 893.486 L119.404 916.009 L124.334 916.009 L124.334 919.898 L119.404 919.898 L119.404 928.046 L114.751 928.046 L114.751 919.898 L99.1493 919.898 L99.1493 915.384 L113.524 893.486 Z\" fill=\"#000000\" fill-rule=\"evenodd\" fill-opacity=\"1\" /><path clip-path=\"url(#clip9200)\" d=\"M 0 0 M75.2606 608.724 Q71.6495 608.724 69.8208 612.289 Q68.0152 615.831 68.0152 622.96 Q68.0152 630.067 69.8208 633.632 Q71.6495 637.173 75.2606 637.173 Q78.8948 637.173 80.7004 633.632 Q82.5291 630.067 82.5291 622.96 Q82.5291 615.831 80.7004 612.289 Q78.8948 608.724 75.2606 608.724 M75.2606 605.021 Q81.0707 605.021 84.1263 609.627 Q87.205 614.21 87.205 622.96 Q87.205 631.687 84.1263 636.294 Q81.0707 640.877 75.2606 640.877 Q69.4504 640.877 66.3717 636.294 Q63.3162 631.687 63.3162 622.96 Q63.3162 614.21 66.3717 609.627 Q69.4504 605.021 75.2606 605.021 Z\" fill=\"#000000\" fill-rule=\"evenodd\" fill-opacity=\"1\" /><path clip-path=\"url(#clip9200)\" d=\"M 0 0 M92.2744 634.326 L97.1586 634.326 L97.1586 640.206 L92.2744 640.206 L92.2744 634.326 Z\" fill=\"#000000\" fill-rule=\"evenodd\" fill-opacity=\"1\" /><path clip-path=\"url(#clip9200)\" d=\"M 0 0 M112.807 621.062 Q109.659 621.062 107.807 623.215 Q105.978 625.368 105.978 629.118 Q105.978 632.845 107.807 635.02 Q109.659 637.173 112.807 637.173 Q115.955 637.173 117.783 635.02 Q119.635 632.845 119.635 629.118 Q119.635 625.368 117.783 623.215 Q115.955 621.062 112.807 621.062 M122.089 606.409 L122.089 610.669 Q120.33 609.835 118.524 609.396 Q116.742 608.956 114.983 608.956 Q110.353 608.956 107.899 612.081 Q105.469 615.206 105.122 621.525 Q106.487 619.511 108.547 618.446 Q110.608 617.359 113.084 617.359 Q118.293 617.359 121.302 620.53 Q124.334 623.678 124.334 629.118 Q124.334 634.442 121.186 637.659 Q118.038 640.877 112.807 640.877 Q106.811 640.877 103.64 636.294 Q100.469 631.687 100.469 622.96 Q100.469 614.766 104.358 609.905 Q108.247 605.021 114.797 605.021 Q116.557 605.021 118.339 605.368 Q120.145 605.715 122.089 606.409 Z\" fill=\"#000000\" fill-rule=\"evenodd\" fill-opacity=\"1\" /><path clip-path=\"url(#clip9200)\" d=\"M 0 0 M75.5152 320.884 Q71.9041 320.884 70.0754 324.448 Q68.2699 327.99 68.2699 335.12 Q68.2699 342.226 70.0754 345.791 Q71.9041 349.332 75.5152 349.332 Q79.1494 349.332 80.955 345.791 Q82.7837 342.226 82.7837 335.12 Q82.7837 327.99 80.955 324.448 Q79.1494 320.884 75.5152 320.884 M75.5152 317.18 Q81.3254 317.18 84.3809 321.786 Q87.4596 326.37 87.4596 335.12 Q87.4596 343.846 84.3809 348.453 Q81.3254 353.036 75.5152 353.036 Q69.7051 353.036 66.6264 348.453 Q63.5708 343.846 63.5708 335.12 Q63.5708 326.37 66.6264 321.786 Q69.7051 317.18 75.5152 317.18 Z\" fill=\"#000000\" fill-rule=\"evenodd\" fill-opacity=\"1\" /><path clip-path=\"url(#clip9200)\" d=\"M 0 0 M92.529 346.485 L97.4132 346.485 L97.4132 352.365 L92.529 352.365 L92.529 346.485 Z\" fill=\"#000000\" fill-rule=\"evenodd\" fill-opacity=\"1\" /><path clip-path=\"url(#clip9200)\" d=\"M 0 0 M112.483 335.953 Q109.149 335.953 107.228 337.735 Q105.33 339.518 105.33 342.643 Q105.33 345.768 107.228 347.55 Q109.149 349.332 112.483 349.332 Q115.816 349.332 117.737 347.55 Q119.658 345.745 119.658 342.643 Q119.658 339.518 117.737 337.735 Q115.839 335.953 112.483 335.953 M107.807 333.962 Q104.797 333.221 103.108 331.161 Q101.441 329.101 101.441 326.138 Q101.441 321.995 104.381 319.587 Q107.344 317.18 112.483 317.18 Q117.645 317.18 120.584 319.587 Q123.524 321.995 123.524 326.138 Q123.524 329.101 121.834 331.161 Q120.168 333.221 117.182 333.962 Q120.561 334.749 122.436 337.041 Q124.334 339.333 124.334 342.643 Q124.334 347.666 121.256 350.351 Q118.2 353.036 112.483 353.036 Q106.765 353.036 103.686 350.351 Q100.631 347.666 100.631 342.643 Q100.631 339.333 102.529 337.041 Q104.427 334.749 107.807 333.962 M106.094 326.578 Q106.094 329.263 107.76 330.768 Q109.45 332.272 112.483 332.272 Q115.492 332.272 117.182 330.768 Q118.895 329.263 118.895 326.578 Q118.895 323.893 117.182 322.388 Q115.492 320.884 112.483 320.884 Q109.45 320.884 107.76 322.388 Q106.094 323.893 106.094 326.578 Z\" fill=\"#000000\" fill-rule=\"evenodd\" fill-opacity=\"1\" /><path clip-path=\"url(#clip9200)\" d=\"M 0 0 M67.4597 60.5889 L75.0985 60.5889 L75.0985 34.2233 L66.7884 35.89 L66.7884 31.6308 L75.0522 29.9641 L79.7281 29.9641 L79.7281 60.5889 L87.367 60.5889 L87.367 64.5241 L67.4597 64.5241 L67.4597 60.5889 Z\" fill=\"#000000\" fill-rule=\"evenodd\" fill-opacity=\"1\" /><path clip-path=\"url(#clip9200)\" d=\"M 0 0 M92.4364 58.6445 L97.3206 58.6445 L97.3206 64.5241 L92.4364 64.5241 L92.4364 58.6445 Z\" fill=\"#000000\" fill-rule=\"evenodd\" fill-opacity=\"1\" /><path clip-path=\"url(#clip9200)\" d=\"M 0 0 M112.39 33.0428 Q108.779 33.0428 106.95 36.6076 Q105.145 40.1492 105.145 47.2788 Q105.145 54.3853 106.95 57.9501 Q108.779 61.4917 112.39 61.4917 Q116.024 61.4917 117.83 57.9501 Q119.658 54.3853 119.658 47.2788 Q119.658 40.1492 117.83 36.6076 Q116.024 33.0428 112.39 33.0428 M112.39 29.3391 Q118.2 29.3391 121.256 33.9456 Q124.334 38.5289 124.334 47.2788 Q124.334 56.0056 121.256 60.6121 Q118.2 65.1954 112.39 65.1954 Q106.58 65.1954 103.501 60.6121 Q100.446 56.0056 100.446 47.2788 Q100.446 38.5289 103.501 33.9456 Q106.58 29.3391 112.39 29.3391 Z\" fill=\"#000000\" fill-rule=\"evenodd\" fill-opacity=\"1\" /><circle clip-path=\"url(#clip9202)\" cx=\"1029.55\" cy=\"934.492\" r=\"14\" fill=\"#009af9\" fill-rule=\"evenodd\" fill-opacity=\"1\" stroke=\"#000000\" stroke-opacity=\"1\" stroke-width=\"3.2\"/>\n",
       "<circle clip-path=\"url(#clip9202)\" cx=\"1126.66\" cy=\"961.796\" r=\"14\" fill=\"#009af9\" fill-rule=\"evenodd\" fill-opacity=\"1\" stroke=\"#000000\" stroke-opacity=\"1\" stroke-width=\"3.2\"/>\n",
       "<circle clip-path=\"url(#clip9202)\" cx=\"1119.35\" cy=\"936.673\" r=\"14\" fill=\"#009af9\" fill-rule=\"evenodd\" fill-opacity=\"1\" stroke=\"#000000\" stroke-opacity=\"1\" stroke-width=\"3.2\"/>\n",
       "<circle clip-path=\"url(#clip9202)\" cx=\"1126.66\" cy=\"961.796\" r=\"14\" fill=\"#009af9\" fill-rule=\"evenodd\" fill-opacity=\"1\" stroke=\"#000000\" stroke-opacity=\"1\" stroke-width=\"3.2\"/>\n",
       "<circle clip-path=\"url(#clip9202)\" cx=\"1029.55\" cy=\"934.492\" r=\"14\" fill=\"#009af9\" fill-rule=\"evenodd\" fill-opacity=\"1\" stroke=\"#000000\" stroke-opacity=\"1\" stroke-width=\"3.2\"/>\n",
       "<circle clip-path=\"url(#clip9202)\" cx=\"1093.94\" cy=\"934.973\" r=\"14\" fill=\"#009af9\" fill-rule=\"evenodd\" fill-opacity=\"1\" stroke=\"#000000\" stroke-opacity=\"1\" stroke-width=\"3.2\"/>\n",
       "<circle clip-path=\"url(#clip9202)\" cx=\"1093.94\" cy=\"934.973\" r=\"14\" fill=\"#009af9\" fill-rule=\"evenodd\" fill-opacity=\"1\" stroke=\"#000000\" stroke-opacity=\"1\" stroke-width=\"3.2\"/>\n",
       "<circle clip-path=\"url(#clip9202)\" cx=\"1119.35\" cy=\"936.673\" r=\"14\" fill=\"#009af9\" fill-rule=\"evenodd\" fill-opacity=\"1\" stroke=\"#000000\" stroke-opacity=\"1\" stroke-width=\"3.2\"/>\n",
       "<circle clip-path=\"url(#clip9202)\" cx=\"1126.66\" cy=\"961.796\" r=\"14\" fill=\"#009af9\" fill-rule=\"evenodd\" fill-opacity=\"1\" stroke=\"#000000\" stroke-opacity=\"1\" stroke-width=\"3.2\"/>\n",
       "<circle clip-path=\"url(#clip9202)\" cx=\"1126.66\" cy=\"961.796\" r=\"14\" fill=\"#009af9\" fill-rule=\"evenodd\" fill-opacity=\"1\" stroke=\"#000000\" stroke-opacity=\"1\" stroke-width=\"3.2\"/>\n",
       "<circle clip-path=\"url(#clip9202)\" cx=\"1126.66\" cy=\"961.796\" r=\"14\" fill=\"#009af9\" fill-rule=\"evenodd\" fill-opacity=\"1\" stroke=\"#000000\" stroke-opacity=\"1\" stroke-width=\"3.2\"/>\n",
       "<circle clip-path=\"url(#clip9202)\" cx=\"1126.66\" cy=\"961.796\" r=\"14\" fill=\"#009af9\" fill-rule=\"evenodd\" fill-opacity=\"1\" stroke=\"#000000\" stroke-opacity=\"1\" stroke-width=\"3.2\"/>\n",
       "<circle clip-path=\"url(#clip9202)\" cx=\"1126.66\" cy=\"961.796\" r=\"14\" fill=\"#009af9\" fill-rule=\"evenodd\" fill-opacity=\"1\" stroke=\"#000000\" stroke-opacity=\"1\" stroke-width=\"3.2\"/>\n",
       "<circle clip-path=\"url(#clip9202)\" cx=\"1126.66\" cy=\"961.796\" r=\"14\" fill=\"#009af9\" fill-rule=\"evenodd\" fill-opacity=\"1\" stroke=\"#000000\" stroke-opacity=\"1\" stroke-width=\"3.2\"/>\n",
       "<circle clip-path=\"url(#clip9202)\" cx=\"1126.66\" cy=\"961.796\" r=\"14\" fill=\"#009af9\" fill-rule=\"evenodd\" fill-opacity=\"1\" stroke=\"#000000\" stroke-opacity=\"1\" stroke-width=\"3.2\"/>\n",
       "<circle clip-path=\"url(#clip9202)\" cx=\"1126.66\" cy=\"961.796\" r=\"14\" fill=\"#009af9\" fill-rule=\"evenodd\" fill-opacity=\"1\" stroke=\"#000000\" stroke-opacity=\"1\" stroke-width=\"3.2\"/>\n",
       "<circle clip-path=\"url(#clip9202)\" cx=\"1126.66\" cy=\"961.796\" r=\"14\" fill=\"#009af9\" fill-rule=\"evenodd\" fill-opacity=\"1\" stroke=\"#000000\" stroke-opacity=\"1\" stroke-width=\"3.2\"/>\n",
       "<circle clip-path=\"url(#clip9202)\" cx=\"1126.66\" cy=\"961.796\" r=\"14\" fill=\"#009af9\" fill-rule=\"evenodd\" fill-opacity=\"1\" stroke=\"#000000\" stroke-opacity=\"1\" stroke-width=\"3.2\"/>\n",
       "<circle clip-path=\"url(#clip9202)\" cx=\"1126.66\" cy=\"961.796\" r=\"14\" fill=\"#009af9\" fill-rule=\"evenodd\" fill-opacity=\"1\" stroke=\"#000000\" stroke-opacity=\"1\" stroke-width=\"3.2\"/>\n",
       "<circle clip-path=\"url(#clip9202)\" cx=\"1126.66\" cy=\"961.796\" r=\"14\" fill=\"#009af9\" fill-rule=\"evenodd\" fill-opacity=\"1\" stroke=\"#000000\" stroke-opacity=\"1\" stroke-width=\"3.2\"/>\n",
       "<circle clip-path=\"url(#clip9202)\" cx=\"1126.66\" cy=\"961.796\" r=\"14\" fill=\"#009af9\" fill-rule=\"evenodd\" fill-opacity=\"1\" stroke=\"#000000\" stroke-opacity=\"1\" stroke-width=\"3.2\"/>\n",
       "<circle clip-path=\"url(#clip9202)\" cx=\"1126.66\" cy=\"961.796\" r=\"14\" fill=\"#009af9\" fill-rule=\"evenodd\" fill-opacity=\"1\" stroke=\"#000000\" stroke-opacity=\"1\" stroke-width=\"3.2\"/>\n",
       "<circle clip-path=\"url(#clip9202)\" cx=\"1126.66\" cy=\"961.796\" r=\"14\" fill=\"#009af9\" fill-rule=\"evenodd\" fill-opacity=\"1\" stroke=\"#000000\" stroke-opacity=\"1\" stroke-width=\"3.2\"/>\n",
       "<circle clip-path=\"url(#clip9202)\" cx=\"1126.66\" cy=\"961.796\" r=\"14\" fill=\"#009af9\" fill-rule=\"evenodd\" fill-opacity=\"1\" stroke=\"#000000\" stroke-opacity=\"1\" stroke-width=\"3.2\"/>\n",
       "<circle clip-path=\"url(#clip9202)\" cx=\"1126.66\" cy=\"961.796\" r=\"14\" fill=\"#009af9\" fill-rule=\"evenodd\" fill-opacity=\"1\" stroke=\"#000000\" stroke-opacity=\"1\" stroke-width=\"3.2\"/>\n",
       "<circle clip-path=\"url(#clip9202)\" cx=\"1126.66\" cy=\"961.796\" r=\"14\" fill=\"#009af9\" fill-rule=\"evenodd\" fill-opacity=\"1\" stroke=\"#000000\" stroke-opacity=\"1\" stroke-width=\"3.2\"/>\n",
       "<circle clip-path=\"url(#clip9202)\" cx=\"1126.66\" cy=\"961.796\" r=\"14\" fill=\"#009af9\" fill-rule=\"evenodd\" fill-opacity=\"1\" stroke=\"#000000\" stroke-opacity=\"1\" stroke-width=\"3.2\"/>\n",
       "<circle clip-path=\"url(#clip9202)\" cx=\"1126.66\" cy=\"961.796\" r=\"14\" fill=\"#009af9\" fill-rule=\"evenodd\" fill-opacity=\"1\" stroke=\"#000000\" stroke-opacity=\"1\" stroke-width=\"3.2\"/>\n",
       "<circle clip-path=\"url(#clip9202)\" cx=\"1126.66\" cy=\"961.796\" r=\"14\" fill=\"#009af9\" fill-rule=\"evenodd\" fill-opacity=\"1\" stroke=\"#000000\" stroke-opacity=\"1\" stroke-width=\"3.2\"/>\n",
       "<circle clip-path=\"url(#clip9202)\" cx=\"1126.66\" cy=\"961.796\" r=\"14\" fill=\"#009af9\" fill-rule=\"evenodd\" fill-opacity=\"1\" stroke=\"#000000\" stroke-opacity=\"1\" stroke-width=\"3.2\"/>\n",
       "<circle clip-path=\"url(#clip9202)\" cx=\"1126.66\" cy=\"961.796\" r=\"14\" fill=\"#009af9\" fill-rule=\"evenodd\" fill-opacity=\"1\" stroke=\"#000000\" stroke-opacity=\"1\" stroke-width=\"3.2\"/>\n",
       "<circle clip-path=\"url(#clip9202)\" cx=\"1126.66\" cy=\"961.796\" r=\"14\" fill=\"#009af9\" fill-rule=\"evenodd\" fill-opacity=\"1\" stroke=\"#000000\" stroke-opacity=\"1\" stroke-width=\"3.2\"/>\n",
       "<circle clip-path=\"url(#clip9202)\" cx=\"1126.66\" cy=\"961.796\" r=\"14\" fill=\"#009af9\" fill-rule=\"evenodd\" fill-opacity=\"1\" stroke=\"#000000\" stroke-opacity=\"1\" stroke-width=\"3.2\"/>\n",
       "<circle clip-path=\"url(#clip9202)\" cx=\"1126.66\" cy=\"961.796\" r=\"14\" fill=\"#009af9\" fill-rule=\"evenodd\" fill-opacity=\"1\" stroke=\"#000000\" stroke-opacity=\"1\" stroke-width=\"3.2\"/>\n",
       "<circle clip-path=\"url(#clip9202)\" cx=\"1126.66\" cy=\"961.796\" r=\"14\" fill=\"#009af9\" fill-rule=\"evenodd\" fill-opacity=\"1\" stroke=\"#000000\" stroke-opacity=\"1\" stroke-width=\"3.2\"/>\n",
       "<circle clip-path=\"url(#clip9202)\" cx=\"1126.66\" cy=\"961.796\" r=\"14\" fill=\"#009af9\" fill-rule=\"evenodd\" fill-opacity=\"1\" stroke=\"#000000\" stroke-opacity=\"1\" stroke-width=\"3.2\"/>\n",
       "<circle clip-path=\"url(#clip9202)\" cx=\"1126.66\" cy=\"961.796\" r=\"14\" fill=\"#009af9\" fill-rule=\"evenodd\" fill-opacity=\"1\" stroke=\"#000000\" stroke-opacity=\"1\" stroke-width=\"3.2\"/>\n",
       "<circle clip-path=\"url(#clip9202)\" cx=\"1126.66\" cy=\"961.796\" r=\"14\" fill=\"#009af9\" fill-rule=\"evenodd\" fill-opacity=\"1\" stroke=\"#000000\" stroke-opacity=\"1\" stroke-width=\"3.2\"/>\n",
       "<circle clip-path=\"url(#clip9202)\" cx=\"1126.66\" cy=\"961.796\" r=\"14\" fill=\"#009af9\" fill-rule=\"evenodd\" fill-opacity=\"1\" stroke=\"#000000\" stroke-opacity=\"1\" stroke-width=\"3.2\"/>\n",
       "<circle clip-path=\"url(#clip9202)\" cx=\"1126.66\" cy=\"961.796\" r=\"14\" fill=\"#009af9\" fill-rule=\"evenodd\" fill-opacity=\"1\" stroke=\"#000000\" stroke-opacity=\"1\" stroke-width=\"3.2\"/>\n",
       "<circle clip-path=\"url(#clip9202)\" cx=\"1126.66\" cy=\"961.796\" r=\"14\" fill=\"#009af9\" fill-rule=\"evenodd\" fill-opacity=\"1\" stroke=\"#000000\" stroke-opacity=\"1\" stroke-width=\"3.2\"/>\n",
       "<circle clip-path=\"url(#clip9202)\" cx=\"1126.66\" cy=\"961.796\" r=\"14\" fill=\"#009af9\" fill-rule=\"evenodd\" fill-opacity=\"1\" stroke=\"#000000\" stroke-opacity=\"1\" stroke-width=\"3.2\"/>\n",
       "<circle clip-path=\"url(#clip9202)\" cx=\"1126.66\" cy=\"961.796\" r=\"14\" fill=\"#009af9\" fill-rule=\"evenodd\" fill-opacity=\"1\" stroke=\"#000000\" stroke-opacity=\"1\" stroke-width=\"3.2\"/>\n",
       "<circle clip-path=\"url(#clip9202)\" cx=\"1126.66\" cy=\"961.796\" r=\"14\" fill=\"#009af9\" fill-rule=\"evenodd\" fill-opacity=\"1\" stroke=\"#000000\" stroke-opacity=\"1\" stroke-width=\"3.2\"/>\n",
       "<circle clip-path=\"url(#clip9202)\" cx=\"1126.66\" cy=\"961.796\" r=\"14\" fill=\"#009af9\" fill-rule=\"evenodd\" fill-opacity=\"1\" stroke=\"#000000\" stroke-opacity=\"1\" stroke-width=\"3.2\"/>\n",
       "<circle clip-path=\"url(#clip9202)\" cx=\"1126.66\" cy=\"961.796\" r=\"14\" fill=\"#009af9\" fill-rule=\"evenodd\" fill-opacity=\"1\" stroke=\"#000000\" stroke-opacity=\"1\" stroke-width=\"3.2\"/>\n",
       "<circle clip-path=\"url(#clip9202)\" cx=\"1126.66\" cy=\"961.796\" r=\"14\" fill=\"#009af9\" fill-rule=\"evenodd\" fill-opacity=\"1\" stroke=\"#000000\" stroke-opacity=\"1\" stroke-width=\"3.2\"/>\n",
       "<circle clip-path=\"url(#clip9202)\" cx=\"1126.66\" cy=\"961.796\" r=\"14\" fill=\"#009af9\" fill-rule=\"evenodd\" fill-opacity=\"1\" stroke=\"#000000\" stroke-opacity=\"1\" stroke-width=\"3.2\"/>\n",
       "<circle clip-path=\"url(#clip9202)\" cx=\"1126.66\" cy=\"961.796\" r=\"14\" fill=\"#009af9\" fill-rule=\"evenodd\" fill-opacity=\"1\" stroke=\"#000000\" stroke-opacity=\"1\" stroke-width=\"3.2\"/>\n",
       "<circle clip-path=\"url(#clip9202)\" cx=\"1126.66\" cy=\"961.796\" r=\"14\" fill=\"#009af9\" fill-rule=\"evenodd\" fill-opacity=\"1\" stroke=\"#000000\" stroke-opacity=\"1\" stroke-width=\"3.2\"/>\n",
       "<circle clip-path=\"url(#clip9202)\" cx=\"1126.66\" cy=\"961.796\" r=\"14\" fill=\"#009af9\" fill-rule=\"evenodd\" fill-opacity=\"1\" stroke=\"#000000\" stroke-opacity=\"1\" stroke-width=\"3.2\"/>\n",
       "<circle clip-path=\"url(#clip9202)\" cx=\"1126.66\" cy=\"961.796\" r=\"14\" fill=\"#009af9\" fill-rule=\"evenodd\" fill-opacity=\"1\" stroke=\"#000000\" stroke-opacity=\"1\" stroke-width=\"3.2\"/>\n",
       "<circle clip-path=\"url(#clip9202)\" cx=\"1126.66\" cy=\"961.796\" r=\"14\" fill=\"#009af9\" fill-rule=\"evenodd\" fill-opacity=\"1\" stroke=\"#000000\" stroke-opacity=\"1\" stroke-width=\"3.2\"/>\n",
       "<circle clip-path=\"url(#clip9202)\" cx=\"1126.66\" cy=\"961.796\" r=\"14\" fill=\"#009af9\" fill-rule=\"evenodd\" fill-opacity=\"1\" stroke=\"#000000\" stroke-opacity=\"1\" stroke-width=\"3.2\"/>\n",
       "<circle clip-path=\"url(#clip9202)\" cx=\"1126.66\" cy=\"961.796\" r=\"14\" fill=\"#009af9\" fill-rule=\"evenodd\" fill-opacity=\"1\" stroke=\"#000000\" stroke-opacity=\"1\" stroke-width=\"3.2\"/>\n",
       "<circle clip-path=\"url(#clip9202)\" cx=\"1126.66\" cy=\"961.796\" r=\"14\" fill=\"#009af9\" fill-rule=\"evenodd\" fill-opacity=\"1\" stroke=\"#000000\" stroke-opacity=\"1\" stroke-width=\"3.2\"/>\n",
       "<circle clip-path=\"url(#clip9202)\" cx=\"1126.66\" cy=\"961.796\" r=\"14\" fill=\"#009af9\" fill-rule=\"evenodd\" fill-opacity=\"1\" stroke=\"#000000\" stroke-opacity=\"1\" stroke-width=\"3.2\"/>\n",
       "<circle clip-path=\"url(#clip9202)\" cx=\"1126.66\" cy=\"961.796\" r=\"14\" fill=\"#009af9\" fill-rule=\"evenodd\" fill-opacity=\"1\" stroke=\"#000000\" stroke-opacity=\"1\" stroke-width=\"3.2\"/>\n",
       "<circle clip-path=\"url(#clip9202)\" cx=\"1126.66\" cy=\"961.796\" r=\"14\" fill=\"#009af9\" fill-rule=\"evenodd\" fill-opacity=\"1\" stroke=\"#000000\" stroke-opacity=\"1\" stroke-width=\"3.2\"/>\n",
       "<circle clip-path=\"url(#clip9202)\" cx=\"1126.66\" cy=\"961.796\" r=\"14\" fill=\"#009af9\" fill-rule=\"evenodd\" fill-opacity=\"1\" stroke=\"#000000\" stroke-opacity=\"1\" stroke-width=\"3.2\"/>\n",
       "<circle clip-path=\"url(#clip9202)\" cx=\"1126.66\" cy=\"961.796\" r=\"14\" fill=\"#009af9\" fill-rule=\"evenodd\" fill-opacity=\"1\" stroke=\"#000000\" stroke-opacity=\"1\" stroke-width=\"3.2\"/>\n",
       "<circle clip-path=\"url(#clip9202)\" cx=\"1126.66\" cy=\"961.796\" r=\"14\" fill=\"#009af9\" fill-rule=\"evenodd\" fill-opacity=\"1\" stroke=\"#000000\" stroke-opacity=\"1\" stroke-width=\"3.2\"/>\n",
       "<circle clip-path=\"url(#clip9202)\" cx=\"1126.66\" cy=\"961.796\" r=\"14\" fill=\"#009af9\" fill-rule=\"evenodd\" fill-opacity=\"1\" stroke=\"#000000\" stroke-opacity=\"1\" stroke-width=\"3.2\"/>\n",
       "<circle clip-path=\"url(#clip9202)\" cx=\"1126.66\" cy=\"961.796\" r=\"14\" fill=\"#009af9\" fill-rule=\"evenodd\" fill-opacity=\"1\" stroke=\"#000000\" stroke-opacity=\"1\" stroke-width=\"3.2\"/>\n",
       "<circle clip-path=\"url(#clip9202)\" cx=\"1126.66\" cy=\"961.796\" r=\"14\" fill=\"#009af9\" fill-rule=\"evenodd\" fill-opacity=\"1\" stroke=\"#000000\" stroke-opacity=\"1\" stroke-width=\"3.2\"/>\n",
       "<circle clip-path=\"url(#clip9202)\" cx=\"1126.66\" cy=\"961.796\" r=\"14\" fill=\"#009af9\" fill-rule=\"evenodd\" fill-opacity=\"1\" stroke=\"#000000\" stroke-opacity=\"1\" stroke-width=\"3.2\"/>\n",
       "<circle clip-path=\"url(#clip9202)\" cx=\"1126.66\" cy=\"961.796\" r=\"14\" fill=\"#009af9\" fill-rule=\"evenodd\" fill-opacity=\"1\" stroke=\"#000000\" stroke-opacity=\"1\" stroke-width=\"3.2\"/>\n",
       "<circle clip-path=\"url(#clip9202)\" cx=\"1126.66\" cy=\"961.796\" r=\"14\" fill=\"#009af9\" fill-rule=\"evenodd\" fill-opacity=\"1\" stroke=\"#000000\" stroke-opacity=\"1\" stroke-width=\"3.2\"/>\n",
       "<circle clip-path=\"url(#clip9202)\" cx=\"1126.66\" cy=\"961.796\" r=\"14\" fill=\"#009af9\" fill-rule=\"evenodd\" fill-opacity=\"1\" stroke=\"#000000\" stroke-opacity=\"1\" stroke-width=\"3.2\"/>\n",
       "<circle clip-path=\"url(#clip9202)\" cx=\"1126.66\" cy=\"961.796\" r=\"14\" fill=\"#009af9\" fill-rule=\"evenodd\" fill-opacity=\"1\" stroke=\"#000000\" stroke-opacity=\"1\" stroke-width=\"3.2\"/>\n",
       "<circle clip-path=\"url(#clip9202)\" cx=\"1126.66\" cy=\"961.796\" r=\"14\" fill=\"#009af9\" fill-rule=\"evenodd\" fill-opacity=\"1\" stroke=\"#000000\" stroke-opacity=\"1\" stroke-width=\"3.2\"/>\n",
       "<circle clip-path=\"url(#clip9202)\" cx=\"1126.66\" cy=\"961.796\" r=\"14\" fill=\"#009af9\" fill-rule=\"evenodd\" fill-opacity=\"1\" stroke=\"#000000\" stroke-opacity=\"1\" stroke-width=\"3.2\"/>\n",
       "<circle clip-path=\"url(#clip9202)\" cx=\"1126.66\" cy=\"961.796\" r=\"14\" fill=\"#009af9\" fill-rule=\"evenodd\" fill-opacity=\"1\" stroke=\"#000000\" stroke-opacity=\"1\" stroke-width=\"3.2\"/>\n",
       "<circle clip-path=\"url(#clip9202)\" cx=\"1126.66\" cy=\"961.796\" r=\"14\" fill=\"#009af9\" fill-rule=\"evenodd\" fill-opacity=\"1\" stroke=\"#000000\" stroke-opacity=\"1\" stroke-width=\"3.2\"/>\n",
       "<circle clip-path=\"url(#clip9202)\" cx=\"1126.66\" cy=\"961.796\" r=\"14\" fill=\"#009af9\" fill-rule=\"evenodd\" fill-opacity=\"1\" stroke=\"#000000\" stroke-opacity=\"1\" stroke-width=\"3.2\"/>\n",
       "<circle clip-path=\"url(#clip9202)\" cx=\"1126.66\" cy=\"961.796\" r=\"14\" fill=\"#009af9\" fill-rule=\"evenodd\" fill-opacity=\"1\" stroke=\"#000000\" stroke-opacity=\"1\" stroke-width=\"3.2\"/>\n",
       "<circle clip-path=\"url(#clip9202)\" cx=\"1126.66\" cy=\"961.796\" r=\"14\" fill=\"#009af9\" fill-rule=\"evenodd\" fill-opacity=\"1\" stroke=\"#000000\" stroke-opacity=\"1\" stroke-width=\"3.2\"/>\n",
       "<circle clip-path=\"url(#clip9202)\" cx=\"1126.66\" cy=\"961.796\" r=\"14\" fill=\"#009af9\" fill-rule=\"evenodd\" fill-opacity=\"1\" stroke=\"#000000\" stroke-opacity=\"1\" stroke-width=\"3.2\"/>\n",
       "<circle clip-path=\"url(#clip9202)\" cx=\"1126.66\" cy=\"961.796\" r=\"14\" fill=\"#009af9\" fill-rule=\"evenodd\" fill-opacity=\"1\" stroke=\"#000000\" stroke-opacity=\"1\" stroke-width=\"3.2\"/>\n",
       "<circle clip-path=\"url(#clip9202)\" cx=\"1126.66\" cy=\"961.796\" r=\"14\" fill=\"#009af9\" fill-rule=\"evenodd\" fill-opacity=\"1\" stroke=\"#000000\" stroke-opacity=\"1\" stroke-width=\"3.2\"/>\n",
       "<circle clip-path=\"url(#clip9202)\" cx=\"1126.66\" cy=\"961.796\" r=\"14\" fill=\"#009af9\" fill-rule=\"evenodd\" fill-opacity=\"1\" stroke=\"#000000\" stroke-opacity=\"1\" stroke-width=\"3.2\"/>\n",
       "<circle clip-path=\"url(#clip9202)\" cx=\"1126.66\" cy=\"961.796\" r=\"14\" fill=\"#009af9\" fill-rule=\"evenodd\" fill-opacity=\"1\" stroke=\"#000000\" stroke-opacity=\"1\" stroke-width=\"3.2\"/>\n",
       "<circle clip-path=\"url(#clip9202)\" cx=\"1126.66\" cy=\"961.796\" r=\"14\" fill=\"#009af9\" fill-rule=\"evenodd\" fill-opacity=\"1\" stroke=\"#000000\" stroke-opacity=\"1\" stroke-width=\"3.2\"/>\n",
       "<circle clip-path=\"url(#clip9202)\" cx=\"1126.66\" cy=\"961.796\" r=\"14\" fill=\"#009af9\" fill-rule=\"evenodd\" fill-opacity=\"1\" stroke=\"#000000\" stroke-opacity=\"1\" stroke-width=\"3.2\"/>\n",
       "<circle clip-path=\"url(#clip9202)\" cx=\"1126.66\" cy=\"961.796\" r=\"14\" fill=\"#009af9\" fill-rule=\"evenodd\" fill-opacity=\"1\" stroke=\"#000000\" stroke-opacity=\"1\" stroke-width=\"3.2\"/>\n",
       "<circle clip-path=\"url(#clip9202)\" cx=\"1126.66\" cy=\"961.796\" r=\"14\" fill=\"#009af9\" fill-rule=\"evenodd\" fill-opacity=\"1\" stroke=\"#000000\" stroke-opacity=\"1\" stroke-width=\"3.2\"/>\n",
       "<circle clip-path=\"url(#clip9202)\" cx=\"1126.66\" cy=\"961.796\" r=\"14\" fill=\"#009af9\" fill-rule=\"evenodd\" fill-opacity=\"1\" stroke=\"#000000\" stroke-opacity=\"1\" stroke-width=\"3.2\"/>\n",
       "<circle clip-path=\"url(#clip9202)\" cx=\"1126.66\" cy=\"961.796\" r=\"14\" fill=\"#009af9\" fill-rule=\"evenodd\" fill-opacity=\"1\" stroke=\"#000000\" stroke-opacity=\"1\" stroke-width=\"3.2\"/>\n",
       "<circle clip-path=\"url(#clip9202)\" cx=\"1126.66\" cy=\"961.796\" r=\"14\" fill=\"#009af9\" fill-rule=\"evenodd\" fill-opacity=\"1\" stroke=\"#000000\" stroke-opacity=\"1\" stroke-width=\"3.2\"/>\n",
       "<circle clip-path=\"url(#clip9202)\" cx=\"1126.66\" cy=\"961.796\" r=\"14\" fill=\"#009af9\" fill-rule=\"evenodd\" fill-opacity=\"1\" stroke=\"#000000\" stroke-opacity=\"1\" stroke-width=\"3.2\"/>\n",
       "<circle clip-path=\"url(#clip9202)\" cx=\"1126.66\" cy=\"961.796\" r=\"14\" fill=\"#009af9\" fill-rule=\"evenodd\" fill-opacity=\"1\" stroke=\"#000000\" stroke-opacity=\"1\" stroke-width=\"3.2\"/>\n",
       "<circle clip-path=\"url(#clip9202)\" cx=\"1126.66\" cy=\"961.796\" r=\"14\" fill=\"#009af9\" fill-rule=\"evenodd\" fill-opacity=\"1\" stroke=\"#000000\" stroke-opacity=\"1\" stroke-width=\"3.2\"/>\n",
       "<circle clip-path=\"url(#clip9202)\" cx=\"1126.66\" cy=\"961.796\" r=\"14\" fill=\"#009af9\" fill-rule=\"evenodd\" fill-opacity=\"1\" stroke=\"#000000\" stroke-opacity=\"1\" stroke-width=\"3.2\"/>\n",
       "<circle clip-path=\"url(#clip9202)\" cx=\"1126.66\" cy=\"961.796\" r=\"14\" fill=\"#009af9\" fill-rule=\"evenodd\" fill-opacity=\"1\" stroke=\"#000000\" stroke-opacity=\"1\" stroke-width=\"3.2\"/>\n",
       "<circle clip-path=\"url(#clip9202)\" cx=\"1126.66\" cy=\"961.796\" r=\"14\" fill=\"#009af9\" fill-rule=\"evenodd\" fill-opacity=\"1\" stroke=\"#000000\" stroke-opacity=\"1\" stroke-width=\"3.2\"/>\n",
       "<circle clip-path=\"url(#clip9202)\" cx=\"1029.55\" cy=\"934.492\" r=\"14\" fill=\"#009af9\" fill-rule=\"evenodd\" fill-opacity=\"1\" stroke=\"#000000\" stroke-opacity=\"1\" stroke-width=\"3.2\"/>\n",
       "<circle clip-path=\"url(#clip9202)\" cx=\"1126.66\" cy=\"961.796\" r=\"14\" fill=\"#009af9\" fill-rule=\"evenodd\" fill-opacity=\"1\" stroke=\"#000000\" stroke-opacity=\"1\" stroke-width=\"3.2\"/>\n",
       "<circle clip-path=\"url(#clip9202)\" cx=\"1126.66\" cy=\"961.796\" r=\"14\" fill=\"#009af9\" fill-rule=\"evenodd\" fill-opacity=\"1\" stroke=\"#000000\" stroke-opacity=\"1\" stroke-width=\"3.2\"/>\n",
       "<circle clip-path=\"url(#clip9202)\" cx=\"1126.66\" cy=\"961.796\" r=\"14\" fill=\"#009af9\" fill-rule=\"evenodd\" fill-opacity=\"1\" stroke=\"#000000\" stroke-opacity=\"1\" stroke-width=\"3.2\"/>\n",
       "<circle clip-path=\"url(#clip9202)\" cx=\"1126.66\" cy=\"961.796\" r=\"14\" fill=\"#009af9\" fill-rule=\"evenodd\" fill-opacity=\"1\" stroke=\"#000000\" stroke-opacity=\"1\" stroke-width=\"3.2\"/>\n",
       "<circle clip-path=\"url(#clip9202)\" cx=\"1126.66\" cy=\"961.796\" r=\"14\" fill=\"#009af9\" fill-rule=\"evenodd\" fill-opacity=\"1\" stroke=\"#000000\" stroke-opacity=\"1\" stroke-width=\"3.2\"/>\n",
       "<circle clip-path=\"url(#clip9202)\" cx=\"1126.66\" cy=\"961.796\" r=\"14\" fill=\"#009af9\" fill-rule=\"evenodd\" fill-opacity=\"1\" stroke=\"#000000\" stroke-opacity=\"1\" stroke-width=\"3.2\"/>\n",
       "<circle clip-path=\"url(#clip9202)\" cx=\"1126.66\" cy=\"961.796\" r=\"14\" fill=\"#009af9\" fill-rule=\"evenodd\" fill-opacity=\"1\" stroke=\"#000000\" stroke-opacity=\"1\" stroke-width=\"3.2\"/>\n",
       "<circle clip-path=\"url(#clip9202)\" cx=\"1126.66\" cy=\"961.796\" r=\"14\" fill=\"#009af9\" fill-rule=\"evenodd\" fill-opacity=\"1\" stroke=\"#000000\" stroke-opacity=\"1\" stroke-width=\"3.2\"/>\n",
       "<circle clip-path=\"url(#clip9202)\" cx=\"1126.66\" cy=\"961.796\" r=\"14\" fill=\"#009af9\" fill-rule=\"evenodd\" fill-opacity=\"1\" stroke=\"#000000\" stroke-opacity=\"1\" stroke-width=\"3.2\"/>\n",
       "<circle clip-path=\"url(#clip9202)\" cx=\"1126.66\" cy=\"961.796\" r=\"14\" fill=\"#009af9\" fill-rule=\"evenodd\" fill-opacity=\"1\" stroke=\"#000000\" stroke-opacity=\"1\" stroke-width=\"3.2\"/>\n",
       "<circle clip-path=\"url(#clip9202)\" cx=\"1126.66\" cy=\"961.796\" r=\"14\" fill=\"#009af9\" fill-rule=\"evenodd\" fill-opacity=\"1\" stroke=\"#000000\" stroke-opacity=\"1\" stroke-width=\"3.2\"/>\n",
       "<circle clip-path=\"url(#clip9202)\" cx=\"1126.66\" cy=\"961.796\" r=\"14\" fill=\"#009af9\" fill-rule=\"evenodd\" fill-opacity=\"1\" stroke=\"#000000\" stroke-opacity=\"1\" stroke-width=\"3.2\"/>\n",
       "<circle clip-path=\"url(#clip9202)\" cx=\"1126.66\" cy=\"961.796\" r=\"14\" fill=\"#009af9\" fill-rule=\"evenodd\" fill-opacity=\"1\" stroke=\"#000000\" stroke-opacity=\"1\" stroke-width=\"3.2\"/>\n",
       "<circle clip-path=\"url(#clip9202)\" cx=\"1126.66\" cy=\"961.796\" r=\"14\" fill=\"#009af9\" fill-rule=\"evenodd\" fill-opacity=\"1\" stroke=\"#000000\" stroke-opacity=\"1\" stroke-width=\"3.2\"/>\n",
       "<circle clip-path=\"url(#clip9202)\" cx=\"1126.66\" cy=\"961.796\" r=\"14\" fill=\"#009af9\" fill-rule=\"evenodd\" fill-opacity=\"1\" stroke=\"#000000\" stroke-opacity=\"1\" stroke-width=\"3.2\"/>\n",
       "<circle clip-path=\"url(#clip9202)\" cx=\"1126.66\" cy=\"961.796\" r=\"14\" fill=\"#009af9\" fill-rule=\"evenodd\" fill-opacity=\"1\" stroke=\"#000000\" stroke-opacity=\"1\" stroke-width=\"3.2\"/>\n",
       "<circle clip-path=\"url(#clip9202)\" cx=\"1126.66\" cy=\"961.796\" r=\"14\" fill=\"#009af9\" fill-rule=\"evenodd\" fill-opacity=\"1\" stroke=\"#000000\" stroke-opacity=\"1\" stroke-width=\"3.2\"/>\n",
       "<circle clip-path=\"url(#clip9202)\" cx=\"1126.66\" cy=\"961.796\" r=\"14\" fill=\"#009af9\" fill-rule=\"evenodd\" fill-opacity=\"1\" stroke=\"#000000\" stroke-opacity=\"1\" stroke-width=\"3.2\"/>\n",
       "<circle clip-path=\"url(#clip9202)\" cx=\"1126.66\" cy=\"961.796\" r=\"14\" fill=\"#009af9\" fill-rule=\"evenodd\" fill-opacity=\"1\" stroke=\"#000000\" stroke-opacity=\"1\" stroke-width=\"3.2\"/>\n",
       "<circle clip-path=\"url(#clip9202)\" cx=\"1126.66\" cy=\"961.796\" r=\"14\" fill=\"#009af9\" fill-rule=\"evenodd\" fill-opacity=\"1\" stroke=\"#000000\" stroke-opacity=\"1\" stroke-width=\"3.2\"/>\n",
       "<circle clip-path=\"url(#clip9202)\" cx=\"1126.66\" cy=\"961.796\" r=\"14\" fill=\"#009af9\" fill-rule=\"evenodd\" fill-opacity=\"1\" stroke=\"#000000\" stroke-opacity=\"1\" stroke-width=\"3.2\"/>\n",
       "<circle clip-path=\"url(#clip9202)\" cx=\"1126.66\" cy=\"961.796\" r=\"14\" fill=\"#009af9\" fill-rule=\"evenodd\" fill-opacity=\"1\" stroke=\"#000000\" stroke-opacity=\"1\" stroke-width=\"3.2\"/>\n",
       "<circle clip-path=\"url(#clip9202)\" cx=\"1126.66\" cy=\"961.796\" r=\"14\" fill=\"#009af9\" fill-rule=\"evenodd\" fill-opacity=\"1\" stroke=\"#000000\" stroke-opacity=\"1\" stroke-width=\"3.2\"/>\n",
       "<circle clip-path=\"url(#clip9202)\" cx=\"1126.66\" cy=\"961.796\" r=\"14\" fill=\"#009af9\" fill-rule=\"evenodd\" fill-opacity=\"1\" stroke=\"#000000\" stroke-opacity=\"1\" stroke-width=\"3.2\"/>\n",
       "<circle clip-path=\"url(#clip9202)\" cx=\"1126.66\" cy=\"961.796\" r=\"14\" fill=\"#009af9\" fill-rule=\"evenodd\" fill-opacity=\"1\" stroke=\"#000000\" stroke-opacity=\"1\" stroke-width=\"3.2\"/>\n",
       "<circle clip-path=\"url(#clip9202)\" cx=\"1126.66\" cy=\"961.796\" r=\"14\" fill=\"#009af9\" fill-rule=\"evenodd\" fill-opacity=\"1\" stroke=\"#000000\" stroke-opacity=\"1\" stroke-width=\"3.2\"/>\n",
       "<circle clip-path=\"url(#clip9202)\" cx=\"1126.66\" cy=\"961.796\" r=\"14\" fill=\"#009af9\" fill-rule=\"evenodd\" fill-opacity=\"1\" stroke=\"#000000\" stroke-opacity=\"1\" stroke-width=\"3.2\"/>\n",
       "<circle clip-path=\"url(#clip9202)\" cx=\"1126.66\" cy=\"961.796\" r=\"14\" fill=\"#009af9\" fill-rule=\"evenodd\" fill-opacity=\"1\" stroke=\"#000000\" stroke-opacity=\"1\" stroke-width=\"3.2\"/>\n",
       "<circle clip-path=\"url(#clip9202)\" cx=\"1126.66\" cy=\"961.796\" r=\"14\" fill=\"#009af9\" fill-rule=\"evenodd\" fill-opacity=\"1\" stroke=\"#000000\" stroke-opacity=\"1\" stroke-width=\"3.2\"/>\n",
       "<circle clip-path=\"url(#clip9202)\" cx=\"1126.66\" cy=\"961.796\" r=\"14\" fill=\"#009af9\" fill-rule=\"evenodd\" fill-opacity=\"1\" stroke=\"#000000\" stroke-opacity=\"1\" stroke-width=\"3.2\"/>\n",
       "<circle clip-path=\"url(#clip9202)\" cx=\"1126.66\" cy=\"961.796\" r=\"14\" fill=\"#009af9\" fill-rule=\"evenodd\" fill-opacity=\"1\" stroke=\"#000000\" stroke-opacity=\"1\" stroke-width=\"3.2\"/>\n",
       "<circle clip-path=\"url(#clip9202)\" cx=\"1126.66\" cy=\"961.796\" r=\"14\" fill=\"#009af9\" fill-rule=\"evenodd\" fill-opacity=\"1\" stroke=\"#000000\" stroke-opacity=\"1\" stroke-width=\"3.2\"/>\n",
       "<circle clip-path=\"url(#clip9202)\" cx=\"1126.66\" cy=\"961.796\" r=\"14\" fill=\"#009af9\" fill-rule=\"evenodd\" fill-opacity=\"1\" stroke=\"#000000\" stroke-opacity=\"1\" stroke-width=\"3.2\"/>\n",
       "<circle clip-path=\"url(#clip9202)\" cx=\"1126.66\" cy=\"961.796\" r=\"14\" fill=\"#009af9\" fill-rule=\"evenodd\" fill-opacity=\"1\" stroke=\"#000000\" stroke-opacity=\"1\" stroke-width=\"3.2\"/>\n",
       "<circle clip-path=\"url(#clip9202)\" cx=\"1126.66\" cy=\"961.796\" r=\"14\" fill=\"#009af9\" fill-rule=\"evenodd\" fill-opacity=\"1\" stroke=\"#000000\" stroke-opacity=\"1\" stroke-width=\"3.2\"/>\n",
       "<circle clip-path=\"url(#clip9202)\" cx=\"1126.66\" cy=\"961.796\" r=\"14\" fill=\"#009af9\" fill-rule=\"evenodd\" fill-opacity=\"1\" stroke=\"#000000\" stroke-opacity=\"1\" stroke-width=\"3.2\"/>\n",
       "<circle clip-path=\"url(#clip9202)\" cx=\"1126.66\" cy=\"961.796\" r=\"14\" fill=\"#009af9\" fill-rule=\"evenodd\" fill-opacity=\"1\" stroke=\"#000000\" stroke-opacity=\"1\" stroke-width=\"3.2\"/>\n",
       "<circle clip-path=\"url(#clip9202)\" cx=\"1119.35\" cy=\"936.673\" r=\"14\" fill=\"#009af9\" fill-rule=\"evenodd\" fill-opacity=\"1\" stroke=\"#000000\" stroke-opacity=\"1\" stroke-width=\"3.2\"/>\n",
       "<circle clip-path=\"url(#clip9202)\" cx=\"1119.35\" cy=\"936.673\" r=\"14\" fill=\"#009af9\" fill-rule=\"evenodd\" fill-opacity=\"1\" stroke=\"#000000\" stroke-opacity=\"1\" stroke-width=\"3.2\"/>\n",
       "<circle clip-path=\"url(#clip9202)\" cx=\"1119.35\" cy=\"936.673\" r=\"14\" fill=\"#009af9\" fill-rule=\"evenodd\" fill-opacity=\"1\" stroke=\"#000000\" stroke-opacity=\"1\" stroke-width=\"3.2\"/>\n",
       "<circle clip-path=\"url(#clip9202)\" cx=\"1119.35\" cy=\"936.673\" r=\"14\" fill=\"#009af9\" fill-rule=\"evenodd\" fill-opacity=\"1\" stroke=\"#000000\" stroke-opacity=\"1\" stroke-width=\"3.2\"/>\n",
       "<circle clip-path=\"url(#clip9202)\" cx=\"1029.55\" cy=\"934.492\" r=\"14\" fill=\"#009af9\" fill-rule=\"evenodd\" fill-opacity=\"1\" stroke=\"#000000\" stroke-opacity=\"1\" stroke-width=\"3.2\"/>\n",
       "<circle clip-path=\"url(#clip9202)\" cx=\"1126.66\" cy=\"961.796\" r=\"14\" fill=\"#009af9\" fill-rule=\"evenodd\" fill-opacity=\"1\" stroke=\"#000000\" stroke-opacity=\"1\" stroke-width=\"3.2\"/>\n",
       "<circle clip-path=\"url(#clip9202)\" cx=\"1126.66\" cy=\"961.796\" r=\"14\" fill=\"#009af9\" fill-rule=\"evenodd\" fill-opacity=\"1\" stroke=\"#000000\" stroke-opacity=\"1\" stroke-width=\"3.2\"/>\n",
       "<circle clip-path=\"url(#clip9202)\" cx=\"1126.66\" cy=\"961.796\" r=\"14\" fill=\"#009af9\" fill-rule=\"evenodd\" fill-opacity=\"1\" stroke=\"#000000\" stroke-opacity=\"1\" stroke-width=\"3.2\"/>\n",
       "<circle clip-path=\"url(#clip9202)\" cx=\"1126.66\" cy=\"961.796\" r=\"14\" fill=\"#009af9\" fill-rule=\"evenodd\" fill-opacity=\"1\" stroke=\"#000000\" stroke-opacity=\"1\" stroke-width=\"3.2\"/>\n",
       "<circle clip-path=\"url(#clip9202)\" cx=\"1126.66\" cy=\"961.796\" r=\"14\" fill=\"#009af9\" fill-rule=\"evenodd\" fill-opacity=\"1\" stroke=\"#000000\" stroke-opacity=\"1\" stroke-width=\"3.2\"/>\n",
       "<circle clip-path=\"url(#clip9202)\" cx=\"1126.66\" cy=\"961.796\" r=\"14\" fill=\"#009af9\" fill-rule=\"evenodd\" fill-opacity=\"1\" stroke=\"#000000\" stroke-opacity=\"1\" stroke-width=\"3.2\"/>\n",
       "<circle clip-path=\"url(#clip9202)\" cx=\"1126.66\" cy=\"961.796\" r=\"14\" fill=\"#009af9\" fill-rule=\"evenodd\" fill-opacity=\"1\" stroke=\"#000000\" stroke-opacity=\"1\" stroke-width=\"3.2\"/>\n",
       "<circle clip-path=\"url(#clip9202)\" cx=\"1126.66\" cy=\"961.796\" r=\"14\" fill=\"#009af9\" fill-rule=\"evenodd\" fill-opacity=\"1\" stroke=\"#000000\" stroke-opacity=\"1\" stroke-width=\"3.2\"/>\n",
       "<circle clip-path=\"url(#clip9202)\" cx=\"1126.66\" cy=\"961.796\" r=\"14\" fill=\"#009af9\" fill-rule=\"evenodd\" fill-opacity=\"1\" stroke=\"#000000\" stroke-opacity=\"1\" stroke-width=\"3.2\"/>\n",
       "<circle clip-path=\"url(#clip9202)\" cx=\"1126.66\" cy=\"961.796\" r=\"14\" fill=\"#009af9\" fill-rule=\"evenodd\" fill-opacity=\"1\" stroke=\"#000000\" stroke-opacity=\"1\" stroke-width=\"3.2\"/>\n",
       "<circle clip-path=\"url(#clip9202)\" cx=\"1126.66\" cy=\"961.796\" r=\"14\" fill=\"#009af9\" fill-rule=\"evenodd\" fill-opacity=\"1\" stroke=\"#000000\" stroke-opacity=\"1\" stroke-width=\"3.2\"/>\n",
       "<circle clip-path=\"url(#clip9202)\" cx=\"1126.66\" cy=\"961.796\" r=\"14\" fill=\"#009af9\" fill-rule=\"evenodd\" fill-opacity=\"1\" stroke=\"#000000\" stroke-opacity=\"1\" stroke-width=\"3.2\"/>\n",
       "<circle clip-path=\"url(#clip9202)\" cx=\"1126.66\" cy=\"961.796\" r=\"14\" fill=\"#009af9\" fill-rule=\"evenodd\" fill-opacity=\"1\" stroke=\"#000000\" stroke-opacity=\"1\" stroke-width=\"3.2\"/>\n",
       "<circle clip-path=\"url(#clip9202)\" cx=\"1126.66\" cy=\"961.796\" r=\"14\" fill=\"#009af9\" fill-rule=\"evenodd\" fill-opacity=\"1\" stroke=\"#000000\" stroke-opacity=\"1\" stroke-width=\"3.2\"/>\n",
       "<circle clip-path=\"url(#clip9202)\" cx=\"1126.66\" cy=\"961.796\" r=\"14\" fill=\"#009af9\" fill-rule=\"evenodd\" fill-opacity=\"1\" stroke=\"#000000\" stroke-opacity=\"1\" stroke-width=\"3.2\"/>\n",
       "<circle clip-path=\"url(#clip9202)\" cx=\"1126.66\" cy=\"961.796\" r=\"14\" fill=\"#009af9\" fill-rule=\"evenodd\" fill-opacity=\"1\" stroke=\"#000000\" stroke-opacity=\"1\" stroke-width=\"3.2\"/>\n",
       "<circle clip-path=\"url(#clip9202)\" cx=\"1126.66\" cy=\"961.796\" r=\"14\" fill=\"#009af9\" fill-rule=\"evenodd\" fill-opacity=\"1\" stroke=\"#000000\" stroke-opacity=\"1\" stroke-width=\"3.2\"/>\n",
       "<circle clip-path=\"url(#clip9202)\" cx=\"1126.66\" cy=\"961.796\" r=\"14\" fill=\"#009af9\" fill-rule=\"evenodd\" fill-opacity=\"1\" stroke=\"#000000\" stroke-opacity=\"1\" stroke-width=\"3.2\"/>\n",
       "<circle clip-path=\"url(#clip9202)\" cx=\"1126.66\" cy=\"961.796\" r=\"14\" fill=\"#009af9\" fill-rule=\"evenodd\" fill-opacity=\"1\" stroke=\"#000000\" stroke-opacity=\"1\" stroke-width=\"3.2\"/>\n",
       "<circle clip-path=\"url(#clip9202)\" cx=\"1126.66\" cy=\"961.796\" r=\"14\" fill=\"#009af9\" fill-rule=\"evenodd\" fill-opacity=\"1\" stroke=\"#000000\" stroke-opacity=\"1\" stroke-width=\"3.2\"/>\n",
       "<circle clip-path=\"url(#clip9202)\" cx=\"1126.66\" cy=\"961.796\" r=\"14\" fill=\"#009af9\" fill-rule=\"evenodd\" fill-opacity=\"1\" stroke=\"#000000\" stroke-opacity=\"1\" stroke-width=\"3.2\"/>\n",
       "<circle clip-path=\"url(#clip9202)\" cx=\"1126.66\" cy=\"961.796\" r=\"14\" fill=\"#009af9\" fill-rule=\"evenodd\" fill-opacity=\"1\" stroke=\"#000000\" stroke-opacity=\"1\" stroke-width=\"3.2\"/>\n",
       "<circle clip-path=\"url(#clip9202)\" cx=\"1126.66\" cy=\"961.796\" r=\"14\" fill=\"#009af9\" fill-rule=\"evenodd\" fill-opacity=\"1\" stroke=\"#000000\" stroke-opacity=\"1\" stroke-width=\"3.2\"/>\n",
       "<circle clip-path=\"url(#clip9202)\" cx=\"1126.66\" cy=\"961.796\" r=\"14\" fill=\"#009af9\" fill-rule=\"evenodd\" fill-opacity=\"1\" stroke=\"#000000\" stroke-opacity=\"1\" stroke-width=\"3.2\"/>\n",
       "<circle clip-path=\"url(#clip9202)\" cx=\"1126.66\" cy=\"961.796\" r=\"14\" fill=\"#009af9\" fill-rule=\"evenodd\" fill-opacity=\"1\" stroke=\"#000000\" stroke-opacity=\"1\" stroke-width=\"3.2\"/>\n",
       "<circle clip-path=\"url(#clip9202)\" cx=\"1126.66\" cy=\"961.796\" r=\"14\" fill=\"#009af9\" fill-rule=\"evenodd\" fill-opacity=\"1\" stroke=\"#000000\" stroke-opacity=\"1\" stroke-width=\"3.2\"/>\n",
       "<circle clip-path=\"url(#clip9202)\" cx=\"1126.66\" cy=\"961.796\" r=\"14\" fill=\"#009af9\" fill-rule=\"evenodd\" fill-opacity=\"1\" stroke=\"#000000\" stroke-opacity=\"1\" stroke-width=\"3.2\"/>\n",
       "<circle clip-path=\"url(#clip9202)\" cx=\"1126.66\" cy=\"961.796\" r=\"14\" fill=\"#009af9\" fill-rule=\"evenodd\" fill-opacity=\"1\" stroke=\"#000000\" stroke-opacity=\"1\" stroke-width=\"3.2\"/>\n",
       "<circle clip-path=\"url(#clip9202)\" cx=\"1126.66\" cy=\"961.796\" r=\"14\" fill=\"#009af9\" fill-rule=\"evenodd\" fill-opacity=\"1\" stroke=\"#000000\" stroke-opacity=\"1\" stroke-width=\"3.2\"/>\n",
       "<circle clip-path=\"url(#clip9202)\" cx=\"1126.66\" cy=\"961.796\" r=\"14\" fill=\"#009af9\" fill-rule=\"evenodd\" fill-opacity=\"1\" stroke=\"#000000\" stroke-opacity=\"1\" stroke-width=\"3.2\"/>\n",
       "<circle clip-path=\"url(#clip9202)\" cx=\"1126.66\" cy=\"961.796\" r=\"14\" fill=\"#009af9\" fill-rule=\"evenodd\" fill-opacity=\"1\" stroke=\"#000000\" stroke-opacity=\"1\" stroke-width=\"3.2\"/>\n",
       "<circle clip-path=\"url(#clip9202)\" cx=\"1126.66\" cy=\"961.796\" r=\"14\" fill=\"#009af9\" fill-rule=\"evenodd\" fill-opacity=\"1\" stroke=\"#000000\" stroke-opacity=\"1\" stroke-width=\"3.2\"/>\n",
       "<circle clip-path=\"url(#clip9202)\" cx=\"1126.66\" cy=\"961.796\" r=\"14\" fill=\"#009af9\" fill-rule=\"evenodd\" fill-opacity=\"1\" stroke=\"#000000\" stroke-opacity=\"1\" stroke-width=\"3.2\"/>\n",
       "<circle clip-path=\"url(#clip9202)\" cx=\"1126.66\" cy=\"961.796\" r=\"14\" fill=\"#009af9\" fill-rule=\"evenodd\" fill-opacity=\"1\" stroke=\"#000000\" stroke-opacity=\"1\" stroke-width=\"3.2\"/>\n",
       "<circle clip-path=\"url(#clip9202)\" cx=\"1126.66\" cy=\"961.796\" r=\"14\" fill=\"#009af9\" fill-rule=\"evenodd\" fill-opacity=\"1\" stroke=\"#000000\" stroke-opacity=\"1\" stroke-width=\"3.2\"/>\n",
       "<circle clip-path=\"url(#clip9202)\" cx=\"1126.66\" cy=\"961.796\" r=\"14\" fill=\"#009af9\" fill-rule=\"evenodd\" fill-opacity=\"1\" stroke=\"#000000\" stroke-opacity=\"1\" stroke-width=\"3.2\"/>\n",
       "<circle clip-path=\"url(#clip9202)\" cx=\"1126.66\" cy=\"961.796\" r=\"14\" fill=\"#009af9\" fill-rule=\"evenodd\" fill-opacity=\"1\" stroke=\"#000000\" stroke-opacity=\"1\" stroke-width=\"3.2\"/>\n",
       "<circle clip-path=\"url(#clip9202)\" cx=\"1126.66\" cy=\"961.796\" r=\"14\" fill=\"#009af9\" fill-rule=\"evenodd\" fill-opacity=\"1\" stroke=\"#000000\" stroke-opacity=\"1\" stroke-width=\"3.2\"/>\n",
       "<circle clip-path=\"url(#clip9202)\" cx=\"1126.66\" cy=\"961.796\" r=\"14\" fill=\"#009af9\" fill-rule=\"evenodd\" fill-opacity=\"1\" stroke=\"#000000\" stroke-opacity=\"1\" stroke-width=\"3.2\"/>\n",
       "<circle clip-path=\"url(#clip9202)\" cx=\"1126.66\" cy=\"961.796\" r=\"14\" fill=\"#009af9\" fill-rule=\"evenodd\" fill-opacity=\"1\" stroke=\"#000000\" stroke-opacity=\"1\" stroke-width=\"3.2\"/>\n",
       "<circle clip-path=\"url(#clip9202)\" cx=\"1126.66\" cy=\"961.796\" r=\"14\" fill=\"#009af9\" fill-rule=\"evenodd\" fill-opacity=\"1\" stroke=\"#000000\" stroke-opacity=\"1\" stroke-width=\"3.2\"/>\n",
       "<circle clip-path=\"url(#clip9202)\" cx=\"1029.55\" cy=\"934.492\" r=\"14\" fill=\"#009af9\" fill-rule=\"evenodd\" fill-opacity=\"1\" stroke=\"#000000\" stroke-opacity=\"1\" stroke-width=\"3.2\"/>\n",
       "<circle clip-path=\"url(#clip9202)\" cx=\"1126.66\" cy=\"961.796\" r=\"14\" fill=\"#009af9\" fill-rule=\"evenodd\" fill-opacity=\"1\" stroke=\"#000000\" stroke-opacity=\"1\" stroke-width=\"3.2\"/>\n",
       "<circle clip-path=\"url(#clip9202)\" cx=\"1126.66\" cy=\"961.796\" r=\"14\" fill=\"#009af9\" fill-rule=\"evenodd\" fill-opacity=\"1\" stroke=\"#000000\" stroke-opacity=\"1\" stroke-width=\"3.2\"/>\n",
       "<circle clip-path=\"url(#clip9202)\" cx=\"1126.66\" cy=\"961.796\" r=\"14\" fill=\"#009af9\" fill-rule=\"evenodd\" fill-opacity=\"1\" stroke=\"#000000\" stroke-opacity=\"1\" stroke-width=\"3.2\"/>\n",
       "<circle clip-path=\"url(#clip9202)\" cx=\"1084.81\" cy=\"963.833\" r=\"14\" fill=\"#009af9\" fill-rule=\"evenodd\" fill-opacity=\"1\" stroke=\"#000000\" stroke-opacity=\"1\" stroke-width=\"3.2\"/>\n",
       "<circle clip-path=\"url(#clip9202)\" cx=\"1084.81\" cy=\"963.833\" r=\"14\" fill=\"#009af9\" fill-rule=\"evenodd\" fill-opacity=\"1\" stroke=\"#000000\" stroke-opacity=\"1\" stroke-width=\"3.2\"/>\n",
       "<circle clip-path=\"url(#clip9202)\" cx=\"1059.39\" cy=\"962.133\" r=\"14\" fill=\"#009af9\" fill-rule=\"evenodd\" fill-opacity=\"1\" stroke=\"#000000\" stroke-opacity=\"1\" stroke-width=\"3.2\"/>\n",
       "<circle clip-path=\"url(#clip9202)\" cx=\"1075.66\" cy=\"963.094\" r=\"14\" fill=\"#009af9\" fill-rule=\"evenodd\" fill-opacity=\"1\" stroke=\"#000000\" stroke-opacity=\"1\" stroke-width=\"3.2\"/>\n",
       "<circle clip-path=\"url(#clip9202)\" cx=\"1084.81\" cy=\"963.833\" r=\"14\" fill=\"#009af9\" fill-rule=\"evenodd\" fill-opacity=\"1\" stroke=\"#000000\" stroke-opacity=\"1\" stroke-width=\"3.2\"/>\n",
       "<circle clip-path=\"url(#clip9202)\" cx=\"1084.81\" cy=\"963.833\" r=\"14\" fill=\"#009af9\" fill-rule=\"evenodd\" fill-opacity=\"1\" stroke=\"#000000\" stroke-opacity=\"1\" stroke-width=\"3.2\"/>\n",
       "<circle clip-path=\"url(#clip9202)\" cx=\"1082.98\" cy=\"988.217\" r=\"14\" fill=\"#009af9\" fill-rule=\"evenodd\" fill-opacity=\"1\" stroke=\"#000000\" stroke-opacity=\"1\" stroke-width=\"3.2\"/>\n",
       "<circle clip-path=\"url(#clip9202)\" cx=\"1126.66\" cy=\"961.796\" r=\"14\" fill=\"#009af9\" fill-rule=\"evenodd\" fill-opacity=\"1\" stroke=\"#000000\" stroke-opacity=\"1\" stroke-width=\"3.2\"/>\n",
       "<circle clip-path=\"url(#clip9202)\" cx=\"1126.66\" cy=\"961.796\" r=\"14\" fill=\"#009af9\" fill-rule=\"evenodd\" fill-opacity=\"1\" stroke=\"#000000\" stroke-opacity=\"1\" stroke-width=\"3.2\"/>\n",
       "<circle clip-path=\"url(#clip9202)\" cx=\"1054.96\" cy=\"936.192\" r=\"14\" fill=\"#009af9\" fill-rule=\"evenodd\" fill-opacity=\"1\" stroke=\"#000000\" stroke-opacity=\"1\" stroke-width=\"3.2\"/>\n",
       "<circle clip-path=\"url(#clip9202)\" cx=\"1126.66\" cy=\"961.796\" r=\"14\" fill=\"#009af9\" fill-rule=\"evenodd\" fill-opacity=\"1\" stroke=\"#000000\" stroke-opacity=\"1\" stroke-width=\"3.2\"/>\n",
       "<circle clip-path=\"url(#clip9202)\" cx=\"1126.66\" cy=\"961.796\" r=\"14\" fill=\"#009af9\" fill-rule=\"evenodd\" fill-opacity=\"1\" stroke=\"#000000\" stroke-opacity=\"1\" stroke-width=\"3.2\"/>\n",
       "<circle clip-path=\"url(#clip9202)\" cx=\"1041.12\" cy=\"990.254\" r=\"14\" fill=\"#009af9\" fill-rule=\"evenodd\" fill-opacity=\"1\" stroke=\"#000000\" stroke-opacity=\"1\" stroke-width=\"3.2\"/>\n",
       "<circle clip-path=\"url(#clip9202)\" cx=\"1126.66\" cy=\"961.796\" r=\"14\" fill=\"#009af9\" fill-rule=\"evenodd\" fill-opacity=\"1\" stroke=\"#000000\" stroke-opacity=\"1\" stroke-width=\"3.2\"/>\n",
       "<circle clip-path=\"url(#clip9202)\" cx=\"1126.66\" cy=\"961.796\" r=\"14\" fill=\"#009af9\" fill-rule=\"evenodd\" fill-opacity=\"1\" stroke=\"#000000\" stroke-opacity=\"1\" stroke-width=\"3.2\"/>\n",
       "<circle clip-path=\"url(#clip9202)\" cx=\"1126.66\" cy=\"961.796\" r=\"14\" fill=\"#009af9\" fill-rule=\"evenodd\" fill-opacity=\"1\" stroke=\"#000000\" stroke-opacity=\"1\" stroke-width=\"3.2\"/>\n",
       "<circle clip-path=\"url(#clip9202)\" cx=\"1126.66\" cy=\"961.796\" r=\"14\" fill=\"#009af9\" fill-rule=\"evenodd\" fill-opacity=\"1\" stroke=\"#000000\" stroke-opacity=\"1\" stroke-width=\"3.2\"/>\n",
       "<circle clip-path=\"url(#clip9202)\" cx=\"1029.55\" cy=\"934.492\" r=\"14\" fill=\"#e26f46\" fill-rule=\"evenodd\" fill-opacity=\"1\" stroke=\"#000000\" stroke-opacity=\"1\" stroke-width=\"3.2\"/>\n",
       "<circle clip-path=\"url(#clip9202)\" cx=\"1126.66\" cy=\"961.796\" r=\"14\" fill=\"#e26f46\" fill-rule=\"evenodd\" fill-opacity=\"1\" stroke=\"#000000\" stroke-opacity=\"1\" stroke-width=\"3.2\"/>\n",
       "<circle clip-path=\"url(#clip9202)\" cx=\"1119.35\" cy=\"936.673\" r=\"14\" fill=\"#e26f46\" fill-rule=\"evenodd\" fill-opacity=\"1\" stroke=\"#000000\" stroke-opacity=\"1\" stroke-width=\"3.2\"/>\n",
       "<circle clip-path=\"url(#clip9202)\" cx=\"1126.66\" cy=\"961.796\" r=\"14\" fill=\"#e26f46\" fill-rule=\"evenodd\" fill-opacity=\"1\" stroke=\"#000000\" stroke-opacity=\"1\" stroke-width=\"3.2\"/>\n",
       "<circle clip-path=\"url(#clip9202)\" cx=\"1029.55\" cy=\"934.492\" r=\"14\" fill=\"#e26f46\" fill-rule=\"evenodd\" fill-opacity=\"1\" stroke=\"#000000\" stroke-opacity=\"1\" stroke-width=\"3.2\"/>\n",
       "<circle clip-path=\"url(#clip9202)\" cx=\"1093.94\" cy=\"934.973\" r=\"14\" fill=\"#e26f46\" fill-rule=\"evenodd\" fill-opacity=\"1\" stroke=\"#000000\" stroke-opacity=\"1\" stroke-width=\"3.2\"/>\n",
       "<circle clip-path=\"url(#clip9202)\" cx=\"1093.94\" cy=\"934.973\" r=\"14\" fill=\"#e26f46\" fill-rule=\"evenodd\" fill-opacity=\"1\" stroke=\"#000000\" stroke-opacity=\"1\" stroke-width=\"3.2\"/>\n",
       "<circle clip-path=\"url(#clip9202)\" cx=\"1119.35\" cy=\"936.673\" r=\"14\" fill=\"#e26f46\" fill-rule=\"evenodd\" fill-opacity=\"1\" stroke=\"#000000\" stroke-opacity=\"1\" stroke-width=\"3.2\"/>\n",
       "<circle clip-path=\"url(#clip9202)\" cx=\"1126.66\" cy=\"961.796\" r=\"14\" fill=\"#e26f46\" fill-rule=\"evenodd\" fill-opacity=\"1\" stroke=\"#000000\" stroke-opacity=\"1\" stroke-width=\"3.2\"/>\n",
       "<circle clip-path=\"url(#clip9202)\" cx=\"1126.66\" cy=\"961.796\" r=\"14\" fill=\"#e26f46\" fill-rule=\"evenodd\" fill-opacity=\"1\" stroke=\"#000000\" stroke-opacity=\"1\" stroke-width=\"3.2\"/>\n",
       "<circle clip-path=\"url(#clip9202)\" cx=\"1126.66\" cy=\"961.796\" r=\"14\" fill=\"#e26f46\" fill-rule=\"evenodd\" fill-opacity=\"1\" stroke=\"#000000\" stroke-opacity=\"1\" stroke-width=\"3.2\"/>\n",
       "<circle clip-path=\"url(#clip9202)\" cx=\"1126.66\" cy=\"961.796\" r=\"14\" fill=\"#e26f46\" fill-rule=\"evenodd\" fill-opacity=\"1\" stroke=\"#000000\" stroke-opacity=\"1\" stroke-width=\"3.2\"/>\n",
       "<circle clip-path=\"url(#clip9202)\" cx=\"1126.66\" cy=\"961.796\" r=\"14\" fill=\"#e26f46\" fill-rule=\"evenodd\" fill-opacity=\"1\" stroke=\"#000000\" stroke-opacity=\"1\" stroke-width=\"3.2\"/>\n",
       "<circle clip-path=\"url(#clip9202)\" cx=\"1126.66\" cy=\"961.796\" r=\"14\" fill=\"#e26f46\" fill-rule=\"evenodd\" fill-opacity=\"1\" stroke=\"#000000\" stroke-opacity=\"1\" stroke-width=\"3.2\"/>\n",
       "<circle clip-path=\"url(#clip9202)\" cx=\"1126.66\" cy=\"961.796\" r=\"14\" fill=\"#e26f46\" fill-rule=\"evenodd\" fill-opacity=\"1\" stroke=\"#000000\" stroke-opacity=\"1\" stroke-width=\"3.2\"/>\n",
       "<circle clip-path=\"url(#clip9202)\" cx=\"1126.66\" cy=\"961.796\" r=\"14\" fill=\"#e26f46\" fill-rule=\"evenodd\" fill-opacity=\"1\" stroke=\"#000000\" stroke-opacity=\"1\" stroke-width=\"3.2\"/>\n",
       "<circle clip-path=\"url(#clip9202)\" cx=\"1126.66\" cy=\"961.796\" r=\"14\" fill=\"#e26f46\" fill-rule=\"evenodd\" fill-opacity=\"1\" stroke=\"#000000\" stroke-opacity=\"1\" stroke-width=\"3.2\"/>\n",
       "<circle clip-path=\"url(#clip9202)\" cx=\"1126.66\" cy=\"961.796\" r=\"14\" fill=\"#e26f46\" fill-rule=\"evenodd\" fill-opacity=\"1\" stroke=\"#000000\" stroke-opacity=\"1\" stroke-width=\"3.2\"/>\n",
       "<circle clip-path=\"url(#clip9202)\" cx=\"1126.66\" cy=\"961.796\" r=\"14\" fill=\"#e26f46\" fill-rule=\"evenodd\" fill-opacity=\"1\" stroke=\"#000000\" stroke-opacity=\"1\" stroke-width=\"3.2\"/>\n",
       "<circle clip-path=\"url(#clip9202)\" cx=\"1126.66\" cy=\"961.796\" r=\"14\" fill=\"#e26f46\" fill-rule=\"evenodd\" fill-opacity=\"1\" stroke=\"#000000\" stroke-opacity=\"1\" stroke-width=\"3.2\"/>\n",
       "<circle clip-path=\"url(#clip9202)\" cx=\"1126.66\" cy=\"961.796\" r=\"14\" fill=\"#e26f46\" fill-rule=\"evenodd\" fill-opacity=\"1\" stroke=\"#000000\" stroke-opacity=\"1\" stroke-width=\"3.2\"/>\n",
       "<circle clip-path=\"url(#clip9202)\" cx=\"1126.66\" cy=\"961.796\" r=\"14\" fill=\"#e26f46\" fill-rule=\"evenodd\" fill-opacity=\"1\" stroke=\"#000000\" stroke-opacity=\"1\" stroke-width=\"3.2\"/>\n",
       "<circle clip-path=\"url(#clip9202)\" cx=\"1126.66\" cy=\"961.796\" r=\"14\" fill=\"#e26f46\" fill-rule=\"evenodd\" fill-opacity=\"1\" stroke=\"#000000\" stroke-opacity=\"1\" stroke-width=\"3.2\"/>\n",
       "<circle clip-path=\"url(#clip9202)\" cx=\"1126.66\" cy=\"961.796\" r=\"14\" fill=\"#e26f46\" fill-rule=\"evenodd\" fill-opacity=\"1\" stroke=\"#000000\" stroke-opacity=\"1\" stroke-width=\"3.2\"/>\n",
       "<circle clip-path=\"url(#clip9202)\" cx=\"1126.66\" cy=\"961.796\" r=\"14\" fill=\"#e26f46\" fill-rule=\"evenodd\" fill-opacity=\"1\" stroke=\"#000000\" stroke-opacity=\"1\" stroke-width=\"3.2\"/>\n",
       "<circle clip-path=\"url(#clip9202)\" cx=\"1126.66\" cy=\"961.796\" r=\"14\" fill=\"#e26f46\" fill-rule=\"evenodd\" fill-opacity=\"1\" stroke=\"#000000\" stroke-opacity=\"1\" stroke-width=\"3.2\"/>\n",
       "<circle clip-path=\"url(#clip9202)\" cx=\"1126.66\" cy=\"961.796\" r=\"14\" fill=\"#e26f46\" fill-rule=\"evenodd\" fill-opacity=\"1\" stroke=\"#000000\" stroke-opacity=\"1\" stroke-width=\"3.2\"/>\n",
       "<circle clip-path=\"url(#clip9202)\" cx=\"1126.66\" cy=\"961.796\" r=\"14\" fill=\"#e26f46\" fill-rule=\"evenodd\" fill-opacity=\"1\" stroke=\"#000000\" stroke-opacity=\"1\" stroke-width=\"3.2\"/>\n",
       "<circle clip-path=\"url(#clip9202)\" cx=\"1126.66\" cy=\"961.796\" r=\"14\" fill=\"#e26f46\" fill-rule=\"evenodd\" fill-opacity=\"1\" stroke=\"#000000\" stroke-opacity=\"1\" stroke-width=\"3.2\"/>\n",
       "<circle clip-path=\"url(#clip9202)\" cx=\"1126.66\" cy=\"961.796\" r=\"14\" fill=\"#e26f46\" fill-rule=\"evenodd\" fill-opacity=\"1\" stroke=\"#000000\" stroke-opacity=\"1\" stroke-width=\"3.2\"/>\n",
       "<circle clip-path=\"url(#clip9202)\" cx=\"1126.66\" cy=\"961.796\" r=\"14\" fill=\"#e26f46\" fill-rule=\"evenodd\" fill-opacity=\"1\" stroke=\"#000000\" stroke-opacity=\"1\" stroke-width=\"3.2\"/>\n",
       "<circle clip-path=\"url(#clip9202)\" cx=\"1126.66\" cy=\"961.796\" r=\"14\" fill=\"#e26f46\" fill-rule=\"evenodd\" fill-opacity=\"1\" stroke=\"#000000\" stroke-opacity=\"1\" stroke-width=\"3.2\"/>\n",
       "<circle clip-path=\"url(#clip9202)\" cx=\"1126.66\" cy=\"961.796\" r=\"14\" fill=\"#e26f46\" fill-rule=\"evenodd\" fill-opacity=\"1\" stroke=\"#000000\" stroke-opacity=\"1\" stroke-width=\"3.2\"/>\n",
       "<circle clip-path=\"url(#clip9202)\" cx=\"1126.66\" cy=\"961.796\" r=\"14\" fill=\"#e26f46\" fill-rule=\"evenodd\" fill-opacity=\"1\" stroke=\"#000000\" stroke-opacity=\"1\" stroke-width=\"3.2\"/>\n",
       "<circle clip-path=\"url(#clip9202)\" cx=\"1126.66\" cy=\"961.796\" r=\"14\" fill=\"#e26f46\" fill-rule=\"evenodd\" fill-opacity=\"1\" stroke=\"#000000\" stroke-opacity=\"1\" stroke-width=\"3.2\"/>\n",
       "<circle clip-path=\"url(#clip9202)\" cx=\"1126.66\" cy=\"961.796\" r=\"14\" fill=\"#e26f46\" fill-rule=\"evenodd\" fill-opacity=\"1\" stroke=\"#000000\" stroke-opacity=\"1\" stroke-width=\"3.2\"/>\n",
       "<circle clip-path=\"url(#clip9202)\" cx=\"1126.66\" cy=\"961.796\" r=\"14\" fill=\"#e26f46\" fill-rule=\"evenodd\" fill-opacity=\"1\" stroke=\"#000000\" stroke-opacity=\"1\" stroke-width=\"3.2\"/>\n",
       "<circle clip-path=\"url(#clip9202)\" cx=\"1126.66\" cy=\"961.796\" r=\"14\" fill=\"#e26f46\" fill-rule=\"evenodd\" fill-opacity=\"1\" stroke=\"#000000\" stroke-opacity=\"1\" stroke-width=\"3.2\"/>\n",
       "<circle clip-path=\"url(#clip9202)\" cx=\"1126.66\" cy=\"961.796\" r=\"14\" fill=\"#e26f46\" fill-rule=\"evenodd\" fill-opacity=\"1\" stroke=\"#000000\" stroke-opacity=\"1\" stroke-width=\"3.2\"/>\n",
       "<circle clip-path=\"url(#clip9202)\" cx=\"1126.66\" cy=\"961.796\" r=\"14\" fill=\"#e26f46\" fill-rule=\"evenodd\" fill-opacity=\"1\" stroke=\"#000000\" stroke-opacity=\"1\" stroke-width=\"3.2\"/>\n",
       "<circle clip-path=\"url(#clip9202)\" cx=\"1126.66\" cy=\"961.796\" r=\"14\" fill=\"#e26f46\" fill-rule=\"evenodd\" fill-opacity=\"1\" stroke=\"#000000\" stroke-opacity=\"1\" stroke-width=\"3.2\"/>\n",
       "<circle clip-path=\"url(#clip9202)\" cx=\"1126.66\" cy=\"961.796\" r=\"14\" fill=\"#e26f46\" fill-rule=\"evenodd\" fill-opacity=\"1\" stroke=\"#000000\" stroke-opacity=\"1\" stroke-width=\"3.2\"/>\n",
       "<circle clip-path=\"url(#clip9202)\" cx=\"1126.66\" cy=\"961.796\" r=\"14\" fill=\"#e26f46\" fill-rule=\"evenodd\" fill-opacity=\"1\" stroke=\"#000000\" stroke-opacity=\"1\" stroke-width=\"3.2\"/>\n",
       "<circle clip-path=\"url(#clip9202)\" cx=\"1126.66\" cy=\"961.796\" r=\"14\" fill=\"#e26f46\" fill-rule=\"evenodd\" fill-opacity=\"1\" stroke=\"#000000\" stroke-opacity=\"1\" stroke-width=\"3.2\"/>\n",
       "<circle clip-path=\"url(#clip9202)\" cx=\"1126.66\" cy=\"961.796\" r=\"14\" fill=\"#e26f46\" fill-rule=\"evenodd\" fill-opacity=\"1\" stroke=\"#000000\" stroke-opacity=\"1\" stroke-width=\"3.2\"/>\n",
       "<circle clip-path=\"url(#clip9202)\" cx=\"1126.66\" cy=\"961.796\" r=\"14\" fill=\"#e26f46\" fill-rule=\"evenodd\" fill-opacity=\"1\" stroke=\"#000000\" stroke-opacity=\"1\" stroke-width=\"3.2\"/>\n",
       "<circle clip-path=\"url(#clip9202)\" cx=\"1126.66\" cy=\"961.796\" r=\"14\" fill=\"#e26f46\" fill-rule=\"evenodd\" fill-opacity=\"1\" stroke=\"#000000\" stroke-opacity=\"1\" stroke-width=\"3.2\"/>\n",
       "<circle clip-path=\"url(#clip9202)\" cx=\"1126.66\" cy=\"961.796\" r=\"14\" fill=\"#e26f46\" fill-rule=\"evenodd\" fill-opacity=\"1\" stroke=\"#000000\" stroke-opacity=\"1\" stroke-width=\"3.2\"/>\n",
       "<circle clip-path=\"url(#clip9202)\" cx=\"1126.66\" cy=\"961.796\" r=\"14\" fill=\"#e26f46\" fill-rule=\"evenodd\" fill-opacity=\"1\" stroke=\"#000000\" stroke-opacity=\"1\" stroke-width=\"3.2\"/>\n",
       "<circle clip-path=\"url(#clip9202)\" cx=\"1126.66\" cy=\"961.796\" r=\"14\" fill=\"#e26f46\" fill-rule=\"evenodd\" fill-opacity=\"1\" stroke=\"#000000\" stroke-opacity=\"1\" stroke-width=\"3.2\"/>\n",
       "<circle clip-path=\"url(#clip9202)\" cx=\"1126.66\" cy=\"961.796\" r=\"14\" fill=\"#e26f46\" fill-rule=\"evenodd\" fill-opacity=\"1\" stroke=\"#000000\" stroke-opacity=\"1\" stroke-width=\"3.2\"/>\n",
       "<circle clip-path=\"url(#clip9202)\" cx=\"1126.66\" cy=\"961.796\" r=\"14\" fill=\"#e26f46\" fill-rule=\"evenodd\" fill-opacity=\"1\" stroke=\"#000000\" stroke-opacity=\"1\" stroke-width=\"3.2\"/>\n",
       "<circle clip-path=\"url(#clip9202)\" cx=\"1126.66\" cy=\"961.796\" r=\"14\" fill=\"#e26f46\" fill-rule=\"evenodd\" fill-opacity=\"1\" stroke=\"#000000\" stroke-opacity=\"1\" stroke-width=\"3.2\"/>\n",
       "<circle clip-path=\"url(#clip9202)\" cx=\"1126.66\" cy=\"961.796\" r=\"14\" fill=\"#e26f46\" fill-rule=\"evenodd\" fill-opacity=\"1\" stroke=\"#000000\" stroke-opacity=\"1\" stroke-width=\"3.2\"/>\n",
       "<circle clip-path=\"url(#clip9202)\" cx=\"1126.66\" cy=\"961.796\" r=\"14\" fill=\"#e26f46\" fill-rule=\"evenodd\" fill-opacity=\"1\" stroke=\"#000000\" stroke-opacity=\"1\" stroke-width=\"3.2\"/>\n",
       "<circle clip-path=\"url(#clip9202)\" cx=\"1126.66\" cy=\"961.796\" r=\"14\" fill=\"#e26f46\" fill-rule=\"evenodd\" fill-opacity=\"1\" stroke=\"#000000\" stroke-opacity=\"1\" stroke-width=\"3.2\"/>\n",
       "<circle clip-path=\"url(#clip9202)\" cx=\"1126.66\" cy=\"961.796\" r=\"14\" fill=\"#e26f46\" fill-rule=\"evenodd\" fill-opacity=\"1\" stroke=\"#000000\" stroke-opacity=\"1\" stroke-width=\"3.2\"/>\n",
       "<circle clip-path=\"url(#clip9202)\" cx=\"1126.66\" cy=\"961.796\" r=\"14\" fill=\"#e26f46\" fill-rule=\"evenodd\" fill-opacity=\"1\" stroke=\"#000000\" stroke-opacity=\"1\" stroke-width=\"3.2\"/>\n",
       "<circle clip-path=\"url(#clip9202)\" cx=\"1126.66\" cy=\"961.796\" r=\"14\" fill=\"#e26f46\" fill-rule=\"evenodd\" fill-opacity=\"1\" stroke=\"#000000\" stroke-opacity=\"1\" stroke-width=\"3.2\"/>\n",
       "<circle clip-path=\"url(#clip9202)\" cx=\"1126.66\" cy=\"961.796\" r=\"14\" fill=\"#e26f46\" fill-rule=\"evenodd\" fill-opacity=\"1\" stroke=\"#000000\" stroke-opacity=\"1\" stroke-width=\"3.2\"/>\n",
       "<circle clip-path=\"url(#clip9202)\" cx=\"1126.66\" cy=\"961.796\" r=\"14\" fill=\"#e26f46\" fill-rule=\"evenodd\" fill-opacity=\"1\" stroke=\"#000000\" stroke-opacity=\"1\" stroke-width=\"3.2\"/>\n",
       "<circle clip-path=\"url(#clip9202)\" cx=\"1126.66\" cy=\"961.796\" r=\"14\" fill=\"#e26f46\" fill-rule=\"evenodd\" fill-opacity=\"1\" stroke=\"#000000\" stroke-opacity=\"1\" stroke-width=\"3.2\"/>\n",
       "<circle clip-path=\"url(#clip9202)\" cx=\"1126.66\" cy=\"961.796\" r=\"14\" fill=\"#e26f46\" fill-rule=\"evenodd\" fill-opacity=\"1\" stroke=\"#000000\" stroke-opacity=\"1\" stroke-width=\"3.2\"/>\n",
       "<circle clip-path=\"url(#clip9202)\" cx=\"1126.66\" cy=\"961.796\" r=\"14\" fill=\"#e26f46\" fill-rule=\"evenodd\" fill-opacity=\"1\" stroke=\"#000000\" stroke-opacity=\"1\" stroke-width=\"3.2\"/>\n",
       "<circle clip-path=\"url(#clip9202)\" cx=\"1126.66\" cy=\"961.796\" r=\"14\" fill=\"#e26f46\" fill-rule=\"evenodd\" fill-opacity=\"1\" stroke=\"#000000\" stroke-opacity=\"1\" stroke-width=\"3.2\"/>\n",
       "<circle clip-path=\"url(#clip9202)\" cx=\"1126.66\" cy=\"961.796\" r=\"14\" fill=\"#e26f46\" fill-rule=\"evenodd\" fill-opacity=\"1\" stroke=\"#000000\" stroke-opacity=\"1\" stroke-width=\"3.2\"/>\n",
       "<circle clip-path=\"url(#clip9202)\" cx=\"1126.66\" cy=\"961.796\" r=\"14\" fill=\"#e26f46\" fill-rule=\"evenodd\" fill-opacity=\"1\" stroke=\"#000000\" stroke-opacity=\"1\" stroke-width=\"3.2\"/>\n",
       "<circle clip-path=\"url(#clip9202)\" cx=\"1126.66\" cy=\"961.796\" r=\"14\" fill=\"#e26f46\" fill-rule=\"evenodd\" fill-opacity=\"1\" stroke=\"#000000\" stroke-opacity=\"1\" stroke-width=\"3.2\"/>\n",
       "<circle clip-path=\"url(#clip9202)\" cx=\"1126.66\" cy=\"961.796\" r=\"14\" fill=\"#e26f46\" fill-rule=\"evenodd\" fill-opacity=\"1\" stroke=\"#000000\" stroke-opacity=\"1\" stroke-width=\"3.2\"/>\n",
       "<circle clip-path=\"url(#clip9202)\" cx=\"1126.66\" cy=\"961.796\" r=\"14\" fill=\"#e26f46\" fill-rule=\"evenodd\" fill-opacity=\"1\" stroke=\"#000000\" stroke-opacity=\"1\" stroke-width=\"3.2\"/>\n",
       "<circle clip-path=\"url(#clip9202)\" cx=\"1126.66\" cy=\"961.796\" r=\"14\" fill=\"#e26f46\" fill-rule=\"evenodd\" fill-opacity=\"1\" stroke=\"#000000\" stroke-opacity=\"1\" stroke-width=\"3.2\"/>\n",
       "<circle clip-path=\"url(#clip9202)\" cx=\"1126.66\" cy=\"961.796\" r=\"14\" fill=\"#e26f46\" fill-rule=\"evenodd\" fill-opacity=\"1\" stroke=\"#000000\" stroke-opacity=\"1\" stroke-width=\"3.2\"/>\n",
       "<circle clip-path=\"url(#clip9202)\" cx=\"1126.66\" cy=\"961.796\" r=\"14\" fill=\"#e26f46\" fill-rule=\"evenodd\" fill-opacity=\"1\" stroke=\"#000000\" stroke-opacity=\"1\" stroke-width=\"3.2\"/>\n",
       "<circle clip-path=\"url(#clip9202)\" cx=\"1126.66\" cy=\"961.796\" r=\"14\" fill=\"#e26f46\" fill-rule=\"evenodd\" fill-opacity=\"1\" stroke=\"#000000\" stroke-opacity=\"1\" stroke-width=\"3.2\"/>\n",
       "<circle clip-path=\"url(#clip9202)\" cx=\"1126.66\" cy=\"961.796\" r=\"14\" fill=\"#e26f46\" fill-rule=\"evenodd\" fill-opacity=\"1\" stroke=\"#000000\" stroke-opacity=\"1\" stroke-width=\"3.2\"/>\n",
       "<circle clip-path=\"url(#clip9202)\" cx=\"1126.66\" cy=\"961.796\" r=\"14\" fill=\"#e26f46\" fill-rule=\"evenodd\" fill-opacity=\"1\" stroke=\"#000000\" stroke-opacity=\"1\" stroke-width=\"3.2\"/>\n",
       "<circle clip-path=\"url(#clip9202)\" cx=\"1126.66\" cy=\"961.796\" r=\"14\" fill=\"#e26f46\" fill-rule=\"evenodd\" fill-opacity=\"1\" stroke=\"#000000\" stroke-opacity=\"1\" stroke-width=\"3.2\"/>\n",
       "<circle clip-path=\"url(#clip9202)\" cx=\"1126.66\" cy=\"961.796\" r=\"14\" fill=\"#e26f46\" fill-rule=\"evenodd\" fill-opacity=\"1\" stroke=\"#000000\" stroke-opacity=\"1\" stroke-width=\"3.2\"/>\n",
       "<circle clip-path=\"url(#clip9202)\" cx=\"1126.66\" cy=\"961.796\" r=\"14\" fill=\"#e26f46\" fill-rule=\"evenodd\" fill-opacity=\"1\" stroke=\"#000000\" stroke-opacity=\"1\" stroke-width=\"3.2\"/>\n",
       "<circle clip-path=\"url(#clip9202)\" cx=\"1126.66\" cy=\"961.796\" r=\"14\" fill=\"#e26f46\" fill-rule=\"evenodd\" fill-opacity=\"1\" stroke=\"#000000\" stroke-opacity=\"1\" stroke-width=\"3.2\"/>\n",
       "<circle clip-path=\"url(#clip9202)\" cx=\"1126.66\" cy=\"961.796\" r=\"14\" fill=\"#e26f46\" fill-rule=\"evenodd\" fill-opacity=\"1\" stroke=\"#000000\" stroke-opacity=\"1\" stroke-width=\"3.2\"/>\n",
       "<circle clip-path=\"url(#clip9202)\" cx=\"1126.66\" cy=\"961.796\" r=\"14\" fill=\"#e26f46\" fill-rule=\"evenodd\" fill-opacity=\"1\" stroke=\"#000000\" stroke-opacity=\"1\" stroke-width=\"3.2\"/>\n",
       "<circle clip-path=\"url(#clip9202)\" cx=\"1126.66\" cy=\"961.796\" r=\"14\" fill=\"#e26f46\" fill-rule=\"evenodd\" fill-opacity=\"1\" stroke=\"#000000\" stroke-opacity=\"1\" stroke-width=\"3.2\"/>\n",
       "<circle clip-path=\"url(#clip9202)\" cx=\"1126.66\" cy=\"961.796\" r=\"14\" fill=\"#e26f46\" fill-rule=\"evenodd\" fill-opacity=\"1\" stroke=\"#000000\" stroke-opacity=\"1\" stroke-width=\"3.2\"/>\n",
       "<circle clip-path=\"url(#clip9202)\" cx=\"1126.66\" cy=\"961.796\" r=\"14\" fill=\"#e26f46\" fill-rule=\"evenodd\" fill-opacity=\"1\" stroke=\"#000000\" stroke-opacity=\"1\" stroke-width=\"3.2\"/>\n",
       "<circle clip-path=\"url(#clip9202)\" cx=\"1126.66\" cy=\"961.796\" r=\"14\" fill=\"#e26f46\" fill-rule=\"evenodd\" fill-opacity=\"1\" stroke=\"#000000\" stroke-opacity=\"1\" stroke-width=\"3.2\"/>\n",
       "<circle clip-path=\"url(#clip9202)\" cx=\"1126.66\" cy=\"961.796\" r=\"14\" fill=\"#e26f46\" fill-rule=\"evenodd\" fill-opacity=\"1\" stroke=\"#000000\" stroke-opacity=\"1\" stroke-width=\"3.2\"/>\n",
       "<circle clip-path=\"url(#clip9202)\" cx=\"1126.66\" cy=\"961.796\" r=\"14\" fill=\"#e26f46\" fill-rule=\"evenodd\" fill-opacity=\"1\" stroke=\"#000000\" stroke-opacity=\"1\" stroke-width=\"3.2\"/>\n",
       "<circle clip-path=\"url(#clip9202)\" cx=\"1126.66\" cy=\"961.796\" r=\"14\" fill=\"#e26f46\" fill-rule=\"evenodd\" fill-opacity=\"1\" stroke=\"#000000\" stroke-opacity=\"1\" stroke-width=\"3.2\"/>\n",
       "<circle clip-path=\"url(#clip9202)\" cx=\"1126.66\" cy=\"961.796\" r=\"14\" fill=\"#e26f46\" fill-rule=\"evenodd\" fill-opacity=\"1\" stroke=\"#000000\" stroke-opacity=\"1\" stroke-width=\"3.2\"/>\n",
       "<circle clip-path=\"url(#clip9202)\" cx=\"1126.66\" cy=\"961.796\" r=\"14\" fill=\"#e26f46\" fill-rule=\"evenodd\" fill-opacity=\"1\" stroke=\"#000000\" stroke-opacity=\"1\" stroke-width=\"3.2\"/>\n",
       "<circle clip-path=\"url(#clip9202)\" cx=\"1126.66\" cy=\"961.796\" r=\"14\" fill=\"#e26f46\" fill-rule=\"evenodd\" fill-opacity=\"1\" stroke=\"#000000\" stroke-opacity=\"1\" stroke-width=\"3.2\"/>\n",
       "<circle clip-path=\"url(#clip9202)\" cx=\"1126.66\" cy=\"961.796\" r=\"14\" fill=\"#e26f46\" fill-rule=\"evenodd\" fill-opacity=\"1\" stroke=\"#000000\" stroke-opacity=\"1\" stroke-width=\"3.2\"/>\n",
       "<circle clip-path=\"url(#clip9202)\" cx=\"1126.66\" cy=\"961.796\" r=\"14\" fill=\"#e26f46\" fill-rule=\"evenodd\" fill-opacity=\"1\" stroke=\"#000000\" stroke-opacity=\"1\" stroke-width=\"3.2\"/>\n",
       "<circle clip-path=\"url(#clip9202)\" cx=\"1126.66\" cy=\"961.796\" r=\"14\" fill=\"#e26f46\" fill-rule=\"evenodd\" fill-opacity=\"1\" stroke=\"#000000\" stroke-opacity=\"1\" stroke-width=\"3.2\"/>\n",
       "<circle clip-path=\"url(#clip9202)\" cx=\"1029.55\" cy=\"934.492\" r=\"14\" fill=\"#e26f46\" fill-rule=\"evenodd\" fill-opacity=\"1\" stroke=\"#000000\" stroke-opacity=\"1\" stroke-width=\"3.2\"/>\n",
       "<circle clip-path=\"url(#clip9202)\" cx=\"1126.66\" cy=\"961.796\" r=\"14\" fill=\"#e26f46\" fill-rule=\"evenodd\" fill-opacity=\"1\" stroke=\"#000000\" stroke-opacity=\"1\" stroke-width=\"3.2\"/>\n",
       "<circle clip-path=\"url(#clip9202)\" cx=\"1126.66\" cy=\"961.796\" r=\"14\" fill=\"#e26f46\" fill-rule=\"evenodd\" fill-opacity=\"1\" stroke=\"#000000\" stroke-opacity=\"1\" stroke-width=\"3.2\"/>\n",
       "<circle clip-path=\"url(#clip9202)\" cx=\"1126.66\" cy=\"961.796\" r=\"14\" fill=\"#e26f46\" fill-rule=\"evenodd\" fill-opacity=\"1\" stroke=\"#000000\" stroke-opacity=\"1\" stroke-width=\"3.2\"/>\n",
       "<circle clip-path=\"url(#clip9202)\" cx=\"1126.66\" cy=\"961.796\" r=\"14\" fill=\"#e26f46\" fill-rule=\"evenodd\" fill-opacity=\"1\" stroke=\"#000000\" stroke-opacity=\"1\" stroke-width=\"3.2\"/>\n",
       "<circle clip-path=\"url(#clip9202)\" cx=\"1126.66\" cy=\"961.796\" r=\"14\" fill=\"#e26f46\" fill-rule=\"evenodd\" fill-opacity=\"1\" stroke=\"#000000\" stroke-opacity=\"1\" stroke-width=\"3.2\"/>\n",
       "<circle clip-path=\"url(#clip9202)\" cx=\"1126.66\" cy=\"961.796\" r=\"14\" fill=\"#e26f46\" fill-rule=\"evenodd\" fill-opacity=\"1\" stroke=\"#000000\" stroke-opacity=\"1\" stroke-width=\"3.2\"/>\n",
       "<circle clip-path=\"url(#clip9202)\" cx=\"1126.66\" cy=\"961.796\" r=\"14\" fill=\"#e26f46\" fill-rule=\"evenodd\" fill-opacity=\"1\" stroke=\"#000000\" stroke-opacity=\"1\" stroke-width=\"3.2\"/>\n",
       "<circle clip-path=\"url(#clip9202)\" cx=\"1126.66\" cy=\"961.796\" r=\"14\" fill=\"#e26f46\" fill-rule=\"evenodd\" fill-opacity=\"1\" stroke=\"#000000\" stroke-opacity=\"1\" stroke-width=\"3.2\"/>\n",
       "<circle clip-path=\"url(#clip9202)\" cx=\"1126.66\" cy=\"961.796\" r=\"14\" fill=\"#e26f46\" fill-rule=\"evenodd\" fill-opacity=\"1\" stroke=\"#000000\" stroke-opacity=\"1\" stroke-width=\"3.2\"/>\n",
       "<circle clip-path=\"url(#clip9202)\" cx=\"1126.66\" cy=\"961.796\" r=\"14\" fill=\"#e26f46\" fill-rule=\"evenodd\" fill-opacity=\"1\" stroke=\"#000000\" stroke-opacity=\"1\" stroke-width=\"3.2\"/>\n",
       "<circle clip-path=\"url(#clip9202)\" cx=\"1126.66\" cy=\"961.796\" r=\"14\" fill=\"#e26f46\" fill-rule=\"evenodd\" fill-opacity=\"1\" stroke=\"#000000\" stroke-opacity=\"1\" stroke-width=\"3.2\"/>\n",
       "<circle clip-path=\"url(#clip9202)\" cx=\"1126.66\" cy=\"961.796\" r=\"14\" fill=\"#e26f46\" fill-rule=\"evenodd\" fill-opacity=\"1\" stroke=\"#000000\" stroke-opacity=\"1\" stroke-width=\"3.2\"/>\n",
       "<circle clip-path=\"url(#clip9202)\" cx=\"1126.66\" cy=\"961.796\" r=\"14\" fill=\"#e26f46\" fill-rule=\"evenodd\" fill-opacity=\"1\" stroke=\"#000000\" stroke-opacity=\"1\" stroke-width=\"3.2\"/>\n",
       "<circle clip-path=\"url(#clip9202)\" cx=\"1126.66\" cy=\"961.796\" r=\"14\" fill=\"#e26f46\" fill-rule=\"evenodd\" fill-opacity=\"1\" stroke=\"#000000\" stroke-opacity=\"1\" stroke-width=\"3.2\"/>\n",
       "<circle clip-path=\"url(#clip9202)\" cx=\"1126.66\" cy=\"961.796\" r=\"14\" fill=\"#e26f46\" fill-rule=\"evenodd\" fill-opacity=\"1\" stroke=\"#000000\" stroke-opacity=\"1\" stroke-width=\"3.2\"/>\n",
       "<circle clip-path=\"url(#clip9202)\" cx=\"1126.66\" cy=\"961.796\" r=\"14\" fill=\"#e26f46\" fill-rule=\"evenodd\" fill-opacity=\"1\" stroke=\"#000000\" stroke-opacity=\"1\" stroke-width=\"3.2\"/>\n",
       "<circle clip-path=\"url(#clip9202)\" cx=\"1126.66\" cy=\"961.796\" r=\"14\" fill=\"#e26f46\" fill-rule=\"evenodd\" fill-opacity=\"1\" stroke=\"#000000\" stroke-opacity=\"1\" stroke-width=\"3.2\"/>\n",
       "<circle clip-path=\"url(#clip9202)\" cx=\"1126.66\" cy=\"961.796\" r=\"14\" fill=\"#e26f46\" fill-rule=\"evenodd\" fill-opacity=\"1\" stroke=\"#000000\" stroke-opacity=\"1\" stroke-width=\"3.2\"/>\n",
       "<circle clip-path=\"url(#clip9202)\" cx=\"1126.66\" cy=\"961.796\" r=\"14\" fill=\"#e26f46\" fill-rule=\"evenodd\" fill-opacity=\"1\" stroke=\"#000000\" stroke-opacity=\"1\" stroke-width=\"3.2\"/>\n",
       "<circle clip-path=\"url(#clip9202)\" cx=\"1126.66\" cy=\"961.796\" r=\"14\" fill=\"#e26f46\" fill-rule=\"evenodd\" fill-opacity=\"1\" stroke=\"#000000\" stroke-opacity=\"1\" stroke-width=\"3.2\"/>\n",
       "<circle clip-path=\"url(#clip9202)\" cx=\"1126.66\" cy=\"961.796\" r=\"14\" fill=\"#e26f46\" fill-rule=\"evenodd\" fill-opacity=\"1\" stroke=\"#000000\" stroke-opacity=\"1\" stroke-width=\"3.2\"/>\n",
       "<circle clip-path=\"url(#clip9202)\" cx=\"1126.66\" cy=\"961.796\" r=\"14\" fill=\"#e26f46\" fill-rule=\"evenodd\" fill-opacity=\"1\" stroke=\"#000000\" stroke-opacity=\"1\" stroke-width=\"3.2\"/>\n",
       "<circle clip-path=\"url(#clip9202)\" cx=\"1126.66\" cy=\"961.796\" r=\"14\" fill=\"#e26f46\" fill-rule=\"evenodd\" fill-opacity=\"1\" stroke=\"#000000\" stroke-opacity=\"1\" stroke-width=\"3.2\"/>\n",
       "<circle clip-path=\"url(#clip9202)\" cx=\"1126.66\" cy=\"961.796\" r=\"14\" fill=\"#e26f46\" fill-rule=\"evenodd\" fill-opacity=\"1\" stroke=\"#000000\" stroke-opacity=\"1\" stroke-width=\"3.2\"/>\n",
       "<circle clip-path=\"url(#clip9202)\" cx=\"1126.66\" cy=\"961.796\" r=\"14\" fill=\"#e26f46\" fill-rule=\"evenodd\" fill-opacity=\"1\" stroke=\"#000000\" stroke-opacity=\"1\" stroke-width=\"3.2\"/>\n",
       "<circle clip-path=\"url(#clip9202)\" cx=\"1126.66\" cy=\"961.796\" r=\"14\" fill=\"#e26f46\" fill-rule=\"evenodd\" fill-opacity=\"1\" stroke=\"#000000\" stroke-opacity=\"1\" stroke-width=\"3.2\"/>\n",
       "<circle clip-path=\"url(#clip9202)\" cx=\"1126.66\" cy=\"961.796\" r=\"14\" fill=\"#e26f46\" fill-rule=\"evenodd\" fill-opacity=\"1\" stroke=\"#000000\" stroke-opacity=\"1\" stroke-width=\"3.2\"/>\n",
       "<circle clip-path=\"url(#clip9202)\" cx=\"1126.66\" cy=\"961.796\" r=\"14\" fill=\"#e26f46\" fill-rule=\"evenodd\" fill-opacity=\"1\" stroke=\"#000000\" stroke-opacity=\"1\" stroke-width=\"3.2\"/>\n",
       "<circle clip-path=\"url(#clip9202)\" cx=\"1126.66\" cy=\"961.796\" r=\"14\" fill=\"#e26f46\" fill-rule=\"evenodd\" fill-opacity=\"1\" stroke=\"#000000\" stroke-opacity=\"1\" stroke-width=\"3.2\"/>\n",
       "<circle clip-path=\"url(#clip9202)\" cx=\"1126.66\" cy=\"961.796\" r=\"14\" fill=\"#e26f46\" fill-rule=\"evenodd\" fill-opacity=\"1\" stroke=\"#000000\" stroke-opacity=\"1\" stroke-width=\"3.2\"/>\n",
       "<circle clip-path=\"url(#clip9202)\" cx=\"1126.66\" cy=\"961.796\" r=\"14\" fill=\"#e26f46\" fill-rule=\"evenodd\" fill-opacity=\"1\" stroke=\"#000000\" stroke-opacity=\"1\" stroke-width=\"3.2\"/>\n",
       "<circle clip-path=\"url(#clip9202)\" cx=\"1126.66\" cy=\"961.796\" r=\"14\" fill=\"#e26f46\" fill-rule=\"evenodd\" fill-opacity=\"1\" stroke=\"#000000\" stroke-opacity=\"1\" stroke-width=\"3.2\"/>\n",
       "<circle clip-path=\"url(#clip9202)\" cx=\"1126.66\" cy=\"961.796\" r=\"14\" fill=\"#e26f46\" fill-rule=\"evenodd\" fill-opacity=\"1\" stroke=\"#000000\" stroke-opacity=\"1\" stroke-width=\"3.2\"/>\n",
       "<circle clip-path=\"url(#clip9202)\" cx=\"1126.66\" cy=\"961.796\" r=\"14\" fill=\"#e26f46\" fill-rule=\"evenodd\" fill-opacity=\"1\" stroke=\"#000000\" stroke-opacity=\"1\" stroke-width=\"3.2\"/>\n",
       "<circle clip-path=\"url(#clip9202)\" cx=\"1126.66\" cy=\"961.796\" r=\"14\" fill=\"#e26f46\" fill-rule=\"evenodd\" fill-opacity=\"1\" stroke=\"#000000\" stroke-opacity=\"1\" stroke-width=\"3.2\"/>\n",
       "<circle clip-path=\"url(#clip9202)\" cx=\"1126.66\" cy=\"961.796\" r=\"14\" fill=\"#e26f46\" fill-rule=\"evenodd\" fill-opacity=\"1\" stroke=\"#000000\" stroke-opacity=\"1\" stroke-width=\"3.2\"/>\n",
       "<circle clip-path=\"url(#clip9202)\" cx=\"1126.66\" cy=\"961.796\" r=\"14\" fill=\"#e26f46\" fill-rule=\"evenodd\" fill-opacity=\"1\" stroke=\"#000000\" stroke-opacity=\"1\" stroke-width=\"3.2\"/>\n",
       "<circle clip-path=\"url(#clip9202)\" cx=\"1119.35\" cy=\"936.673\" r=\"14\" fill=\"#e26f46\" fill-rule=\"evenodd\" fill-opacity=\"1\" stroke=\"#000000\" stroke-opacity=\"1\" stroke-width=\"3.2\"/>\n",
       "<circle clip-path=\"url(#clip9202)\" cx=\"1119.35\" cy=\"936.673\" r=\"14\" fill=\"#e26f46\" fill-rule=\"evenodd\" fill-opacity=\"1\" stroke=\"#000000\" stroke-opacity=\"1\" stroke-width=\"3.2\"/>\n",
       "<circle clip-path=\"url(#clip9202)\" cx=\"1119.35\" cy=\"936.673\" r=\"14\" fill=\"#e26f46\" fill-rule=\"evenodd\" fill-opacity=\"1\" stroke=\"#000000\" stroke-opacity=\"1\" stroke-width=\"3.2\"/>\n",
       "<circle clip-path=\"url(#clip9202)\" cx=\"1119.35\" cy=\"936.673\" r=\"14\" fill=\"#e26f46\" fill-rule=\"evenodd\" fill-opacity=\"1\" stroke=\"#000000\" stroke-opacity=\"1\" stroke-width=\"3.2\"/>\n",
       "<circle clip-path=\"url(#clip9202)\" cx=\"1029.55\" cy=\"934.492\" r=\"14\" fill=\"#e26f46\" fill-rule=\"evenodd\" fill-opacity=\"1\" stroke=\"#000000\" stroke-opacity=\"1\" stroke-width=\"3.2\"/>\n",
       "<circle clip-path=\"url(#clip9202)\" cx=\"1126.66\" cy=\"961.796\" r=\"14\" fill=\"#e26f46\" fill-rule=\"evenodd\" fill-opacity=\"1\" stroke=\"#000000\" stroke-opacity=\"1\" stroke-width=\"3.2\"/>\n",
       "<circle clip-path=\"url(#clip9202)\" cx=\"1126.66\" cy=\"961.796\" r=\"14\" fill=\"#e26f46\" fill-rule=\"evenodd\" fill-opacity=\"1\" stroke=\"#000000\" stroke-opacity=\"1\" stroke-width=\"3.2\"/>\n",
       "<circle clip-path=\"url(#clip9202)\" cx=\"1126.66\" cy=\"961.796\" r=\"14\" fill=\"#e26f46\" fill-rule=\"evenodd\" fill-opacity=\"1\" stroke=\"#000000\" stroke-opacity=\"1\" stroke-width=\"3.2\"/>\n",
       "<circle clip-path=\"url(#clip9202)\" cx=\"1126.66\" cy=\"961.796\" r=\"14\" fill=\"#e26f46\" fill-rule=\"evenodd\" fill-opacity=\"1\" stroke=\"#000000\" stroke-opacity=\"1\" stroke-width=\"3.2\"/>\n",
       "<circle clip-path=\"url(#clip9202)\" cx=\"1126.66\" cy=\"961.796\" r=\"14\" fill=\"#e26f46\" fill-rule=\"evenodd\" fill-opacity=\"1\" stroke=\"#000000\" stroke-opacity=\"1\" stroke-width=\"3.2\"/>\n",
       "<circle clip-path=\"url(#clip9202)\" cx=\"1126.66\" cy=\"961.796\" r=\"14\" fill=\"#e26f46\" fill-rule=\"evenodd\" fill-opacity=\"1\" stroke=\"#000000\" stroke-opacity=\"1\" stroke-width=\"3.2\"/>\n",
       "<circle clip-path=\"url(#clip9202)\" cx=\"1126.66\" cy=\"961.796\" r=\"14\" fill=\"#e26f46\" fill-rule=\"evenodd\" fill-opacity=\"1\" stroke=\"#000000\" stroke-opacity=\"1\" stroke-width=\"3.2\"/>\n",
       "<circle clip-path=\"url(#clip9202)\" cx=\"1126.66\" cy=\"961.796\" r=\"14\" fill=\"#e26f46\" fill-rule=\"evenodd\" fill-opacity=\"1\" stroke=\"#000000\" stroke-opacity=\"1\" stroke-width=\"3.2\"/>\n",
       "<circle clip-path=\"url(#clip9202)\" cx=\"1126.66\" cy=\"961.796\" r=\"14\" fill=\"#e26f46\" fill-rule=\"evenodd\" fill-opacity=\"1\" stroke=\"#000000\" stroke-opacity=\"1\" stroke-width=\"3.2\"/>\n",
       "<circle clip-path=\"url(#clip9202)\" cx=\"1126.66\" cy=\"961.796\" r=\"14\" fill=\"#e26f46\" fill-rule=\"evenodd\" fill-opacity=\"1\" stroke=\"#000000\" stroke-opacity=\"1\" stroke-width=\"3.2\"/>\n",
       "<circle clip-path=\"url(#clip9202)\" cx=\"1126.66\" cy=\"961.796\" r=\"14\" fill=\"#e26f46\" fill-rule=\"evenodd\" fill-opacity=\"1\" stroke=\"#000000\" stroke-opacity=\"1\" stroke-width=\"3.2\"/>\n",
       "<circle clip-path=\"url(#clip9202)\" cx=\"1126.66\" cy=\"961.796\" r=\"14\" fill=\"#e26f46\" fill-rule=\"evenodd\" fill-opacity=\"1\" stroke=\"#000000\" stroke-opacity=\"1\" stroke-width=\"3.2\"/>\n",
       "<circle clip-path=\"url(#clip9202)\" cx=\"1126.66\" cy=\"961.796\" r=\"14\" fill=\"#e26f46\" fill-rule=\"evenodd\" fill-opacity=\"1\" stroke=\"#000000\" stroke-opacity=\"1\" stroke-width=\"3.2\"/>\n",
       "<circle clip-path=\"url(#clip9202)\" cx=\"1126.66\" cy=\"961.796\" r=\"14\" fill=\"#e26f46\" fill-rule=\"evenodd\" fill-opacity=\"1\" stroke=\"#000000\" stroke-opacity=\"1\" stroke-width=\"3.2\"/>\n",
       "<circle clip-path=\"url(#clip9202)\" cx=\"1126.66\" cy=\"961.796\" r=\"14\" fill=\"#e26f46\" fill-rule=\"evenodd\" fill-opacity=\"1\" stroke=\"#000000\" stroke-opacity=\"1\" stroke-width=\"3.2\"/>\n",
       "<circle clip-path=\"url(#clip9202)\" cx=\"1126.66\" cy=\"961.796\" r=\"14\" fill=\"#e26f46\" fill-rule=\"evenodd\" fill-opacity=\"1\" stroke=\"#000000\" stroke-opacity=\"1\" stroke-width=\"3.2\"/>\n",
       "<circle clip-path=\"url(#clip9202)\" cx=\"1126.66\" cy=\"961.796\" r=\"14\" fill=\"#e26f46\" fill-rule=\"evenodd\" fill-opacity=\"1\" stroke=\"#000000\" stroke-opacity=\"1\" stroke-width=\"3.2\"/>\n",
       "<circle clip-path=\"url(#clip9202)\" cx=\"1126.66\" cy=\"961.796\" r=\"14\" fill=\"#e26f46\" fill-rule=\"evenodd\" fill-opacity=\"1\" stroke=\"#000000\" stroke-opacity=\"1\" stroke-width=\"3.2\"/>\n",
       "<circle clip-path=\"url(#clip9202)\" cx=\"1126.66\" cy=\"961.796\" r=\"14\" fill=\"#e26f46\" fill-rule=\"evenodd\" fill-opacity=\"1\" stroke=\"#000000\" stroke-opacity=\"1\" stroke-width=\"3.2\"/>\n",
       "<circle clip-path=\"url(#clip9202)\" cx=\"1126.66\" cy=\"961.796\" r=\"14\" fill=\"#e26f46\" fill-rule=\"evenodd\" fill-opacity=\"1\" stroke=\"#000000\" stroke-opacity=\"1\" stroke-width=\"3.2\"/>\n",
       "<circle clip-path=\"url(#clip9202)\" cx=\"1126.66\" cy=\"961.796\" r=\"14\" fill=\"#e26f46\" fill-rule=\"evenodd\" fill-opacity=\"1\" stroke=\"#000000\" stroke-opacity=\"1\" stroke-width=\"3.2\"/>\n",
       "<circle clip-path=\"url(#clip9202)\" cx=\"1126.66\" cy=\"961.796\" r=\"14\" fill=\"#e26f46\" fill-rule=\"evenodd\" fill-opacity=\"1\" stroke=\"#000000\" stroke-opacity=\"1\" stroke-width=\"3.2\"/>\n",
       "<circle clip-path=\"url(#clip9202)\" cx=\"1126.66\" cy=\"961.796\" r=\"14\" fill=\"#e26f46\" fill-rule=\"evenodd\" fill-opacity=\"1\" stroke=\"#000000\" stroke-opacity=\"1\" stroke-width=\"3.2\"/>\n",
       "<circle clip-path=\"url(#clip9202)\" cx=\"1126.66\" cy=\"961.796\" r=\"14\" fill=\"#e26f46\" fill-rule=\"evenodd\" fill-opacity=\"1\" stroke=\"#000000\" stroke-opacity=\"1\" stroke-width=\"3.2\"/>\n",
       "<circle clip-path=\"url(#clip9202)\" cx=\"1126.66\" cy=\"961.796\" r=\"14\" fill=\"#e26f46\" fill-rule=\"evenodd\" fill-opacity=\"1\" stroke=\"#000000\" stroke-opacity=\"1\" stroke-width=\"3.2\"/>\n",
       "<circle clip-path=\"url(#clip9202)\" cx=\"1126.66\" cy=\"961.796\" r=\"14\" fill=\"#e26f46\" fill-rule=\"evenodd\" fill-opacity=\"1\" stroke=\"#000000\" stroke-opacity=\"1\" stroke-width=\"3.2\"/>\n",
       "<circle clip-path=\"url(#clip9202)\" cx=\"1126.66\" cy=\"961.796\" r=\"14\" fill=\"#e26f46\" fill-rule=\"evenodd\" fill-opacity=\"1\" stroke=\"#000000\" stroke-opacity=\"1\" stroke-width=\"3.2\"/>\n",
       "<circle clip-path=\"url(#clip9202)\" cx=\"1126.66\" cy=\"961.796\" r=\"14\" fill=\"#e26f46\" fill-rule=\"evenodd\" fill-opacity=\"1\" stroke=\"#000000\" stroke-opacity=\"1\" stroke-width=\"3.2\"/>\n",
       "<circle clip-path=\"url(#clip9202)\" cx=\"1126.66\" cy=\"961.796\" r=\"14\" fill=\"#e26f46\" fill-rule=\"evenodd\" fill-opacity=\"1\" stroke=\"#000000\" stroke-opacity=\"1\" stroke-width=\"3.2\"/>\n",
       "<circle clip-path=\"url(#clip9202)\" cx=\"1126.66\" cy=\"961.796\" r=\"14\" fill=\"#e26f46\" fill-rule=\"evenodd\" fill-opacity=\"1\" stroke=\"#000000\" stroke-opacity=\"1\" stroke-width=\"3.2\"/>\n",
       "<circle clip-path=\"url(#clip9202)\" cx=\"1126.66\" cy=\"961.796\" r=\"14\" fill=\"#e26f46\" fill-rule=\"evenodd\" fill-opacity=\"1\" stroke=\"#000000\" stroke-opacity=\"1\" stroke-width=\"3.2\"/>\n",
       "<circle clip-path=\"url(#clip9202)\" cx=\"1126.66\" cy=\"961.796\" r=\"14\" fill=\"#e26f46\" fill-rule=\"evenodd\" fill-opacity=\"1\" stroke=\"#000000\" stroke-opacity=\"1\" stroke-width=\"3.2\"/>\n",
       "<circle clip-path=\"url(#clip9202)\" cx=\"1126.66\" cy=\"961.796\" r=\"14\" fill=\"#e26f46\" fill-rule=\"evenodd\" fill-opacity=\"1\" stroke=\"#000000\" stroke-opacity=\"1\" stroke-width=\"3.2\"/>\n",
       "<circle clip-path=\"url(#clip9202)\" cx=\"1126.66\" cy=\"961.796\" r=\"14\" fill=\"#e26f46\" fill-rule=\"evenodd\" fill-opacity=\"1\" stroke=\"#000000\" stroke-opacity=\"1\" stroke-width=\"3.2\"/>\n",
       "<circle clip-path=\"url(#clip9202)\" cx=\"1126.66\" cy=\"961.796\" r=\"14\" fill=\"#e26f46\" fill-rule=\"evenodd\" fill-opacity=\"1\" stroke=\"#000000\" stroke-opacity=\"1\" stroke-width=\"3.2\"/>\n",
       "<circle clip-path=\"url(#clip9202)\" cx=\"1126.66\" cy=\"961.796\" r=\"14\" fill=\"#e26f46\" fill-rule=\"evenodd\" fill-opacity=\"1\" stroke=\"#000000\" stroke-opacity=\"1\" stroke-width=\"3.2\"/>\n",
       "<circle clip-path=\"url(#clip9202)\" cx=\"1126.66\" cy=\"961.796\" r=\"14\" fill=\"#e26f46\" fill-rule=\"evenodd\" fill-opacity=\"1\" stroke=\"#000000\" stroke-opacity=\"1\" stroke-width=\"3.2\"/>\n",
       "<circle clip-path=\"url(#clip9202)\" cx=\"1126.66\" cy=\"961.796\" r=\"14\" fill=\"#e26f46\" fill-rule=\"evenodd\" fill-opacity=\"1\" stroke=\"#000000\" stroke-opacity=\"1\" stroke-width=\"3.2\"/>\n",
       "<circle clip-path=\"url(#clip9202)\" cx=\"1126.66\" cy=\"961.796\" r=\"14\" fill=\"#e26f46\" fill-rule=\"evenodd\" fill-opacity=\"1\" stroke=\"#000000\" stroke-opacity=\"1\" stroke-width=\"3.2\"/>\n",
       "<circle clip-path=\"url(#clip9202)\" cx=\"1126.66\" cy=\"961.796\" r=\"14\" fill=\"#e26f46\" fill-rule=\"evenodd\" fill-opacity=\"1\" stroke=\"#000000\" stroke-opacity=\"1\" stroke-width=\"3.2\"/>\n",
       "<circle clip-path=\"url(#clip9202)\" cx=\"1126.66\" cy=\"961.796\" r=\"14\" fill=\"#e26f46\" fill-rule=\"evenodd\" fill-opacity=\"1\" stroke=\"#000000\" stroke-opacity=\"1\" stroke-width=\"3.2\"/>\n",
       "<circle clip-path=\"url(#clip9202)\" cx=\"1029.55\" cy=\"934.492\" r=\"14\" fill=\"#e26f46\" fill-rule=\"evenodd\" fill-opacity=\"1\" stroke=\"#000000\" stroke-opacity=\"1\" stroke-width=\"3.2\"/>\n",
       "<circle clip-path=\"url(#clip9202)\" cx=\"1126.66\" cy=\"961.796\" r=\"14\" fill=\"#e26f46\" fill-rule=\"evenodd\" fill-opacity=\"1\" stroke=\"#000000\" stroke-opacity=\"1\" stroke-width=\"3.2\"/>\n",
       "<circle clip-path=\"url(#clip9202)\" cx=\"1126.66\" cy=\"961.796\" r=\"14\" fill=\"#e26f46\" fill-rule=\"evenodd\" fill-opacity=\"1\" stroke=\"#000000\" stroke-opacity=\"1\" stroke-width=\"3.2\"/>\n",
       "<circle clip-path=\"url(#clip9202)\" cx=\"1126.66\" cy=\"961.796\" r=\"14\" fill=\"#e26f46\" fill-rule=\"evenodd\" fill-opacity=\"1\" stroke=\"#000000\" stroke-opacity=\"1\" stroke-width=\"3.2\"/>\n",
       "</svg>\n"
      ]
     },
     "metadata": {},
     "output_type": "display_data"
    }
   ],
   "source": [
    "function plot_pop(P)\n",
    "    scatter([i.y[1] for i in P], [i.y[2] for i in P], xlims=(0.0, 1.0), ylims=(0.0, 1.0), legend=:none)\n",
    "    ND = filter(indiv -> indiv.rank == 1, P)\n",
    "    scatter!([i.y[1] for i in ND], [i.y[2] for i in ND], legend=:none)\n",
    "end\n",
    "\n",
    "nsga_max(popsize, nbgen, objective, init, fCV=constraint, fplot=plot_pop, plotevery=1, showprogress=false);"
   ]
  },
  {
   "cell_type": "markdown",
   "metadata": {
    "slideshow": {
     "slide_type": "slide"
    }
   },
   "source": [
    "This type of visualization, plotting one objective function as X and another as Y, allows us to see the Pareto front for 2 dimensions easily. However, once we increase the number of objectives, this plot is much less useful as we'll always be constrained to looking at 2 dimensions, or at best 3."
   ]
  },
  {
   "cell_type": "markdown",
   "metadata": {
    "slideshow": {
     "slide_type": "fragment"
    }
   },
   "source": [
    "<div class=\"alert alert-success\">\n",
    "    <b>Exercise 3</b>\n",
    "    <br/>\n",
    "    Change the number of objectives to 3. Then use a <tt>scatter3d</tt> plot instead of a <tt>scatter</tt> plot to plot the evolution over 3 objectives.\n",
    "    <br/>\n",
    "    <ul>\n",
    "        <li>Can you still observe the Pareto front?</li>\n",
    "        <li>Can you identify non-dominated individuals easily</li>\n",
    "        <li>Do you see the performance for each objective</li>\n",
    "    </ul>\n",
    "    <br/>\n",
    "</div>"
   ]
  },
  {
   "cell_type": "code",
   "execution_count": 37,
   "metadata": {},
   "outputs": [
    {
     "ename": "BoundsError",
     "evalue": "BoundsError: attempt to access 100×2 Array{Float64,2} at index [Base.Slice(Base.OneTo(100)), 3]",
     "output_type": "error",
     "traceback": [
      "BoundsError: attempt to access 100×2 Array{Float64,2} at index [Base.Slice(Base.OneTo(100)), 3]",
      "",
      "Stacktrace:",
      " [1] throw_boundserror(::Array{Float64,2}, ::Tuple{Base.Slice{Base.OneTo{Int64}},Int64}) at ./abstractarray.jl:537",
      " [2] checkbounds at ./abstractarray.jl:502 [inlined]",
      " [3] _getindex at ./multidimensional.jl:726 [inlined]",
      " [4] getindex(::Array{Float64,2}, ::Function, ::Int64) at ./abstractarray.jl:980",
      " [5] objective(::BitArray{1}) at ./In[34]:4",
      " [6] create_indiv(::BitArray{1}, ::typeof(identity), ::typeof(objective), ::typeof(constraint)) at /home/qcm/.julia/packages/NSGAII/HZevC/src/indivs.jl:14",
      " [7] nsga_max(::Int64, ::Int64, ::typeof(objective), ::typeof(init); fdecode::Function, fdecode!::Function, fCV::Function, pmut::Float64, fmut::Function, fcross::Function, seed::Array{BitArray{1},1}, fplot::Function, plotevery::Int64, showprogress::Bool) at /home/qcm/.julia/packages/NSGAII/HZevC/src/NSGAII.jl:35",
      " [8] top-level scope at In[37]:8"
     ]
    }
   ],
   "source": [
    "n_objectives = 3\n",
    "\n",
    "function plot_pop3D(P)\n",
    "    scatter3d([i.y[1] for i in P], [i.y[2] for i in P], [i.y[3] for i in P], xlims=(0.0, 1.0), ylims=(0.0, 1.0), legend=:none)\n",
    "    ND = filter(indiv -> indiv.rank == 1, P)\n",
    "    scatter3d!([i.y[1] for i in ND], [i.y[2] for i in ND], [i.y[3] for i in ND], legend=:none)\n",
    "end\n",
    "\n",
    "nsga_max(popsize, nbgen, objective, init, fCV=constraint, fplot=plot_pop3D, plotevery=1, showprogress=false);"
   ]
  },
  {
   "cell_type": "markdown",
   "metadata": {
    "slideshow": {
     "slide_type": "slide"
    }
   },
   "source": [
    "Another way to look at the different objectives is to plot the different objectives on the `x` axis and the fitness values on the `y` axis. Each individual in a population is then represented as a line. Let's try this method, increasing the number of objectives to 10."
   ]
  },
  {
   "cell_type": "code",
   "execution_count": 40,
   "metadata": {
    "slideshow": {
     "slide_type": "fragment"
    }
   },
   "outputs": [
    {
     "data": {
      "text/plain": [
       "init (generic function with 1 method)"
      ]
     },
     "execution_count": 40,
     "metadata": {},
     "output_type": "execute_result"
    }
   ],
   "source": [
    "n = 100\n",
    "n_objectives = 20\n",
    "values = rand(n, n_objectives)\n",
    "values = values ./ sum(values, dims=1)\n",
    "weights = rand(n)\n",
    "weights = weights ./ sum(weights)\n",
    "max_weight = 0.5\n",
    "popsize = 100\n",
    "nbgen = 50\n",
    "init() = bitrand(n)"
   ]
  },
  {
   "cell_type": "code",
   "execution_count": null,
   "metadata": {
    "slideshow": {
     "slide_type": "slide"
    }
   },
   "outputs": [
    {
     "data": {
      "image/svg+xml": [
       "<?xml version=\"1.0\" encoding=\"utf-8\"?>\n",
       "<svg xmlns=\"http://www.w3.org/2000/svg\" xmlns:xlink=\"http://www.w3.org/1999/xlink\" width=\"600\" height=\"400\" viewBox=\"0 0 2400 1600\">\n",
       "<defs>\n",
       "  <clipPath id=\"clip7600\">\n",
       "    <rect x=\"0\" y=\"0\" width=\"2400\" height=\"1600\"/>\n",
       "  </clipPath>\n",
       "</defs>\n",
       "<path clip-path=\"url(#clip7600)\" d=\"\n",
       "M0 1600 L2400 1600 L2400 0 L0 0  Z\n",
       "  \" fill=\"#ffffff\" fill-rule=\"evenodd\" fill-opacity=\"1\"/>\n",
       "<defs>\n",
       "  <clipPath id=\"clip7601\">\n",
       "    <rect x=\"480\" y=\"0\" width=\"1681\" height=\"1600\"/>\n",
       "  </clipPath>\n",
       "</defs>\n",
       "<path clip-path=\"url(#clip7600)\" d=\"\n",
       "M175.348 1486.45 L2352.76 1486.45 L2352.76 47.2441 L175.348 47.2441  Z\n",
       "  \" fill=\"#ffffff\" fill-rule=\"evenodd\" fill-opacity=\"1\"/>\n",
       "<defs>\n",
       "  <clipPath id=\"clip7602\">\n",
       "    <rect x=\"175\" y=\"47\" width=\"2178\" height=\"1440\"/>\n",
       "  </clipPath>\n",
       "</defs>\n",
       "<polyline clip-path=\"url(#clip7602)\" style=\"stroke:#000000; stroke-width:2; stroke-opacity:0.1; fill:none\" points=\"\n",
       "  633.75,1486.45 633.75,47.2441 \n",
       "  \"/>\n",
       "<polyline clip-path=\"url(#clip7602)\" style=\"stroke:#000000; stroke-width:2; stroke-opacity:0.1; fill:none\" points=\"\n",
       "  1206.75,1486.45 1206.75,47.2441 \n",
       "  \"/>\n",
       "<polyline clip-path=\"url(#clip7602)\" style=\"stroke:#000000; stroke-width:2; stroke-opacity:0.1; fill:none\" points=\"\n",
       "  1779.75,1486.45 1779.75,47.2441 \n",
       "  \"/>\n",
       "<polyline clip-path=\"url(#clip7602)\" style=\"stroke:#000000; stroke-width:2; stroke-opacity:0.1; fill:none\" points=\"\n",
       "  2352.76,1486.45 2352.76,47.2441 \n",
       "  \"/>\n",
       "<polyline clip-path=\"url(#clip7602)\" style=\"stroke:#000000; stroke-width:2; stroke-opacity:0.1; fill:none\" points=\"\n",
       "  175.348,1382.82 2352.76,1382.82 \n",
       "  \"/>\n",
       "<polyline clip-path=\"url(#clip7602)\" style=\"stroke:#000000; stroke-width:2; stroke-opacity:0.1; fill:none\" points=\"\n",
       "  175.348,1129.69 2352.76,1129.69 \n",
       "  \"/>\n",
       "<polyline clip-path=\"url(#clip7602)\" style=\"stroke:#000000; stroke-width:2; stroke-opacity:0.1; fill:none\" points=\"\n",
       "  175.348,876.557 2352.76,876.557 \n",
       "  \"/>\n",
       "<polyline clip-path=\"url(#clip7602)\" style=\"stroke:#000000; stroke-width:2; stroke-opacity:0.1; fill:none\" points=\"\n",
       "  175.348,623.424 2352.76,623.424 \n",
       "  \"/>\n",
       "<polyline clip-path=\"url(#clip7602)\" style=\"stroke:#000000; stroke-width:2; stroke-opacity:0.1; fill:none\" points=\"\n",
       "  175.348,370.292 2352.76,370.292 \n",
       "  \"/>\n",
       "<polyline clip-path=\"url(#clip7602)\" style=\"stroke:#000000; stroke-width:2; stroke-opacity:0.1; fill:none\" points=\"\n",
       "  175.348,117.159 2352.76,117.159 \n",
       "  \"/>\n",
       "<polyline clip-path=\"url(#clip7600)\" style=\"stroke:#000000; stroke-width:4; stroke-opacity:1; fill:none\" points=\"\n",
       "  175.348,1486.45 2352.76,1486.45 \n",
       "  \"/>\n",
       "<polyline clip-path=\"url(#clip7600)\" style=\"stroke:#000000; stroke-width:4; stroke-opacity:1; fill:none\" points=\"\n",
       "  175.348,1486.45 175.348,47.2441 \n",
       "  \"/>\n",
       "<polyline clip-path=\"url(#clip7600)\" style=\"stroke:#000000; stroke-width:4; stroke-opacity:1; fill:none\" points=\"\n",
       "  633.75,1486.45 633.75,1469.18 \n",
       "  \"/>\n",
       "<polyline clip-path=\"url(#clip7600)\" style=\"stroke:#000000; stroke-width:4; stroke-opacity:1; fill:none\" points=\"\n",
       "  1206.75,1486.45 1206.75,1469.18 \n",
       "  \"/>\n",
       "<polyline clip-path=\"url(#clip7600)\" style=\"stroke:#000000; stroke-width:4; stroke-opacity:1; fill:none\" points=\"\n",
       "  1779.75,1486.45 1779.75,1469.18 \n",
       "  \"/>\n",
       "<polyline clip-path=\"url(#clip7600)\" style=\"stroke:#000000; stroke-width:4; stroke-opacity:1; fill:none\" points=\"\n",
       "  2352.76,1486.45 2352.76,1469.18 \n",
       "  \"/>\n",
       "<polyline clip-path=\"url(#clip7600)\" style=\"stroke:#000000; stroke-width:4; stroke-opacity:1; fill:none\" points=\"\n",
       "  175.348,1382.82 201.477,1382.82 \n",
       "  \"/>\n",
       "<polyline clip-path=\"url(#clip7600)\" style=\"stroke:#000000; stroke-width:4; stroke-opacity:1; fill:none\" points=\"\n",
       "  175.348,1129.69 201.477,1129.69 \n",
       "  \"/>\n",
       "<polyline clip-path=\"url(#clip7600)\" style=\"stroke:#000000; stroke-width:4; stroke-opacity:1; fill:none\" points=\"\n",
       "  175.348,876.557 201.477,876.557 \n",
       "  \"/>\n",
       "<polyline clip-path=\"url(#clip7600)\" style=\"stroke:#000000; stroke-width:4; stroke-opacity:1; fill:none\" points=\"\n",
       "  175.348,623.424 201.477,623.424 \n",
       "  \"/>\n",
       "<polyline clip-path=\"url(#clip7600)\" style=\"stroke:#000000; stroke-width:4; stroke-opacity:1; fill:none\" points=\"\n",
       "  175.348,370.292 201.477,370.292 \n",
       "  \"/>\n",
       "<polyline clip-path=\"url(#clip7600)\" style=\"stroke:#000000; stroke-width:4; stroke-opacity:1; fill:none\" points=\"\n",
       "  175.348,117.159 201.477,117.159 \n",
       "  \"/>\n",
       "<path clip-path=\"url(#clip7600)\" d=\"M 0 0 M624.028 1505.36 L642.384 1505.36 L642.384 1509.3 L628.31 1509.3 L628.31 1517.77 Q629.328 1517.42 630.347 1517.26 Q631.366 1517.07 632.384 1517.07 Q638.171 1517.07 641.551 1520.24 Q644.93 1523.42 644.93 1528.83 Q644.93 1534.41 641.458 1537.51 Q637.986 1540.59 631.666 1540.59 Q629.491 1540.59 627.222 1540.22 Q624.977 1539.85 622.569 1539.11 L622.569 1534.41 Q624.653 1535.54 626.875 1536.1 Q629.097 1536.66 631.574 1536.66 Q635.578 1536.66 637.916 1534.55 Q640.254 1532.44 640.254 1528.83 Q640.254 1525.22 637.916 1523.11 Q635.578 1521.01 631.574 1521.01 Q629.699 1521.01 627.824 1521.42 Q625.972 1521.84 624.028 1522.72 L624.028 1505.36 Z\" fill=\"#000000\" fill-rule=\"evenodd\" fill-opacity=\"1\" /><path clip-path=\"url(#clip7600)\" d=\"M 0 0 M1183.63 1535.98 L1191.27 1535.98 L1191.27 1509.62 L1182.96 1511.29 L1182.96 1507.03 L1191.22 1505.36 L1195.9 1505.36 L1195.9 1535.98 L1203.53 1535.98 L1203.53 1539.92 L1183.63 1539.92 L1183.63 1535.98 Z\" fill=\"#000000\" fill-rule=\"evenodd\" fill-opacity=\"1\" /><path clip-path=\"url(#clip7600)\" d=\"M 0 0 M1218.6 1508.44 Q1214.99 1508.44 1213.16 1512 Q1211.36 1515.55 1211.36 1522.67 Q1211.36 1529.78 1213.16 1533.35 Q1214.99 1536.89 1218.6 1536.89 Q1222.24 1536.89 1224.04 1533.35 Q1225.87 1529.78 1225.87 1522.67 Q1225.87 1515.55 1224.04 1512 Q1222.24 1508.44 1218.6 1508.44 M1218.6 1504.73 Q1224.41 1504.73 1227.47 1509.34 Q1230.55 1513.92 1230.55 1522.67 Q1230.55 1531.4 1227.47 1536.01 Q1224.41 1540.59 1218.6 1540.59 Q1212.79 1540.59 1209.71 1536.01 Q1206.66 1531.4 1206.66 1522.67 Q1206.66 1513.92 1209.71 1509.34 Q1212.79 1504.73 1218.6 1504.73 Z\" fill=\"#000000\" fill-rule=\"evenodd\" fill-opacity=\"1\" /><path clip-path=\"url(#clip7600)\" d=\"M 0 0 M1757.13 1535.98 L1764.77 1535.98 L1764.77 1509.62 L1756.46 1511.29 L1756.46 1507.03 L1764.72 1505.36 L1769.4 1505.36 L1769.4 1535.98 L1777.03 1535.98 L1777.03 1539.92 L1757.13 1539.92 L1757.13 1535.98 Z\" fill=\"#000000\" fill-rule=\"evenodd\" fill-opacity=\"1\" /><path clip-path=\"url(#clip7600)\" d=\"M 0 0 M1782.15 1505.36 L1800.51 1505.36 L1800.51 1509.3 L1786.43 1509.3 L1786.43 1517.77 Q1787.45 1517.42 1788.47 1517.26 Q1789.49 1517.07 1790.51 1517.07 Q1796.29 1517.07 1799.67 1520.24 Q1803.05 1523.42 1803.05 1528.83 Q1803.05 1534.41 1799.58 1537.51 Q1796.11 1540.59 1789.79 1540.59 Q1787.61 1540.59 1785.34 1540.22 Q1783.1 1539.85 1780.69 1539.11 L1780.69 1534.41 Q1782.77 1535.54 1785 1536.1 Q1787.22 1536.66 1789.7 1536.66 Q1793.7 1536.66 1796.04 1534.55 Q1798.38 1532.44 1798.38 1528.83 Q1798.38 1525.22 1796.04 1523.11 Q1793.7 1521.01 1789.7 1521.01 Q1787.82 1521.01 1785.95 1521.42 Q1784.09 1521.84 1782.15 1522.72 L1782.15 1505.36 Z\" fill=\"#000000\" fill-rule=\"evenodd\" fill-opacity=\"1\" /><path clip-path=\"url(#clip7600)\" d=\"M 0 0 M2333.9 1535.98 L2350.22 1535.98 L2350.22 1539.92 L2328.28 1539.92 L2328.28 1535.98 Q2330.94 1533.23 2335.52 1528.6 Q2340.13 1523.95 2341.31 1522.61 Q2343.55 1520.08 2344.43 1518.35 Q2345.34 1516.59 2345.34 1514.9 Q2345.34 1512.14 2343.39 1510.41 Q2341.47 1508.67 2338.37 1508.67 Q2336.17 1508.67 2333.72 1509.43 Q2331.29 1510.2 2328.51 1511.75 L2328.51 1507.03 Q2331.33 1505.89 2333.79 1505.31 Q2336.24 1504.73 2338.28 1504.73 Q2343.65 1504.73 2346.84 1507.42 Q2350.04 1510.11 2350.04 1514.6 Q2350.04 1516.73 2349.23 1518.65 Q2348.44 1520.54 2346.33 1523.14 Q2345.75 1523.81 2342.65 1527.03 Q2339.55 1530.22 2333.9 1535.98 Z\" fill=\"#000000\" fill-rule=\"evenodd\" fill-opacity=\"1\" /><path clip-path=\"url(#clip7600)\" d=\"M 0 0 M2365.29 1508.44 Q2361.68 1508.44 2359.85 1512 Q2358.05 1515.55 2358.05 1522.67 Q2358.05 1529.78 2359.85 1533.35 Q2361.68 1536.89 2365.29 1536.89 Q2368.92 1536.89 2370.73 1533.35 Q2372.56 1529.78 2372.56 1522.67 Q2372.56 1515.55 2370.73 1512 Q2368.92 1508.44 2365.29 1508.44 M2365.29 1504.73 Q2371.1 1504.73 2374.16 1509.34 Q2377.23 1513.92 2377.23 1522.67 Q2377.23 1531.4 2374.16 1536.01 Q2371.1 1540.59 2365.29 1540.59 Q2359.48 1540.59 2356.4 1536.01 Q2353.35 1531.4 2353.35 1522.67 Q2353.35 1513.92 2356.4 1509.34 Q2359.48 1504.73 2365.29 1504.73 Z\" fill=\"#000000\" fill-rule=\"evenodd\" fill-opacity=\"1\" /><path clip-path=\"url(#clip7600)\" d=\"M 0 0 M74.9365 1368.62 Q71.3254 1368.62 69.4967 1372.19 Q67.6912 1375.73 67.6912 1382.86 Q67.6912 1389.96 69.4967 1393.53 Q71.3254 1397.07 74.9365 1397.07 Q78.5707 1397.07 80.3763 1393.53 Q82.205 1389.96 82.205 1382.86 Q82.205 1375.73 80.3763 1372.19 Q78.5707 1368.62 74.9365 1368.62 M74.9365 1364.92 Q80.7467 1364.92 83.8022 1369.52 Q86.8809 1374.11 86.8809 1382.86 Q86.8809 1391.58 83.8022 1396.19 Q80.7467 1400.77 74.9365 1400.77 Q69.1264 1400.77 66.0477 1396.19 Q62.9921 1391.58 62.9921 1382.86 Q62.9921 1374.11 66.0477 1369.52 Q69.1264 1364.92 74.9365 1364.92 Z\" fill=\"#000000\" fill-rule=\"evenodd\" fill-opacity=\"1\" /><path clip-path=\"url(#clip7600)\" d=\"M 0 0 M91.9503 1394.22 L96.8345 1394.22 L96.8345 1400.1 L91.9503 1400.1 L91.9503 1394.22 Z\" fill=\"#000000\" fill-rule=\"evenodd\" fill-opacity=\"1\" /><path clip-path=\"url(#clip7600)\" d=\"M 0 0 M114.751 1369.62 L102.946 1388.07 L114.751 1388.07 L114.751 1369.62 M113.524 1365.54 L119.404 1365.54 L119.404 1388.07 L124.334 1388.07 L124.334 1391.95 L119.404 1391.95 L119.404 1400.1 L114.751 1400.1 L114.751 1391.95 L99.1493 1391.95 L99.1493 1387.44 L113.524 1365.54 Z\" fill=\"#000000\" fill-rule=\"evenodd\" fill-opacity=\"1\" /><path clip-path=\"url(#clip7600)\" d=\"M 0 0 M139.404 1368.62 Q135.793 1368.62 133.964 1372.19 Q132.158 1375.73 132.158 1382.86 Q132.158 1389.96 133.964 1393.53 Q135.793 1397.07 139.404 1397.07 Q143.038 1397.07 144.844 1393.53 Q146.672 1389.96 146.672 1382.86 Q146.672 1375.73 144.844 1372.19 Q143.038 1368.62 139.404 1368.62 M139.404 1364.92 Q145.214 1364.92 148.269 1369.52 Q151.348 1374.11 151.348 1382.86 Q151.348 1391.58 148.269 1396.19 Q145.214 1400.77 139.404 1400.77 Q133.594 1400.77 130.515 1396.19 Q127.459 1391.58 127.459 1382.86 Q127.459 1374.11 130.515 1369.52 Q133.594 1364.92 139.404 1364.92 Z\" fill=\"#000000\" fill-rule=\"evenodd\" fill-opacity=\"1\" /><path clip-path=\"url(#clip7600)\" d=\"M 0 0 M75.9319 1115.49 Q72.3208 1115.49 70.4921 1119.05 Q68.6865 1122.59 68.6865 1129.72 Q68.6865 1136.83 70.4921 1140.4 Q72.3208 1143.94 75.9319 1143.94 Q79.5661 1143.94 81.3717 1140.4 Q83.2004 1136.83 83.2004 1129.72 Q83.2004 1122.59 81.3717 1119.05 Q79.5661 1115.49 75.9319 1115.49 M75.9319 1111.78 Q81.742 1111.78 84.7976 1116.39 Q87.8763 1120.97 87.8763 1129.72 Q87.8763 1138.45 84.7976 1143.06 Q81.742 1147.64 75.9319 1147.64 Q70.1217 1147.64 67.043 1143.06 Q63.9875 1138.45 63.9875 1129.72 Q63.9875 1120.97 67.043 1116.39 Q70.1217 1111.78 75.9319 1111.78 Z\" fill=\"#000000\" fill-rule=\"evenodd\" fill-opacity=\"1\" /><path clip-path=\"url(#clip7600)\" d=\"M 0 0 M92.9457 1141.09 L97.8299 1141.09 L97.8299 1146.97 L92.9457 1146.97 L92.9457 1141.09 Z\" fill=\"#000000\" fill-rule=\"evenodd\" fill-opacity=\"1\" /><path clip-path=\"url(#clip7600)\" d=\"M 0 0 M115.746 1116.48 L103.941 1134.93 L115.746 1134.93 L115.746 1116.48 M114.52 1112.41 L120.399 1112.41 L120.399 1134.93 L125.33 1134.93 L125.33 1138.82 L120.399 1138.82 L120.399 1146.97 L115.746 1146.97 L115.746 1138.82 L100.145 1138.82 L100.145 1134.31 L114.52 1112.41 Z\" fill=\"#000000\" fill-rule=\"evenodd\" fill-opacity=\"1\" /><path clip-path=\"url(#clip7600)\" d=\"M 0 0 M130.445 1112.41 L148.802 1112.41 L148.802 1116.34 L134.728 1116.34 L134.728 1124.82 Q135.746 1124.47 136.765 1124.31 Q137.783 1124.12 138.802 1124.12 Q144.589 1124.12 147.969 1127.29 Q151.348 1130.47 151.348 1135.88 Q151.348 1141.46 147.876 1144.56 Q144.404 1147.64 138.084 1147.64 Q135.908 1147.64 133.64 1147.27 Q131.395 1146.9 128.987 1146.16 L128.987 1141.46 Q131.07 1142.59 133.293 1143.15 Q135.515 1143.71 137.992 1143.71 Q141.996 1143.71 144.334 1141.6 Q146.672 1139.49 146.672 1135.88 Q146.672 1132.27 144.334 1130.16 Q141.996 1128.06 137.992 1128.06 Q136.117 1128.06 134.242 1128.47 Q132.39 1128.89 130.445 1129.77 L130.445 1112.41 Z\" fill=\"#000000\" fill-rule=\"evenodd\" fill-opacity=\"1\" /><path clip-path=\"url(#clip7600)\" d=\"M 0 0 M76.418 862.356 Q72.8069 862.356 70.9782 865.92 Q69.1726 869.462 69.1726 876.592 Q69.1726 883.698 70.9782 887.263 Q72.8069 890.805 76.418 890.805 Q80.0522 890.805 81.8578 887.263 Q83.6865 883.698 83.6865 876.592 Q83.6865 869.462 81.8578 865.92 Q80.0522 862.356 76.418 862.356 M76.418 858.652 Q82.2281 858.652 85.2837 863.258 Q88.3624 867.842 88.3624 876.592 Q88.3624 885.319 85.2837 889.925 Q82.2281 894.508 76.418 894.508 Q70.6078 894.508 67.5291 889.925 Q64.4736 885.319 64.4736 876.592 Q64.4736 867.842 67.5291 863.258 Q70.6078 858.652 76.418 858.652 Z\" fill=\"#000000\" fill-rule=\"evenodd\" fill-opacity=\"1\" /><path clip-path=\"url(#clip7600)\" d=\"M 0 0 M93.4318 887.957 L98.316 887.957 L98.316 893.837 L93.4318 893.837 L93.4318 887.957 Z\" fill=\"#000000\" fill-rule=\"evenodd\" fill-opacity=\"1\" /><path clip-path=\"url(#clip7600)\" d=\"M 0 0 M103.432 859.277 L121.788 859.277 L121.788 863.212 L107.714 863.212 L107.714 871.684 Q108.733 871.337 109.751 871.175 Q110.77 870.99 111.788 870.99 Q117.575 870.99 120.955 874.161 Q124.334 877.332 124.334 882.749 Q124.334 888.328 120.862 891.43 Q117.39 894.508 111.071 894.508 Q108.895 894.508 106.626 894.138 Q104.381 893.768 101.973 893.027 L101.973 888.328 Q104.057 889.462 106.279 890.018 Q108.501 890.573 110.978 890.573 Q114.983 890.573 117.321 888.467 Q119.658 886.36 119.658 882.749 Q119.658 879.138 117.321 877.032 Q114.983 874.925 110.978 874.925 Q109.103 874.925 107.228 875.342 Q105.376 875.758 103.432 876.638 L103.432 859.277 Z\" fill=\"#000000\" fill-rule=\"evenodd\" fill-opacity=\"1\" /><path clip-path=\"url(#clip7600)\" d=\"M 0 0 M139.404 862.356 Q135.793 862.356 133.964 865.92 Q132.158 869.462 132.158 876.592 Q132.158 883.698 133.964 887.263 Q135.793 890.805 139.404 890.805 Q143.038 890.805 144.844 887.263 Q146.672 883.698 146.672 876.592 Q146.672 869.462 144.844 865.92 Q143.038 862.356 139.404 862.356 M139.404 858.652 Q145.214 858.652 148.269 863.258 Q151.348 867.842 151.348 876.592 Q151.348 885.319 148.269 889.925 Q145.214 894.508 139.404 894.508 Q133.594 894.508 130.515 889.925 Q127.459 885.319 127.459 876.592 Q127.459 867.842 130.515 863.258 Q133.594 858.652 139.404 858.652 Z\" fill=\"#000000\" fill-rule=\"evenodd\" fill-opacity=\"1\" /><path clip-path=\"url(#clip7600)\" d=\"M 0 0 M77.4133 609.223 Q73.8023 609.223 71.9736 612.788 Q70.168 616.33 70.168 623.459 Q70.168 630.566 71.9736 634.13 Q73.8023 637.672 77.4133 637.672 Q81.0476 637.672 82.8531 634.13 Q84.6818 630.566 84.6818 623.459 Q84.6818 616.33 82.8531 612.788 Q81.0476 609.223 77.4133 609.223 M77.4133 605.519 Q83.2235 605.519 86.279 610.126 Q89.3577 614.709 89.3577 623.459 Q89.3577 632.186 86.279 636.792 Q83.2235 641.376 77.4133 641.376 Q71.6032 641.376 68.5245 636.792 Q65.469 632.186 65.469 623.459 Q65.469 614.709 68.5245 610.126 Q71.6032 605.519 77.4133 605.519 Z\" fill=\"#000000\" fill-rule=\"evenodd\" fill-opacity=\"1\" /><path clip-path=\"url(#clip7600)\" d=\"M 0 0 M94.4271 634.825 L99.3114 634.825 L99.3114 640.704 L94.4271 640.704 L94.4271 634.825 Z\" fill=\"#000000\" fill-rule=\"evenodd\" fill-opacity=\"1\" /><path clip-path=\"url(#clip7600)\" d=\"M 0 0 M104.427 606.144 L122.783 606.144 L122.783 610.08 L108.709 610.08 L108.709 618.552 Q109.728 618.205 110.746 618.042 Q111.765 617.857 112.784 617.857 Q118.571 617.857 121.95 621.029 Q125.33 624.2 125.33 629.617 Q125.33 635.195 121.858 638.297 Q118.385 641.376 112.066 641.376 Q109.89 641.376 107.622 641.005 Q105.376 640.635 102.969 639.894 L102.969 635.195 Q105.052 636.329 107.274 636.885 Q109.497 637.441 111.973 637.441 Q115.978 637.441 118.316 635.334 Q120.654 633.228 120.654 629.617 Q120.654 626.005 118.316 623.899 Q115.978 621.792 111.973 621.792 Q110.098 621.792 108.223 622.209 Q106.372 622.626 104.427 623.505 L104.427 606.144 Z\" fill=\"#000000\" fill-rule=\"evenodd\" fill-opacity=\"1\" /><path clip-path=\"url(#clip7600)\" d=\"M 0 0 M130.445 606.144 L148.802 606.144 L148.802 610.08 L134.728 610.08 L134.728 618.552 Q135.746 618.205 136.765 618.042 Q137.783 617.857 138.802 617.857 Q144.589 617.857 147.969 621.029 Q151.348 624.2 151.348 629.617 Q151.348 635.195 147.876 638.297 Q144.404 641.376 138.084 641.376 Q135.908 641.376 133.64 641.005 Q131.395 640.635 128.987 639.894 L128.987 635.195 Q131.07 636.329 133.293 636.885 Q135.515 637.441 137.992 637.441 Q141.996 637.441 144.334 635.334 Q146.672 633.228 146.672 629.617 Q146.672 626.005 144.334 623.899 Q141.996 621.792 137.992 621.792 Q136.117 621.792 134.242 622.209 Q132.39 622.626 130.445 623.505 L130.445 606.144 Z\" fill=\"#000000\" fill-rule=\"evenodd\" fill-opacity=\"1\" /><path clip-path=\"url(#clip7600)\" d=\"M 0 0 M75.2606 356.09 Q71.6495 356.09 69.8208 359.655 Q68.0152 363.197 68.0152 370.327 Q68.0152 377.433 69.8208 380.998 Q71.6495 384.539 75.2606 384.539 Q78.8948 384.539 80.7004 380.998 Q82.5291 377.433 82.5291 370.327 Q82.5291 363.197 80.7004 359.655 Q78.8948 356.09 75.2606 356.09 M75.2606 352.387 Q81.0707 352.387 84.1263 356.993 Q87.205 361.577 87.205 370.327 Q87.205 379.053 84.1263 383.66 Q81.0707 388.243 75.2606 388.243 Q69.4504 388.243 66.3717 383.66 Q63.3162 379.053 63.3162 370.327 Q63.3162 361.577 66.3717 356.993 Q69.4504 352.387 75.2606 352.387 Z\" fill=\"#000000\" fill-rule=\"evenodd\" fill-opacity=\"1\" /><path clip-path=\"url(#clip7600)\" d=\"M 0 0 M92.2744 381.692 L97.1586 381.692 L97.1586 387.572 L92.2744 387.572 L92.2744 381.692 Z\" fill=\"#000000\" fill-rule=\"evenodd\" fill-opacity=\"1\" /><path clip-path=\"url(#clip7600)\" d=\"M 0 0 M112.807 368.428 Q109.659 368.428 107.807 370.581 Q105.978 372.734 105.978 376.484 Q105.978 380.211 107.807 382.387 Q109.659 384.539 112.807 384.539 Q115.955 384.539 117.783 382.387 Q119.635 380.211 119.635 376.484 Q119.635 372.734 117.783 370.581 Q115.955 368.428 112.807 368.428 M122.089 353.776 L122.089 358.035 Q120.33 357.202 118.524 356.762 Q116.742 356.322 114.983 356.322 Q110.353 356.322 107.899 359.447 Q105.469 362.572 105.122 368.891 Q106.487 366.877 108.547 365.813 Q110.608 364.725 113.084 364.725 Q118.293 364.725 121.302 367.896 Q124.334 371.044 124.334 376.484 Q124.334 381.808 121.186 385.026 Q118.038 388.243 112.807 388.243 Q106.811 388.243 103.64 383.66 Q100.469 379.053 100.469 370.327 Q100.469 362.132 104.358 357.271 Q108.247 352.387 114.797 352.387 Q116.557 352.387 118.339 352.734 Q120.145 353.081 122.089 353.776 Z\" fill=\"#000000\" fill-rule=\"evenodd\" fill-opacity=\"1\" /><path clip-path=\"url(#clip7600)\" d=\"M 0 0 M139.404 356.09 Q135.793 356.09 133.964 359.655 Q132.158 363.197 132.158 370.327 Q132.158 377.433 133.964 380.998 Q135.793 384.539 139.404 384.539 Q143.038 384.539 144.844 380.998 Q146.672 377.433 146.672 370.327 Q146.672 363.197 144.844 359.655 Q143.038 356.09 139.404 356.09 M139.404 352.387 Q145.214 352.387 148.269 356.993 Q151.348 361.577 151.348 370.327 Q151.348 379.053 148.269 383.66 Q145.214 388.243 139.404 388.243 Q133.594 388.243 130.515 383.66 Q127.459 379.053 127.459 370.327 Q127.459 361.577 130.515 356.993 Q133.594 352.387 139.404 352.387 Z\" fill=\"#000000\" fill-rule=\"evenodd\" fill-opacity=\"1\" /><path clip-path=\"url(#clip7600)\" d=\"M 0 0 M76.2559 102.958 Q72.6449 102.958 70.8162 106.523 Q69.0106 110.064 69.0106 117.194 Q69.0106 124.3 70.8162 127.865 Q72.6449 131.407 76.2559 131.407 Q79.8902 131.407 81.6957 127.865 Q83.5244 124.3 83.5244 117.194 Q83.5244 110.064 81.6957 106.523 Q79.8902 102.958 76.2559 102.958 M76.2559 99.2542 Q82.0661 99.2542 85.1216 103.861 Q88.2003 108.444 88.2003 117.194 Q88.2003 125.921 85.1216 130.527 Q82.0661 135.11 76.2559 135.11 Q70.4458 135.11 67.3671 130.527 Q64.3116 125.921 64.3116 117.194 Q64.3116 108.444 67.3671 103.861 Q70.4458 99.2542 76.2559 99.2542 Z\" fill=\"#000000\" fill-rule=\"evenodd\" fill-opacity=\"1\" /><path clip-path=\"url(#clip7600)\" d=\"M 0 0 M93.2697 128.56 L98.154 128.56 L98.154 134.439 L93.2697 134.439 L93.2697 128.56 Z\" fill=\"#000000\" fill-rule=\"evenodd\" fill-opacity=\"1\" /><path clip-path=\"url(#clip7600)\" d=\"M 0 0 M113.802 115.296 Q110.654 115.296 108.802 117.449 Q106.973 119.601 106.973 123.351 Q106.973 127.078 108.802 129.254 Q110.654 131.407 113.802 131.407 Q116.95 131.407 118.779 129.254 Q120.631 127.078 120.631 123.351 Q120.631 119.601 118.779 117.449 Q116.95 115.296 113.802 115.296 M123.084 100.643 L123.084 104.902 Q121.325 104.069 119.52 103.629 Q117.737 103.189 115.978 103.189 Q111.348 103.189 108.895 106.314 Q106.464 109.439 106.117 115.759 Q107.483 113.745 109.543 112.68 Q111.603 111.592 114.08 111.592 Q119.288 111.592 122.297 114.763 Q125.33 117.912 125.33 123.351 Q125.33 128.675 122.182 131.893 Q119.033 135.11 113.802 135.11 Q107.807 135.11 104.635 130.527 Q101.464 125.921 101.464 117.194 Q101.464 109 105.353 104.138 Q109.242 99.2542 115.793 99.2542 Q117.552 99.2542 119.334 99.6014 Q121.14 99.9486 123.084 100.643 Z\" fill=\"#000000\" fill-rule=\"evenodd\" fill-opacity=\"1\" /><path clip-path=\"url(#clip7600)\" d=\"M 0 0 M130.445 99.8792 L148.802 99.8792 L148.802 103.814 L134.728 103.814 L134.728 112.287 Q135.746 111.939 136.765 111.777 Q137.783 111.592 138.802 111.592 Q144.589 111.592 147.969 114.763 Q151.348 117.935 151.348 123.351 Q151.348 128.93 147.876 132.032 Q144.404 135.11 138.084 135.11 Q135.908 135.11 133.64 134.74 Q131.395 134.37 128.987 133.629 L128.987 128.93 Q131.07 130.064 133.293 130.62 Q135.515 131.175 137.992 131.175 Q141.996 131.175 144.334 129.069 Q146.672 126.962 146.672 123.351 Q146.672 119.74 144.334 117.634 Q141.996 115.527 137.992 115.527 Q136.117 115.527 134.242 115.944 Q132.39 116.361 130.445 117.24 L130.445 99.8792 Z\" fill=\"#000000\" fill-rule=\"evenodd\" fill-opacity=\"1\" /><polyline clip-path=\"url(#clip7602)\" style=\"stroke:#0000ff; stroke-width:4; stroke-opacity:1; fill:none\" points=\"\n",
       "  175.348,945.806 289.949,840.471 404.549,752.688 519.149,878.441 633.75,935.127 748.35,814.377 862.951,769.471 977.551,744.792 1092.15,691.996 1206.75,668.08 \n",
       "  1321.35,420.951 1435.95,937.859 1550.55,439.057 1665.15,765.26 1779.75,909.196 1894.35,855.672 2008.95,804.6 2123.56,692.143 2238.16,738.397 2352.76,733.827 \n",
       "  \n",
       "  \"/>\n",
       "<polyline clip-path=\"url(#clip7602)\" style=\"stroke:#0000ff; stroke-width:4; stroke-opacity:1; fill:none\" points=\"\n",
       "  175.348,904.957 289.949,662.749 404.549,533.261 519.149,695.989 633.75,1088.71 748.35,680.549 862.951,713.274 977.551,944.101 1092.15,772.134 1206.75,1085.77 \n",
       "  1321.35,468.146 1435.95,689.433 1550.55,909.939 1665.15,962.404 1779.75,842.41 1894.35,721.904 2008.95,580.917 2123.56,1012.24 2238.16,752.018 2352.76,633.64 \n",
       "  \n",
       "  \"/>\n",
       "<polyline clip-path=\"url(#clip7602)\" style=\"stroke:#0000ff; stroke-width:4; stroke-opacity:1; fill:none\" points=\"\n",
       "  175.348,912.349 289.949,831.79 404.549,740.709 519.149,400.667 633.75,758.11 748.35,762.53 862.951,825.813 977.551,965.554 1092.15,408.187 1206.75,807.324 \n",
       "  1321.35,863.285 1435.95,457.92 1550.55,634.147 1665.15,731.292 1779.75,837.337 1894.35,455.263 2008.95,800.223 2123.56,629.051 2238.16,732.155 2352.76,802.796 \n",
       "  \n",
       "  \"/>\n",
       "<polyline clip-path=\"url(#clip7602)\" style=\"stroke:#0000ff; stroke-width:4; stroke-opacity:1; fill:none\" points=\"\n",
       "  175.348,514.306 289.949,1086.83 404.549,824.233 519.149,728.833 633.75,410.249 748.35,563.932 862.951,933.277 977.551,942.235 1092.15,644.176 1206.75,533.784 \n",
       "  1321.35,855.597 1435.95,782.663 1550.55,621.649 1665.15,574.348 1779.75,405.376 1894.35,430.798 2008.95,810.836 2123.56,390.232 2238.16,734.998 2352.76,940.056 \n",
       "  \n",
       "  \"/>\n",
       "<polyline clip-path=\"url(#clip7602)\" style=\"stroke:#0000ff; stroke-width:4; stroke-opacity:1; fill:none\" points=\"\n",
       "  175.348,878.506 289.949,863.551 404.549,940.096 519.149,886.207 633.75,696.177 748.35,870.122 862.951,515.587 977.551,861.185 1092.15,950.814 1206.75,793.672 \n",
       "  1321.35,1142.05 1435.95,1142.28 1550.55,707.053 1665.15,1019.4 1779.75,1089.27 1894.35,846.394 2008.95,678.148 2123.56,857.714 2238.16,1117.45 2352.76,977.433 \n",
       "  \n",
       "  \"/>\n",
       "<polyline clip-path=\"url(#clip7602)\" style=\"stroke:#0000ff; stroke-width:4; stroke-opacity:1; fill:none\" points=\"\n",
       "  175.348,534.038 289.949,846.657 404.549,794.498 519.149,974.866 633.75,1128.43 748.35,626.563 862.951,660.76 977.551,683.479 1092.15,904.32 1206.75,411.804 \n",
       "  1321.35,576.002 1435.95,862.433 1550.55,449.081 1665.15,927.41 1779.75,630.496 1894.35,989.311 2008.95,567.697 2123.56,742.184 2238.16,891.875 2352.76,672.663 \n",
       "  \n",
       "  \"/>\n",
       "<polyline clip-path=\"url(#clip7602)\" style=\"stroke:#0000ff; stroke-width:4; stroke-opacity:1; fill:none\" points=\"\n",
       "  175.348,590.853 289.949,724.407 404.549,560.839 519.149,895.386 633.75,946.895 748.35,644.05 862.951,867.838 977.551,502.373 1092.15,411.924 1206.75,564.54 \n",
       "  1321.35,676.099 1435.95,877.175 1550.55,448.33 1665.15,735.356 1779.75,607.738 1894.35,1120.24 2008.95,622.824 2123.56,924.652 2238.16,934.479 2352.76,708.036 \n",
       "  \n",
       "  \"/>\n",
       "<polyline clip-path=\"url(#clip7602)\" style=\"stroke:#0000ff; stroke-width:4; stroke-opacity:1; fill:none\" points=\"\n",
       "  175.348,839.594 289.949,737.726 404.549,730.851 519.149,805.259 633.75,832.505 748.35,960.939 862.951,558.745 977.551,957.714 1092.15,732.261 1206.75,605.785 \n",
       "  1321.35,527.308 1435.95,681.703 1550.55,651.744 1665.15,868.278 1779.75,730.201 1894.35,1069.83 2008.95,974.473 2123.56,1023.41 2238.16,796.738 2352.76,711.958 \n",
       "  \n",
       "  \"/>\n",
       "<polyline clip-path=\"url(#clip7602)\" style=\"stroke:#0000ff; stroke-width:4; stroke-opacity:1; fill:none\" points=\"\n",
       "  175.348,638.052 289.949,989.886 404.549,1004.5 519.149,1021.07 633.75,832.131 748.35,581.506 862.951,763.14 977.551,756.053 1092.15,693.219 1206.75,760.872 \n",
       "  1321.35,1068.41 1435.95,1215.53 1550.55,876.275 1665.15,741.091 1779.75,631.301 1894.35,618.247 2008.95,784.888 2123.56,241.506 2238.16,698.37 2352.76,898.642 \n",
       "  \n",
       "  \"/>\n",
       "<polyline clip-path=\"url(#clip7602)\" style=\"stroke:#0000ff; stroke-width:4; stroke-opacity:1; fill:none\" points=\"\n",
       "  175.348,334.927 289.949,615.592 404.549,529.486 519.149,819.034 633.75,723.089 748.35,550.553 862.951,589.895 977.551,197.628 1092.15,443.259 1206.75,329.822 \n",
       "  1321.35,408.129 1435.95,488.993 1550.55,617.499 1665.15,790.967 1779.75,542.223 1894.35,1019.4 2008.95,586.366 2123.56,749.245 2238.16,595.017 2352.76,433.962 \n",
       "  \n",
       "  \"/>\n",
       "<polyline clip-path=\"url(#clip7602)\" style=\"stroke:#0000ff; stroke-width:4; stroke-opacity:1; fill:none\" points=\"\n",
       "  175.348,767.803 289.949,624.973 404.549,878.195 519.149,568.574 633.75,869.858 748.35,912.087 862.951,1043.27 977.551,799.397 1092.15,1019.77 1206.75,599.221 \n",
       "  1321.35,875.37 1435.95,756.013 1550.55,674.57 1665.15,767.966 1779.75,905.997 1894.35,797.719 2008.95,955.079 2123.56,927.315 2238.16,777.62 2352.76,682.331 \n",
       "  \n",
       "  \"/>\n",
       "<polyline clip-path=\"url(#clip7602)\" style=\"stroke:#0000ff; stroke-width:4; stroke-opacity:1; fill:none\" points=\"\n",
       "  175.348,604.739 289.949,958.849 404.549,654.622 519.149,1053.17 633.75,509.061 748.35,695.293 862.951,689.35 977.551,615.593 1092.15,1196.84 1206.75,831.018 \n",
       "  1321.35,1083.06 1435.95,1051.68 1550.55,698.892 1665.15,806.915 1779.75,958.736 1894.35,954.475 2008.95,787.77 2123.56,775.555 2238.16,776.535 2352.76,822.217 \n",
       "  \n",
       "  \"/>\n",
       "<polyline clip-path=\"url(#clip7602)\" style=\"stroke:#0000ff; stroke-width:4; stroke-opacity:1; fill:none\" points=\"\n",
       "  175.348,791.324 289.949,750.252 404.549,786.47 519.149,712.629 633.75,947.879 748.35,783.968 862.951,668.656 977.551,673.932 1092.15,794.999 1206.75,880.504 \n",
       "  1321.35,339.762 1435.95,776.646 1550.55,810.356 1665.15,953.204 1779.75,940.947 1894.35,734.199 2008.95,725.39 2123.56,964.046 2238.16,828.626 2352.76,788.059 \n",
       "  \n",
       "  \"/>\n",
       "<polyline clip-path=\"url(#clip7602)\" style=\"stroke:#0000ff; stroke-width:4; stroke-opacity:1; fill:none\" points=\"\n",
       "  175.348,456.861 289.949,703.449 404.549,561.48 519.149,640.66 633.75,699.69 748.35,613.497 862.951,785.016 977.551,419.078 1092.15,586.708 1206.75,410.897 \n",
       "  1321.35,618.655 1435.95,667.983 1550.55,129.732 1665.15,532.68 1779.75,627.882 1894.35,897.79 2008.95,494.652 2123.56,421.374 2238.16,908.81 2352.76,381.662 \n",
       "  \n",
       "  \"/>\n",
       "<polyline clip-path=\"url(#clip7602)\" style=\"stroke:#0000ff; stroke-width:4; stroke-opacity:1; fill:none\" points=\"\n",
       "  175.348,858.878 289.949,792.008 404.549,1079.29 519.149,643.128 633.75,763.613 748.35,690.671 862.951,1154.75 977.551,1000.94 1092.15,742.057 1206.75,1033 \n",
       "  1321.35,981.068 1435.95,1042.81 1550.55,758.409 1665.15,745.176 1779.75,790.154 1894.35,688.923 2008.95,845.191 2123.56,854.67 2238.16,880.045 2352.76,733.619 \n",
       "  \n",
       "  \"/>\n",
       "<polyline clip-path=\"url(#clip7602)\" style=\"stroke:#0000ff; stroke-width:4; stroke-opacity:1; fill:none\" points=\"\n",
       "  175.348,571.585 289.949,600.136 404.549,320.312 519.149,753.592 633.75,1050.47 748.35,649.926 862.951,787.167 977.551,950.676 1092.15,658.634 1206.75,899.223 \n",
       "  1321.35,396.14 1435.95,550.1 1550.55,891.933 1665.15,959.087 1779.75,672.714 1894.35,843.606 2008.95,459.49 2123.56,971.294 2238.16,601.702 2352.76,515.428 \n",
       "  \n",
       "  \"/>\n",
       "<polyline clip-path=\"url(#clip7602)\" style=\"stroke:#0000ff; stroke-width:4; stroke-opacity:1; fill:none\" points=\"\n",
       "  175.348,1022.59 289.949,1040.89 404.549,955.634 519.149,723.62 633.75,844.41 748.35,791.006 862.951,795.86 977.551,1088.17 1092.15,609.211 1206.75,935.705 \n",
       "  1321.35,1013.84 1435.95,661.096 1550.55,801.88 1665.15,924.321 1779.75,791.748 1894.35,583.403 2008.95,641.931 2123.56,785.274 2238.16,774.339 2352.76,939.07 \n",
       "  \n",
       "  \"/>\n",
       "<polyline clip-path=\"url(#clip7602)\" style=\"stroke:#0000ff; stroke-width:4; stroke-opacity:1; fill:none\" points=\"\n",
       "  175.348,816.448 289.949,996.216 404.549,698.431 519.149,750.372 633.75,631.123 748.35,737.741 862.951,672.843 977.551,849.509 1092.15,658.208 1206.75,791.571 \n",
       "  1321.35,1092.69 1435.95,740.584 1550.55,751.201 1665.15,869.214 1779.75,856.929 1894.35,776.241 2008.95,712.364 2123.56,738.679 2238.16,805.712 2352.76,1066.18 \n",
       "  \n",
       "  \"/>\n",
       "<polyline clip-path=\"url(#clip7602)\" style=\"stroke:#0000ff; stroke-width:4; stroke-opacity:1; fill:none\" points=\"\n",
       "  175.348,821.373 289.949,709.039 404.549,564.013 519.149,810.405 633.75,982.631 748.35,845.515 862.951,705.06 977.551,968.559 1092.15,694.098 1206.75,650.879 \n",
       "  1321.35,133.202 1435.95,846.56 1550.55,523.296 1665.15,901.217 1779.75,864.745 1894.35,702.831 2008.95,593.505 2123.56,609.34 2238.16,687.631 2352.76,598.396 \n",
       "  \n",
       "  \"/>\n",
       "<polyline clip-path=\"url(#clip7602)\" style=\"stroke:#0000ff; stroke-width:4; stroke-opacity:1; fill:none\" points=\"\n",
       "  175.348,610.858 289.949,918.034 404.549,579.358 519.149,979.516 633.75,805.872 748.35,917.549 862.951,1016.78 977.551,851.583 1092.15,732.908 1206.75,605.23 \n",
       "  1321.35,778.8 1435.95,824.647 1550.55,681.779 1665.15,1003.35 1779.75,573.729 1894.35,995.97 2008.95,621.865 2123.56,983.473 2238.16,893.13 2352.76,725.077 \n",
       "  \n",
       "  \"/>\n",
       "<polyline clip-path=\"url(#clip7602)\" style=\"stroke:#0000ff; stroke-width:4; stroke-opacity:1; fill:none\" points=\"\n",
       "  175.348,590.054 289.949,751.151 404.549,713.04 519.149,586.862 633.75,839.649 748.35,739.524 862.951,756.425 977.551,855.634 1092.15,661.436 1206.75,747.463 \n",
       "  1321.35,858.306 1435.95,609.752 1550.55,439.672 1665.15,915.046 1779.75,820.025 1894.35,759.042 2008.95,788.897 2123.56,756.035 2238.16,796.219 2352.76,943.123 \n",
       "  \n",
       "  \"/>\n",
       "<polyline clip-path=\"url(#clip7602)\" style=\"stroke:#0000ff; stroke-width:4; stroke-opacity:1; fill:none\" points=\"\n",
       "  175.348,657.138 289.949,1126.76 404.549,903.858 519.149,781.991 633.75,703.191 748.35,627.859 862.951,858.346 977.551,896.158 1092.15,633.207 1206.75,848.164 \n",
       "  1321.35,1060.09 1435.95,1055.67 1550.55,928.252 1665.15,707.692 1779.75,651.927 1894.35,526.651 2008.95,742.051 2123.56,657.358 2238.16,672.542 2352.76,999.239 \n",
       "  \n",
       "  \"/>\n",
       "<polyline clip-path=\"url(#clip7602)\" style=\"stroke:#0000ff; stroke-width:4; stroke-opacity:1; fill:none\" points=\"\n",
       "  175.348,1064.24 289.949,947.413 404.549,920.369 519.149,751.504 633.75,665.672 748.35,983.341 862.951,749.648 977.551,710.945 1092.15,725.32 1206.75,987.724 \n",
       "  1321.35,294.85 1435.95,931.575 1550.55,685.986 1665.15,592.724 1779.75,827.187 1894.35,613.155 2008.95,680.611 2123.56,430.903 2238.16,913.949 2352.76,823.555 \n",
       "  \n",
       "  \"/>\n",
       "<polyline clip-path=\"url(#clip7602)\" style=\"stroke:#0000ff; stroke-width:4; stroke-opacity:1; fill:none\" points=\"\n",
       "  175.348,605.844 289.949,682.19 404.549,1061.86 519.149,862.667 633.75,767.767 748.35,550.381 862.951,1081.66 977.551,879.266 1092.15,1101.83 1206.75,711.97 \n",
       "  1321.35,749.599 1435.95,818.58 1550.55,795.142 1665.15,803.354 1779.75,631.748 1894.35,789.271 2008.95,889.26 2123.56,553.823 2238.16,729.542 2352.76,595.953 \n",
       "  \n",
       "  \"/>\n",
       "<polyline clip-path=\"url(#clip7602)\" style=\"stroke:#0000ff; stroke-width:4; stroke-opacity:1; fill:none\" points=\"\n",
       "  175.348,520.345 289.949,703.73 404.549,579.397 519.149,734.507 633.75,807.045 748.35,504.991 862.951,897.559 977.551,465.201 1092.15,507.692 1206.75,607.792 \n",
       "  1321.35,661.443 1435.95,827.689 1550.55,269.274 1665.15,678.313 1779.75,608.336 1894.35,916.568 2008.95,484.055 2123.56,408.224 2238.16,941.353 2352.76,405.663 \n",
       "  \n",
       "  \"/>\n",
       "<polyline clip-path=\"url(#clip7602)\" style=\"stroke:#0000ff; stroke-width:4; stroke-opacity:1; fill:none\" points=\"\n",
       "  175.348,932.691 289.949,822.737 404.549,896.071 519.149,865.589 633.75,596.141 748.35,844.555 862.951,448.84 977.551,637.564 1092.15,677.035 1206.75,741.743 \n",
       "  1321.35,523.805 1435.95,964.255 1550.55,682.344 1665.15,367.881 1779.75,608.9 1894.35,691.539 2008.95,804.739 2123.56,460.897 2238.16,972.928 2352.76,533.082 \n",
       "  \n",
       "  \"/>\n",
       "<polyline clip-path=\"url(#clip7602)\" style=\"stroke:#0000ff; stroke-width:4; stroke-opacity:1; fill:none\" points=\"\n",
       "  175.348,809.819 289.949,776.571 404.549,721.921 519.149,766.363 633.75,813.266 748.35,591.757 862.951,432.487 977.551,910.868 1092.15,709.121 1206.75,734.509 \n",
       "  1321.35,879.393 1435.95,1103.87 1550.55,721.867 1665.15,836.458 1779.75,647.397 1894.35,745.65 2008.95,750.029 2123.56,393.007 2238.16,792.373 2352.76,796.747 \n",
       "  \n",
       "  \"/>\n",
       "<polyline clip-path=\"url(#clip7602)\" style=\"stroke:#0000ff; stroke-width:4; stroke-opacity:1; fill:none\" points=\"\n",
       "  175.348,488.773 289.949,752.173 404.549,511.825 519.149,867.331 633.75,579.804 748.35,616.145 862.951,626.47 977.551,410.026 1092.15,473.375 1206.75,529.09 \n",
       "  1321.35,619.399 1435.95,558.876 1550.55,727.295 1665.15,780.726 1779.75,791.932 1894.35,1004.29 2008.95,575.611 2123.56,837.313 2238.16,582.227 2352.76,522.993 \n",
       "  \n",
       "  \"/>\n",
       "<polyline clip-path=\"url(#clip7602)\" style=\"stroke:#0000ff; stroke-width:4; stroke-opacity:1; fill:none\" points=\"\n",
       "  175.348,698.841 289.949,735.841 404.549,731.458 519.149,693.986 633.75,555.145 748.35,644.952 862.951,841.504 977.551,901.379 1092.15,740.502 1206.75,938.866 \n",
       "  1321.35,838.75 1435.95,994.154 1550.55,619.506 1665.15,764.518 1779.75,838.315 1894.35,910.171 2008.95,737.651 2123.56,763.05 2238.16,917.505 2352.76,501.722 \n",
       "  \n",
       "  \"/>\n",
       "<polyline clip-path=\"url(#clip7602)\" style=\"stroke:#0000ff; stroke-width:4; stroke-opacity:1; fill:none\" points=\"\n",
       "  175.348,830.443 289.949,841.481 404.549,870.345 519.149,813.833 633.75,821.276 748.35,679.545 862.951,919.613 977.551,863.561 1092.15,595.777 1206.75,723.995 \n",
       "  1321.35,731.41 1435.95,927.117 1550.55,658.017 1665.15,788.026 1779.75,620.466 1894.35,710.888 2008.95,751.869 2123.56,928.36 2238.16,625.884 2352.76,909.04 \n",
       "  \n",
       "  \"/>\n",
       "<polyline clip-path=\"url(#clip7602)\" style=\"stroke:#0000ff; stroke-width:4; stroke-opacity:1; fill:none\" points=\"\n",
       "  175.348,1076.8 289.949,864.385 404.549,1146.16 519.149,895.986 633.75,612.255 748.35,949.368 862.951,725.899 977.551,818.416 1092.15,682.952 1206.75,835.072 \n",
       "  1321.35,349.652 1435.95,978.087 1550.55,606.158 1665.15,655.962 1779.75,709.751 1894.35,740.991 2008.95,690.19 2123.56,522.287 2238.16,937.484 2352.76,954.496 \n",
       "  \n",
       "  \"/>\n",
       "<polyline clip-path=\"url(#clip7602)\" style=\"stroke:#0000ff; stroke-width:4; stroke-opacity:1; fill:none\" points=\"\n",
       "  175.348,586.997 289.949,978.187 404.549,882.817 519.149,941.27 633.75,719.174 748.35,696.105 862.951,788.125 977.551,942.296 1092.15,663.511 1206.75,779.387 \n",
       "  1321.35,1046.08 1435.95,1005.36 1550.55,886.458 1665.15,630.297 1779.75,540.426 1894.35,451.649 2008.95,595.588 2123.56,348.4 2238.16,698.718 2352.76,995.082 \n",
       "  \n",
       "  \"/>\n",
       "<polyline clip-path=\"url(#clip7602)\" style=\"stroke:#0000ff; stroke-width:4; stroke-opacity:1; fill:none\" points=\"\n",
       "  175.348,546.24 289.949,989.776 404.549,468.609 519.149,827.25 633.75,1026.97 748.35,911.468 862.951,754.956 977.551,772.06 1092.15,674.4 1206.75,705.023 \n",
       "  1321.35,692.903 1435.95,564.756 1550.55,253.437 1665.15,627.655 1779.75,988.845 1894.35,915.256 2008.95,714.148 2123.56,807.379 2238.16,1006.99 2352.76,728.699 \n",
       "  \n",
       "  \"/>\n",
       "<polyline clip-path=\"url(#clip7602)\" style=\"stroke:#0000ff; stroke-width:4; stroke-opacity:1; fill:none\" points=\"\n",
       "  175.348,1100.98 289.949,881.528 404.549,1162.32 519.149,855.912 633.75,631.171 748.35,955.943 862.951,714.928 977.551,788.821 1092.15,737.5 1206.75,922.056 \n",
       "  1321.35,289.94 1435.95,999.396 1550.55,671.055 1665.15,576.121 1779.75,720.906 1894.35,610.345 2008.95,768.816 2123.56,398.947 2238.16,944.731 2352.76,863.336 \n",
       "  \n",
       "  \"/>\n",
       "<polyline clip-path=\"url(#clip7602)\" style=\"stroke:#0000ff; stroke-width:4; stroke-opacity:1; fill:none\" points=\"\n",
       "  175.348,704.934 289.949,1019.48 404.549,945.234 519.149,704.378 633.75,439.629 748.35,687.837 862.951,1030.48 977.551,942.119 1092.15,873.905 1206.75,714.264 \n",
       "  1321.35,881.301 1435.95,628.693 1550.55,748.058 1665.15,755.676 1779.75,560.313 1894.35,643.988 2008.95,814.932 2123.56,546.914 2238.16,723.488 2352.76,1041.72 \n",
       "  \n",
       "  \"/>\n",
       "<polyline clip-path=\"url(#clip7602)\" style=\"stroke:#0000ff; stroke-width:4; stroke-opacity:1; fill:none\" points=\"\n",
       "  175.348,480.82 289.949,911.678 404.549,893.052 519.149,961.672 633.75,922.374 748.35,622.909 862.951,736.178 977.551,801.323 1092.15,925.422 1206.75,635.751 \n",
       "  1321.35,902.666 1435.95,866.381 1550.55,919.822 1665.15,800.243 1779.75,580.568 1894.35,601.048 2008.95,686.034 2123.56,336.571 2238.16,672.698 2352.76,889.215 \n",
       "  \n",
       "  \"/>\n",
       "<polyline clip-path=\"url(#clip7602)\" style=\"stroke:#0000ff; stroke-width:4; stroke-opacity:1; fill:none\" points=\"\n",
       "  175.348,701.779 289.949,624.959 404.549,828.321 519.149,705.638 633.75,681.653 748.35,605.329 862.951,356.094 977.551,619.628 1092.15,804.426 1206.75,548.595 \n",
       "  1321.35,792.793 1435.95,959.986 1550.55,459.34 1665.15,1074.61 1779.75,872.444 1894.35,785.222 2008.95,719.074 2123.56,725.186 2238.16,963.56 2352.76,798.713 \n",
       "  \n",
       "  \"/>\n",
       "<polyline clip-path=\"url(#clip7602)\" style=\"stroke:#0000ff; stroke-width:4; stroke-opacity:1; fill:none\" points=\"\n",
       "  175.348,1014.45 289.949,940.504 404.549,1108.78 519.149,927.276 633.75,890.835 748.35,921.358 862.951,596.233 977.551,753.454 1092.15,833.565 1206.75,825.914 \n",
       "  1321.35,472.701 1435.95,823.026 1550.55,766.098 1665.15,689.058 1779.75,1066.39 1894.35,610.22 2008.95,680.08 2123.56,896.836 2238.16,773.705 2352.76,846.43 \n",
       "  \n",
       "  \"/>\n",
       "<polyline clip-path=\"url(#clip7602)\" style=\"stroke:#0000ff; stroke-width:4; stroke-opacity:1; fill:none\" points=\"\n",
       "  175.348,882.977 289.949,845.243 404.549,956.455 519.149,855.703 633.75,654.099 748.35,539.344 862.951,555.401 977.551,880.396 1092.15,686.505 1206.75,937.282 \n",
       "  1321.35,620.098 1435.95,819.927 1550.55,809.85 1665.15,600 1779.75,390.217 1894.35,729.272 2008.95,858.221 2123.56,719.511 2238.16,1005.02 2352.76,778.269 \n",
       "  \n",
       "  \"/>\n",
       "<polyline clip-path=\"url(#clip7602)\" style=\"stroke:#0000ff; stroke-width:4; stroke-opacity:1; fill:none\" points=\"\n",
       "  175.348,463.967 289.949,870.98 404.549,638.043 519.149,907.573 633.75,1001.34 748.35,556.864 862.951,635.252 977.551,642.945 1092.15,525.71 1206.75,519.191 \n",
       "  1321.35,843.537 1435.95,973.419 1550.55,428.124 1665.15,825.717 1779.75,673.394 1894.35,969.512 2008.95,748.289 2123.56,569.624 2238.16,940.625 2352.76,809.361 \n",
       "  \n",
       "  \"/>\n",
       "<polyline clip-path=\"url(#clip7602)\" style=\"stroke:#0000ff; stroke-width:4; stroke-opacity:1; fill:none\" points=\"\n",
       "  175.348,639.605 289.949,991.342 404.549,1035.19 519.149,991.696 633.75,799.478 748.35,668.632 862.951,763.588 977.551,722.581 1092.15,656.902 1206.75,889.007 \n",
       "  1321.35,906.197 1435.95,1191.58 1550.55,794.246 1665.15,701.355 1779.75,693.004 1894.35,651.598 2008.95,788.294 2123.56,243.97 2238.16,817.971 2352.76,844.642 \n",
       "  \n",
       "  \"/>\n",
       "<polyline clip-path=\"url(#clip7602)\" style=\"stroke:#0000ff; stroke-width:4; stroke-opacity:1; fill:none\" points=\"\n",
       "  175.348,581.402 289.949,671.396 404.549,803.69 519.149,836.502 633.75,788.31 748.35,811.259 862.951,457.005 977.551,758.617 1092.15,785.497 1206.75,430.756 \n",
       "  1321.35,592.63 1435.95,916.2 1550.55,545.364 1665.15,816.332 1779.75,636.185 1894.35,863.799 2008.95,687.632 2123.56,846.129 2238.16,614.623 2352.76,694.227 \n",
       "  \n",
       "  \"/>\n",
       "<polyline clip-path=\"url(#clip7602)\" style=\"stroke:#0000ff; stroke-width:4; stroke-opacity:1; fill:none\" points=\"\n",
       "  175.348,906.266 289.949,934.764 404.549,1156.31 519.149,929.367 633.75,898.789 748.35,958.214 862.951,918.945 977.551,952.152 1092.15,926.623 1206.75,835.554 \n",
       "  1321.35,619.72 1435.95,901.466 1550.55,925.975 1665.15,793.441 1779.75,882.593 1894.35,596.91 2008.95,687.764 2123.56,613.45 2238.16,1052.02 2352.76,806.129 \n",
       "  \n",
       "  \"/>\n",
       "<polyline clip-path=\"url(#clip7602)\" style=\"stroke:#0000ff; stroke-width:4; stroke-opacity:1; fill:none\" points=\"\n",
       "  175.348,441.275 289.949,674.644 404.549,526.604 519.149,550.529 633.75,642.567 748.35,622.63 862.951,596.058 977.551,407.138 1092.15,543.837 1206.75,467.825 \n",
       "  1321.35,382.241 1435.95,610.095 1550.55,209.788 1665.15,447.35 1779.75,754.965 1894.35,733.198 2008.95,436.753 2123.56,299.368 2238.16,767.603 2352.76,479.644 \n",
       "  \n",
       "  \"/>\n",
       "<polyline clip-path=\"url(#clip7602)\" style=\"stroke:#0000ff; stroke-width:4; stroke-opacity:1; fill:none\" points=\"\n",
       "  175.348,806.547 289.949,860.232 404.549,967.145 519.149,1251.32 633.75,1047.58 748.35,900.816 862.951,769.521 977.551,1204.67 1092.15,1033.98 1206.75,820.939 \n",
       "  1321.35,573.562 1435.95,1138.48 1550.55,672.453 1665.15,862.859 1779.75,754.062 1894.35,934.423 2008.95,850.507 2123.56,541.979 2238.16,778.959 2352.76,1083.1 \n",
       "  \n",
       "  \"/>\n",
       "<polyline clip-path=\"url(#clip7602)\" style=\"stroke:#0000ff; stroke-width:4; stroke-opacity:1; fill:none\" points=\"\n",
       "  175.348,712.632 289.949,1108.77 404.549,930.395 519.149,950.977 633.75,530.034 748.35,777.434 862.951,929.865 977.551,865.217 1092.15,743.671 1206.75,711.112 \n",
       "  1321.35,912.366 1435.95,1208.05 1550.55,890.218 1665.15,638.367 1779.75,850.567 1894.35,438.61 2008.95,794.407 2123.56,523.068 2238.16,921.995 2352.76,1063.42 \n",
       "  \n",
       "  \"/>\n",
       "<polyline clip-path=\"url(#clip7602)\" style=\"stroke:#0000ff; stroke-width:4; stroke-opacity:1; fill:none\" points=\"\n",
       "  175.348,905.268 289.949,855.48 404.549,738.931 519.149,605.567 633.75,797.609 748.35,817.969 862.951,838.527 977.551,1045.92 1092.15,687.2 1206.75,886.635 \n",
       "  1321.35,878.809 1435.95,585.852 1550.55,594.761 1665.15,779.307 1779.75,877.812 1894.35,512.079 2008.95,967.901 2123.56,632.181 2238.16,897.68 2352.76,1002.8 \n",
       "  \n",
       "  \"/>\n",
       "<polyline clip-path=\"url(#clip7602)\" style=\"stroke:#0000ff; stroke-width:4; stroke-opacity:1; fill:none\" points=\"\n",
       "  175.348,513.489 289.949,879.388 404.549,666.759 519.149,808.273 633.75,876.635 748.35,613.403 862.951,1020.42 977.551,572.318 1092.15,643.913 1206.75,415.448 \n",
       "  1321.35,653.848 1435.95,738.723 1550.55,551.446 1665.15,1030.68 1779.75,669.18 1894.35,1137.03 2008.95,681.084 2123.56,946.839 2238.16,1003.01 2352.76,581.793 \n",
       "  \n",
       "  \"/>\n",
       "<polyline clip-path=\"url(#clip7602)\" style=\"stroke:#0000ff; stroke-width:4; stroke-opacity:1; fill:none\" points=\"\n",
       "  175.348,662.011 289.949,864.042 404.549,671.148 519.149,1048.49 633.75,1064.48 748.35,890.836 862.951,662.711 977.551,945.738 1092.15,906.818 1206.75,671.776 \n",
       "  1321.35,497.495 1435.95,778.132 1550.55,580.533 1665.15,659.038 1779.75,978.704 1894.35,941.117 2008.95,603.395 2123.56,697.743 2238.16,712.99 2352.76,1020.32 \n",
       "  \n",
       "  \"/>\n",
       "<polyline clip-path=\"url(#clip7602)\" style=\"stroke:#0000ff; stroke-width:4; stroke-opacity:1; fill:none\" points=\"\n",
       "  175.348,905.268 289.949,855.48 404.549,738.931 519.149,605.567 633.75,797.609 748.35,817.969 862.951,838.527 977.551,1045.92 1092.15,687.2 1206.75,886.635 \n",
       "  1321.35,878.809 1435.95,585.852 1550.55,594.761 1665.15,779.307 1779.75,877.812 1894.35,512.079 2008.95,967.901 2123.56,632.181 2238.16,897.68 2352.76,1002.8 \n",
       "  \n",
       "  \"/>\n",
       "<polyline clip-path=\"url(#clip7602)\" style=\"stroke:#0000ff; stroke-width:4; stroke-opacity:1; fill:none\" points=\"\n",
       "  175.348,639.605 289.949,991.342 404.549,1035.19 519.149,991.696 633.75,799.478 748.35,668.632 862.951,763.588 977.551,722.581 1092.15,656.902 1206.75,889.007 \n",
       "  1321.35,906.197 1435.95,1191.58 1550.55,794.246 1665.15,701.355 1779.75,693.004 1894.35,651.598 2008.95,788.294 2123.56,243.97 2238.16,817.971 2352.76,844.642 \n",
       "  \n",
       "  \"/>\n",
       "<polyline clip-path=\"url(#clip7602)\" style=\"stroke:#0000ff; stroke-width:4; stroke-opacity:1; fill:none\" points=\"\n",
       "  175.348,783.986 289.949,886.68 404.549,1098.7 519.149,975.188 633.75,679.181 748.35,707.39 862.951,948.666 977.551,976.373 1092.15,1063.53 1206.75,784.591 \n",
       "  1321.35,714.951 1435.95,1083.16 1550.55,807.004 1665.15,607.423 1779.75,657.94 1894.35,665.832 2008.95,889.5 2123.56,403.197 2238.16,727.873 2352.76,1156.34 \n",
       "  \n",
       "  \"/>\n",
       "<polyline clip-path=\"url(#clip7602)\" style=\"stroke:#0000ff; stroke-width:4; stroke-opacity:1; fill:none\" points=\"\n",
       "  175.348,679.954 289.949,774.622 404.549,916.895 519.149,1090.08 633.75,792.521 748.35,636.13 862.951,731.133 977.551,919.99 1092.15,900.34 1206.75,644.365 \n",
       "  1321.35,669.09 1435.95,1038.41 1550.55,655.309 1665.15,623.461 1779.75,526.85 1894.35,891.82 2008.95,706.444 2123.56,256.988 2238.16,718.777 2352.76,1021.25 \n",
       "  \n",
       "  \"/>\n",
       "<polyline clip-path=\"url(#clip7602)\" style=\"stroke:#0000ff; stroke-width:4; stroke-opacity:1; fill:none\" points=\"\n",
       "  175.348,622.821 289.949,854.903 404.549,657.852 519.149,826.923 633.75,973.9 748.35,557.439 862.951,622.227 977.551,1041.24 1092.15,790.634 1206.75,554.432 \n",
       "  1321.35,389.295 1435.95,775.043 1550.55,691.031 1665.15,950.149 1779.75,734.601 1894.35,546.058 2008.95,786.394 2123.56,545.027 2238.16,801.464 2352.76,632.244 \n",
       "  \n",
       "  \"/>\n",
       "<polyline clip-path=\"url(#clip7602)\" style=\"stroke:#0000ff; stroke-width:4; stroke-opacity:1; fill:none\" points=\"\n",
       "  175.348,803.114 289.949,906.672 404.549,806.618 519.149,934.944 633.75,761.679 748.35,1027.25 862.951,755.835 977.551,1150.69 1092.15,968.103 1206.75,982.106 \n",
       "  1321.35,1011.3 1435.95,1112.25 1550.55,1012.97 1665.15,736.628 1779.75,1106.18 1894.35,901.836 2008.95,958.919 2123.56,769.968 2238.16,1020.86 2352.76,831.357 \n",
       "  \n",
       "  \"/>\n",
       "<polyline clip-path=\"url(#clip7602)\" style=\"stroke:#0000ff; stroke-width:4; stroke-opacity:1; fill:none\" points=\"\n",
       "  175.348,1183.1 289.949,996.499 404.549,1369.1 519.149,1178.53 633.75,915.823 748.35,849.927 862.951,723.343 977.551,1226.85 1092.15,1001.98 1206.75,1303.96 \n",
       "  1321.35,981.494 1435.95,1181.25 1550.55,898.084 1665.15,1121.67 1779.75,1019.68 1894.35,995.611 2008.95,885.362 2123.56,801.98 2238.16,1281.05 2352.76,1095.19 \n",
       "  \n",
       "  \"/>\n",
       "<polyline clip-path=\"url(#clip7602)\" style=\"stroke:#0000ff; stroke-width:4; stroke-opacity:1; fill:none\" points=\"\n",
       "  175.348,503.021 289.949,808.45 404.549,647.057 519.149,965.493 633.75,938.188 748.35,588.746 862.951,836.737 977.551,438.397 1092.15,641.277 1206.75,591.844 \n",
       "  1321.35,554.944 1435.95,619.213 1550.55,778.096 1665.15,911.979 1779.75,613.461 1894.35,1092.7 2008.95,631.025 2123.56,817.676 2238.16,630.11 2352.76,572.138 \n",
       "  \n",
       "  \"/>\n",
       "<polyline clip-path=\"url(#clip7602)\" style=\"stroke:#0000ff; stroke-width:4; stroke-opacity:1; fill:none\" points=\"\n",
       "  175.348,676.872 289.949,1062.83 404.549,926.461 519.149,1055.9 633.75,1093.87 748.35,793.634 862.951,1044.14 977.551,857.779 1092.15,677.611 1206.75,893.606 \n",
       "  1321.35,1270.54 1435.95,1231 1550.55,894.784 1665.15,995.074 1779.75,768.189 1894.35,1029.35 2008.95,881.486 2123.56,534.11 2238.16,977.751 2352.76,924.875 \n",
       "  \n",
       "  \"/>\n",
       "<polyline clip-path=\"url(#clip7602)\" style=\"stroke:#0000ff; stroke-width:4; stroke-opacity:1; fill:none\" points=\"\n",
       "  175.348,922.37 289.949,993.515 404.549,1180.04 519.149,1033.8 633.75,802.591 748.35,840.27 862.951,1056.55 977.551,1065.07 1092.15,1100.4 1206.75,863.118 \n",
       "  1321.35,802.51 1435.95,1182.34 1550.55,870.307 1665.15,802.729 1779.75,798.867 1894.35,722.408 2008.95,1033.33 2123.56,519.71 2238.16,826.875 2352.76,1265.46 \n",
       "  \n",
       "  \"/>\n",
       "<polyline clip-path=\"url(#clip7602)\" style=\"stroke:#0000ff; stroke-width:4; stroke-opacity:1; fill:none\" points=\"\n",
       "  175.348,377.616 289.949,674.954 404.549,539.856 519.149,825.67 633.75,815.253 748.35,568.804 862.951,612.696 977.551,217.496 1092.15,528.059 1206.75,426.195 \n",
       "  1321.35,483.065 1435.95,583.439 1550.55,707.228 1665.15,816.063 1779.75,612.624 1894.35,1056.85 2008.95,664.922 2123.56,773.704 2238.16,625.412 2352.76,452.121 \n",
       "  \n",
       "  \"/>\n",
       "<polyline clip-path=\"url(#clip7602)\" style=\"stroke:#0000ff; stroke-width:4; stroke-opacity:1; fill:none\" points=\"\n",
       "  175.348,999.056 289.949,1021.84 404.549,921.879 519.149,1211.45 633.75,888.91 748.35,1180.42 862.951,836.851 977.551,1091.07 1092.15,1025.98 1206.75,1081.7 \n",
       "  1321.35,950.379 1435.95,953.555 1550.55,1281.95 1665.15,759.048 1779.75,809.248 1894.35,1074.3 2008.95,714.909 2123.56,1078.53 2238.16,838.031 2352.76,1127.9 \n",
       "  \n",
       "  \"/>\n",
       "<polyline clip-path=\"url(#clip7602)\" style=\"stroke:#0000ff; stroke-width:4; stroke-opacity:1; fill:none\" points=\"\n",
       "  175.348,732.114 289.949,939.931 404.549,1120.7 519.149,1051.63 633.75,832.157 748.35,738.077 862.951,1186.56 977.551,1103.06 1092.15,1088.67 1206.75,715.432 \n",
       "  1321.35,870.911 1435.95,910.969 1550.55,799.928 1665.15,1179.46 1779.75,761.53 1894.35,1125.4 2008.95,867.984 2123.56,843.141 2238.16,1012.62 2352.76,840.295 \n",
       "  \n",
       "  \"/>\n",
       "<polyline clip-path=\"url(#clip7602)\" style=\"stroke:#0000ff; stroke-width:4; stroke-opacity:1; fill:none\" points=\"\n",
       "  175.348,884.569 289.949,883.522 404.549,919.23 519.149,1080.55 633.75,987.077 748.35,859.715 862.951,818.299 977.551,895.184 1092.15,1068.74 1206.75,894.857 \n",
       "  1321.35,880.46 1435.95,1176.72 1550.55,733.723 1665.15,942.177 1779.75,718.284 1894.35,1143.33 2008.95,769.994 2123.56,900.17 2238.16,893.682 2352.76,1178 \n",
       "  \n",
       "  \"/>\n",
       "<polyline clip-path=\"url(#clip7602)\" style=\"stroke:#0000ff; stroke-width:4; stroke-opacity:1; fill:none\" points=\"\n",
       "  175.348,503.249 289.949,676.61 404.549,563.109 519.149,524.407 633.75,598.708 748.35,413.469 862.951,574.284 977.551,792.039 1092.15,381.15 1206.75,916.134 \n",
       "  1321.35,707.316 1435.95,639.931 1550.55,549.474 1665.15,454.482 1779.75,383.741 1894.35,343.308 2008.95,629.834 2123.56,463.26 2238.16,653.382 2352.76,725.004 \n",
       "  \n",
       "  \"/>\n",
       "<polyline clip-path=\"url(#clip7602)\" style=\"stroke:#0000ff; stroke-width:4; stroke-opacity:1; fill:none\" points=\"\n",
       "  175.348,740.539 289.949,914.164 404.549,712.224 519.149,845.417 633.75,1104.59 748.35,797.809 862.951,1014.41 977.551,754.045 1092.15,827.191 1206.75,707.754 \n",
       "  1321.35,760.423 1435.95,671.279 1550.55,531.303 1665.15,474.008 1779.75,998.91 1894.35,712.298 2008.95,810.432 2123.56,575.775 2238.16,996.531 2352.76,503.176 \n",
       "  \n",
       "  \"/>\n",
       "<polyline clip-path=\"url(#clip7602)\" style=\"stroke:#0000ff; stroke-width:4; stroke-opacity:1; fill:none\" points=\"\n",
       "  175.348,619.886 289.949,796.734 404.549,842.931 519.149,1068.89 633.75,966.385 748.35,561.778 862.951,810.031 977.551,807.935 1092.15,983.407 1206.75,584.444 \n",
       "  1321.35,596.98 1435.95,531.949 1550.55,593.986 1665.15,846.574 1779.75,557.535 1894.35,797.117 2008.95,810.471 2123.56,526.961 2238.16,697.218 2352.76,684.017 \n",
       "  \n",
       "  \"/>\n",
       "<polyline clip-path=\"url(#clip7602)\" style=\"stroke:#0000ff; stroke-width:4; stroke-opacity:1; fill:none\" points=\"\n",
       "  175.348,608.062 289.949,803.624 404.549,809.915 519.149,871.995 633.75,1000.97 748.35,973.092 862.951,728.537 977.551,751.875 1092.15,807.104 1206.75,611.339 \n",
       "  1321.35,828.345 1435.95,926.791 1550.55,800.107 1665.15,986.599 1779.75,600.603 1894.35,1090.91 2008.95,926.905 2123.56,908.33 2238.16,699.316 2352.76,852.492 \n",
       "  \n",
       "  \"/>\n",
       "<polyline clip-path=\"url(#clip7602)\" style=\"stroke:#0000ff; stroke-width:4; stroke-opacity:1; fill:none\" points=\"\n",
       "  175.348,580.984 289.949,650.923 404.549,742.435 519.149,743.923 633.75,882.815 748.35,855.998 862.951,718.83 977.551,533.026 1092.15,669.44 1206.75,344.435 \n",
       "  1321.35,355.11 1435.95,754.768 1550.55,433.296 1665.15,853.473 1779.75,703.244 1894.35,913.623 2008.95,744.386 2123.56,676.633 2238.16,713.461 2352.76,743.479 \n",
       "  \n",
       "  \"/>\n",
       "<polyline clip-path=\"url(#clip7602)\" style=\"stroke:#0000ff; stroke-width:4; stroke-opacity:1; fill:none\" points=\"\n",
       "  175.348,1031.36 289.949,1347.69 404.549,1031.04 519.149,1310.19 633.75,1486.45 748.35,1235.88 862.951,1038.57 977.551,1381.95 1092.15,1000.51 1206.75,995.722 \n",
       "  1321.35,1029.56 1435.95,1121.11 1550.55,1191.5 1665.15,1238.97 1779.75,1174.64 1894.35,1084.01 2008.95,1042.85 2123.56,963.746 2238.16,1076.36 2352.76,1197.48 \n",
       "  \n",
       "  \"/>\n",
       "<polyline clip-path=\"url(#clip7602)\" style=\"stroke:#0000ff; stroke-width:4; stroke-opacity:1; fill:none\" points=\"\n",
       "  175.348,910.698 289.949,827.674 404.549,898.709 519.149,834.411 633.75,988.791 748.35,784.127 862.951,431.42 977.551,992.863 1092.15,834.631 1206.75,907.46 \n",
       "  1321.35,877.447 1435.95,1195.91 1550.55,898.86 1665.15,901.519 1779.75,818.477 1894.35,878.584 2008.95,877.326 2123.56,530.123 2238.16,834.433 2352.76,782.83 \n",
       "  \n",
       "  \"/>\n",
       "<polyline clip-path=\"url(#clip7602)\" style=\"stroke:#0000ff; stroke-width:4; stroke-opacity:1; fill:none\" points=\"\n",
       "  175.348,1083.24 289.949,1000.46 404.549,909.178 519.149,923.823 633.75,977.609 748.35,1025.44 862.951,888.633 977.551,1212.87 1092.15,976.326 1206.75,1090.61 \n",
       "  1321.35,1098.83 1435.95,927.985 1550.55,951.325 1665.15,1089.82 1779.75,994.519 1894.35,734.562 2008.95,1140.09 2123.56,802.508 2238.16,1114.1 2352.76,1214.46 \n",
       "  \n",
       "  \"/>\n",
       "<polyline clip-path=\"url(#clip7602)\" style=\"stroke:#0000ff; stroke-width:4; stroke-opacity:1; fill:none\" points=\"\n",
       "  175.348,704.59 289.949,820.318 404.549,833.13 519.149,917.212 633.75,813.442 748.35,701.232 862.951,693.372 977.551,671.993 1092.15,596.481 1206.75,500.012 \n",
       "  1321.35,618.638 1435.95,924.691 1550.55,670.307 1665.15,920.79 1779.75,742.444 1894.35,997.488 2008.95,530.023 2123.56,833.599 2238.16,850.343 2352.76,754.156 \n",
       "  \n",
       "  \"/>\n",
       "<polyline clip-path=\"url(#clip7602)\" style=\"stroke:#0000ff; stroke-width:4; stroke-opacity:1; fill:none\" points=\"\n",
       "  175.348,762.434 289.949,661.107 404.549,817.314 519.149,824.431 633.75,864.099 748.35,668.684 862.951,783.589 977.551,946.975 1092.15,821.457 1206.75,704.418 \n",
       "  1321.35,961.888 1435.95,700.52 1550.55,780.057 1665.15,914.303 1779.75,993.109 1894.35,776.527 2008.95,905.412 2123.56,948.081 2238.16,836.096 2352.76,820.32 \n",
       "  \n",
       "  \"/>\n",
       "<polyline clip-path=\"url(#clip7602)\" style=\"stroke:#0000ff; stroke-width:4; stroke-opacity:1; fill:none\" points=\"\n",
       "  175.348,631.951 289.949,1069.68 404.549,949.93 519.149,1051.1 633.75,858.936 748.35,886.115 862.951,865.584 977.551,908.643 1092.15,801.031 1206.75,692.463 \n",
       "  1321.35,1100.54 1435.95,990.452 1550.55,912.125 1665.15,726.733 1779.75,717.527 1894.35,473.278 2008.95,681.744 2123.56,420.616 2238.16,813.648 2352.76,1118.6 \n",
       "  \n",
       "  \"/>\n",
       "<polyline clip-path=\"url(#clip7602)\" style=\"stroke:#0000ff; stroke-width:4; stroke-opacity:1; fill:none\" points=\"\n",
       "  175.348,784.925 289.949,1073.67 404.549,877.055 519.149,752.72 633.75,635.03 748.35,846.194 862.951,1201.47 977.551,891.351 1092.15,779.311 1206.75,624.045 \n",
       "  1321.35,784.002 1435.95,1060.03 1550.55,809.838 1665.15,839.286 1779.75,766.972 1894.35,750.067 2008.95,766.078 2123.56,848.985 2238.16,1173.62 2352.76,968.98 \n",
       "  \n",
       "  \"/>\n",
       "<polyline clip-path=\"url(#clip7602)\" style=\"stroke:#0000ff; stroke-width:4; stroke-opacity:1; fill:none\" points=\"\n",
       "  175.348,807.621 289.949,895.12 404.549,1088.42 519.149,858 633.75,696.216 748.35,721.668 862.951,958.389 977.551,864.397 1092.15,869.096 1206.75,685.245 \n",
       "  1321.35,715.039 1435.95,1024.11 1550.55,853.888 1665.15,611.627 1779.75,582.924 1894.35,618.274 2008.95,735.495 2123.56,353.409 2238.16,591.423 2352.76,1145.56 \n",
       "  \n",
       "  \"/>\n",
       "<polyline clip-path=\"url(#clip7602)\" style=\"stroke:#0000ff; stroke-width:4; stroke-opacity:1; fill:none\" points=\"\n",
       "  175.348,831.442 289.949,903.457 404.549,1168.23 519.149,916.699 633.75,1178.61 748.35,969.518 862.951,854.635 977.551,881.265 1092.15,1167.38 1206.75,677.087 \n",
       "  1321.35,824.007 1435.95,924.887 1550.55,745.511 1665.15,952.336 1779.75,967.526 1894.35,838.269 2008.95,833.586 2123.56,765.224 2238.16,1359.63 2352.76,814.582 \n",
       "  \n",
       "  \"/>\n",
       "<polyline clip-path=\"url(#clip7602)\" style=\"stroke:#0000ff; stroke-width:4; stroke-opacity:1; fill:none\" points=\"\n",
       "  175.348,374.194 289.949,684.744 404.549,574.111 519.149,768.733 633.75,740.378 748.35,567.385 862.951,540.369 977.551,273.184 1092.15,539.301 1206.75,384.756 \n",
       "  1321.35,443.725 1435.95,532.899 1550.55,497.641 1665.15,743.193 1779.75,506.904 1894.35,935.267 2008.95,657.171 2123.56,558.606 2238.16,624.592 2352.76,528.915 \n",
       "  \n",
       "  \"/>\n",
       "<polyline clip-path=\"url(#clip7602)\" style=\"stroke:#0000ff; stroke-width:4; stroke-opacity:1; fill:none\" points=\"\n",
       "  175.348,571.585 289.949,600.136 404.549,320.312 519.149,753.592 633.75,1050.47 748.35,649.926 862.951,787.167 977.551,950.676 1092.15,658.634 1206.75,899.223 \n",
       "  1321.35,396.14 1435.95,550.1 1550.55,891.933 1665.15,959.087 1779.75,672.714 1894.35,843.606 2008.95,459.49 2123.56,971.294 2238.16,601.702 2352.76,515.428 \n",
       "  \n",
       "  \"/>\n",
       "<polyline clip-path=\"url(#clip7602)\" style=\"stroke:#0000ff; stroke-width:4; stroke-opacity:1; fill:none\" points=\"\n",
       "  175.348,509.728 289.949,966.232 404.549,844.563 519.149,1010.81 633.75,623.773 748.35,766.901 862.951,785.929 977.551,751.526 1092.15,939.255 1206.75,577.037 \n",
       "  1321.35,843.716 1435.95,886.433 1550.55,787.534 1665.15,617.425 1779.75,671.402 1894.35,672.954 2008.95,622.222 2123.56,353.648 2238.16,852.062 2352.76,858.673 \n",
       "  \n",
       "  \"/>\n",
       "<polyline clip-path=\"url(#clip7602)\" style=\"stroke:#0000ff; stroke-width:4; stroke-opacity:1; fill:none\" points=\"\n",
       "  175.348,887.926 289.949,761.993 404.549,770.053 519.149,587.821 633.75,709.119 748.35,759.35 862.951,599.547 977.551,824.922 1092.15,420.849 1206.75,830.481 \n",
       "  1321.35,568.398 1435.95,477.034 1550.55,516.253 1665.15,693.97 1779.75,529.871 1894.35,833.48 2008.95,684.195 2123.56,588.962 2238.16,639.998 2352.76,715.499 \n",
       "  \n",
       "  \"/>\n",
       "<polyline clip-path=\"url(#clip7602)\" style=\"stroke:#0000ff; stroke-width:4; stroke-opacity:1; fill:none\" points=\"\n",
       "  175.348,633.373 289.949,1093.21 404.549,891.294 519.149,1097.39 633.75,742.899 748.35,907.492 862.951,947.262 977.551,937.749 1092.15,957.41 1206.75,665.698 \n",
       "  1321.35,910.02 1435.95,927.802 1550.55,843.056 1665.15,666.213 1779.75,678.289 1894.35,619.959 2008.95,714.69 2123.56,475.652 2238.16,964.097 2352.76,1065.28 \n",
       "  \n",
       "  \"/>\n",
       "<polyline clip-path=\"url(#clip7602)\" style=\"stroke:#ffa500; stroke-width:4; stroke-opacity:1; fill:none\" points=\"\n",
       "  175.348,861.197 289.949,744.728 404.549,843.185 519.149,470.198 633.75,836.969 748.35,800.058 862.951,950.094 977.551,861.167 1092.15,640.819 1206.75,944.828 \n",
       "  1321.35,759.413 1435.95,632.986 1550.55,546.285 1665.15,532.812 1779.75,915.801 1894.35,613.488 2008.95,1121.63 2123.56,527.473 2238.16,849.664 2352.76,650.848 \n",
       "  \n",
       "  \"/>\n",
       "<polyline clip-path=\"url(#clip7602)\" style=\"stroke:#ffa500; stroke-width:4; stroke-opacity:1; fill:none\" points=\"\n",
       "  175.348,659.491 289.949,691.795 404.549,650.593 519.149,219.458 633.75,401.27 748.35,544.638 862.951,812.862 977.551,641.824 1092.15,368.173 1206.75,656.544 \n",
       "  1321.35,767.85 1435.95,393.611 1550.55,578.1 1665.15,591.001 1779.75,609.819 1894.35,444.209 2008.95,760.24 2123.56,505.749 2238.16,578.87 2352.76,777.439 \n",
       "  \n",
       "  \"/>\n",
       "<polyline clip-path=\"url(#clip7602)\" style=\"stroke:#ffa500; stroke-width:4; stroke-opacity:1; fill:none\" points=\"\n",
       "  175.348,500.825 289.949,668.645 404.549,478.628 519.149,672.223 633.75,1038.64 748.35,744.663 862.951,818.351 977.551,1309.42 1092.15,794.315 1206.75,843.785 \n",
       "  1321.35,631.758 1435.95,909.439 1550.55,572.449 1665.15,953.4 1779.75,876.337 1894.35,658.372 2008.95,550.602 2123.56,639.975 2238.16,751.737 2352.76,775.687 \n",
       "  \n",
       "  \"/>\n",
       "<polyline clip-path=\"url(#clip7602)\" style=\"stroke:#ffa500; stroke-width:4; stroke-opacity:1; fill:none\" points=\"\n",
       "  175.348,366.544 289.949,849.57 404.549,678.747 519.149,935.796 633.75,864.641 748.35,607.697 862.951,609.884 977.551,537.4 1092.15,1019.07 1206.75,235.69 \n",
       "  1321.35,534.401 1435.95,778.86 1550.55,252.607 1665.15,809.056 1779.75,617.232 1894.35,844.606 2008.95,401.443 2123.56,742.211 2238.16,751.727 2352.76,754.146 \n",
       "  \n",
       "  \"/>\n",
       "<polyline clip-path=\"url(#clip7602)\" style=\"stroke:#ffa500; stroke-width:4; stroke-opacity:1; fill:none\" points=\"\n",
       "  175.348,483.96 289.949,901.48 404.549,671.096 519.149,682.761 633.75,464.352 748.35,465.672 862.951,663.523 977.551,682.697 1092.15,397.476 1206.75,703.144 \n",
       "  1321.35,616.237 1435.95,662.765 1550.55,611.605 1665.15,243.488 1779.75,183.651 1894.35,338.06 2008.95,599.157 2123.56,394.895 2238.16,575.007 2352.76,711.738 \n",
       "  \n",
       "  \"/>\n",
       "<polyline clip-path=\"url(#clip7602)\" style=\"stroke:#ffa500; stroke-width:4; stroke-opacity:1; fill:none\" points=\"\n",
       "  175.348,563.039 289.949,924.104 404.549,468.402 519.149,839.709 633.75,761.574 748.35,723.424 862.951,1091.58 977.551,686.002 1092.15,596.341 1206.75,484.216 \n",
       "  1321.35,569.042 1435.95,587.797 1550.55,592.99 1665.15,725.84 1779.75,357.229 1894.35,879.133 2008.95,442.121 2123.56,678.117 2238.16,824.527 2352.76,702.689 \n",
       "  \n",
       "  \"/>\n",
       "<polyline clip-path=\"url(#clip7602)\" style=\"stroke:#ffa500; stroke-width:4; stroke-opacity:1; fill:none\" points=\"\n",
       "  175.348,350.478 289.949,872.997 404.549,632.25 519.149,508.088 633.75,167.38 748.35,410.88 862.951,695.538 977.551,689.768 1092.15,408.504 1206.75,221.061 \n",
       "  1321.35,682.454 1435.95,629.227 1550.55,452.536 1665.15,451.876 1779.75,276.319 1894.35,330.956 2008.95,671.685 2123.56,309.95 2238.16,613.907 2352.76,696.516 \n",
       "  \n",
       "  \"/>\n",
       "<polyline clip-path=\"url(#clip7602)\" style=\"stroke:#ffa500; stroke-width:4; stroke-opacity:1; fill:none\" points=\"\n",
       "  175.348,783.799 289.949,721.434 404.549,523.129 519.149,500.126 633.75,799.587 748.35,522.022 862.951,829.488 977.551,873.16 1092.15,568.349 1206.75,950.167 \n",
       "  1321.35,566.259 1435.95,601.409 1550.55,962.039 1665.15,857.718 1779.75,740.108 1894.35,586.71 2008.95,580.545 2123.56,1010.29 2238.16,627.697 2352.76,679.066 \n",
       "  \n",
       "  \"/>\n",
       "<polyline clip-path=\"url(#clip7602)\" style=\"stroke:#ffa500; stroke-width:4; stroke-opacity:1; fill:none\" points=\"\n",
       "  175.348,441.713 289.949,649.362 404.549,440.886 519.149,716.602 633.75,1146.67 748.35,746.436 862.951,677.999 977.551,1067.35 1092.15,696.447 1206.75,885.57 \n",
       "  1321.35,553.754 1435.95,722.169 1550.55,673.666 1665.15,891.645 1779.75,705.159 1894.35,675.644 2008.95,543.807 2123.56,673.43 2238.16,594.876 2352.76,670.717 \n",
       "  \n",
       "  \"/>\n",
       "<polyline clip-path=\"url(#clip7602)\" style=\"stroke:#ffa500; stroke-width:4; stroke-opacity:1; fill:none\" points=\"\n",
       "  175.348,539.359 289.949,795.82 404.549,686.632 519.149,1019.72 633.75,779.958 748.35,733.839 862.951,832.641 977.551,810.115 1092.15,843.256 1206.75,402.918 \n",
       "  1321.35,578.291 1435.95,905.232 1550.55,494.697 1665.15,568.857 1779.75,492.643 1894.35,673.481 2008.95,460.356 2123.56,513.528 2238.16,514.394 2352.76,1217.3 \n",
       "  \n",
       "  \"/>\n",
       "<polyline clip-path=\"url(#clip7602)\" style=\"stroke:#ffa500; stroke-width:4; stroke-opacity:1; fill:none\" points=\"\n",
       "  175.348,732.741 289.949,1001.46 404.549,616.68 519.149,762.995 633.75,841.708 748.35,678.474 862.951,749.707 977.551,936.561 1092.15,489.294 1206.75,874.271 \n",
       "  1321.35,859.806 1435.95,869.228 1550.55,729.512 1665.15,516.094 1779.75,636.623 1894.35,442.568 2008.95,740.818 2123.56,614.222 2238.16,843.3 2352.76,814.359 \n",
       "  \n",
       "  \"/>\n",
       "<polyline clip-path=\"url(#clip7602)\" style=\"stroke:#ffa500; stroke-width:4; stroke-opacity:1; fill:none\" points=\"\n",
       "  175.348,209.265 289.949,458.163 404.549,466.893 519.149,594.281 633.75,709.618 748.35,562.522 862.951,596.127 977.551,498.47 1092.15,624.34 1206.75,492.617 \n",
       "  1321.35,383.256 1435.95,481.35 1550.55,392.196 1665.15,700.975 1779.75,597.825 1894.35,690.877 2008.95,588.905 2123.56,465.293 2238.16,559.275 2352.76,643.436 \n",
       "  \n",
       "  \"/>\n",
       "<polyline clip-path=\"url(#clip7602)\" style=\"stroke:#ffa500; stroke-width:4; stroke-opacity:1; fill:none\" points=\"\n",
       "  175.348,880.476 289.949,739.293 404.549,509.508 519.149,653.961 633.75,1044.73 748.35,612.771 862.951,758.009 977.551,956.629 1092.15,732.39 1206.75,1067.36 \n",
       "  1321.35,499.555 1435.95,740.795 1550.55,932.665 1665.15,985.067 1779.75,847.085 1894.35,715.408 2008.95,597.319 2123.56,1092.11 2238.16,728.134 2352.76,627.65 \n",
       "  \n",
       "  \"/>\n",
       "<polyline clip-path=\"url(#clip7602)\" style=\"stroke:#ffa500; stroke-width:4; stroke-opacity:1; fill:none\" points=\"\n",
       "  175.348,272.019 289.949,429.561 404.549,471.095 519.149,631.214 633.75,883.386 748.35,582.661 862.951,684.946 977.551,424.507 1092.15,625.798 1206.75,582.183 \n",
       "  1321.35,557.324 1435.95,405.592 1550.55,772.096 1665.15,855.384 1779.75,549.96 1894.35,951.507 2008.95,587.747 2123.56,965.46 2238.16,479.794 2352.76,582.356 \n",
       "  \n",
       "  \"/>\n",
       "<polyline clip-path=\"url(#clip7602)\" style=\"stroke:#ffa500; stroke-width:4; stroke-opacity:1; fill:none\" points=\"\n",
       "  175.348,491.503 289.949,571.148 404.549,693.533 519.149,645.57 633.75,614.393 748.35,720.551 862.951,388.436 977.551,598.402 1092.15,628.793 1206.75,336.247 \n",
       "  1321.35,434.608 1435.95,683.902 1550.55,432.452 1665.15,649.359 1779.75,440.735 1894.35,809.884 2008.95,617.644 2123.56,722.89 2238.16,467.611 2352.76,574.292 \n",
       "  \n",
       "  \"/>\n",
       "<polyline clip-path=\"url(#clip7602)\" style=\"stroke:#ffa500; stroke-width:4; stroke-opacity:1; fill:none\" points=\"\n",
       "  175.348,400.502 289.949,655.154 404.549,812.041 519.149,891.996 633.75,598.385 748.35,292.518 862.951,712.273 977.551,603.435 1092.15,830.012 1206.75,347.109 \n",
       "  1321.35,573.444 1435.95,417.261 1550.55,517.556 1665.15,743.846 1779.75,401.533 1894.35,693.838 2008.95,713.181 2123.56,376.93 2238.16,522.108 2352.76,563.46 \n",
       "  \n",
       "  \"/>\n",
       "<polyline clip-path=\"url(#clip7602)\" style=\"stroke:#ffa500; stroke-width:4; stroke-opacity:1; fill:none\" points=\"\n",
       "  175.348,231.184 289.949,441.318 404.549,481.944 519.149,534.599 633.75,568.919 748.35,517.789 862.951,559.626 977.551,296.557 1092.15,431.895 1206.75,174.577 \n",
       "  1321.35,611.644 1435.95,334.379 1550.55,324.862 1665.15,673.124 1779.75,404.589 1894.35,790.034 2008.95,428.845 2123.56,398.234 2238.16,672.607 2352.76,513.141 \n",
       "  \n",
       "  \"/>\n",
       "<polyline clip-path=\"url(#clip7602)\" style=\"stroke:#ffa500; stroke-width:4; stroke-opacity:1; fill:none\" points=\"\n",
       "  175.348,325.802 289.949,786.717 404.549,488.389 519.149,751.51 633.75,758.119 748.35,674.044 862.951,951.682 977.551,628.378 1092.15,657.57 1206.75,419.885 \n",
       "  1321.35,544.611 1435.95,487.551 1550.55,473.563 1665.15,613.99 1779.75,361.006 1894.35,910.297 2008.95,386.19 2123.56,743.816 2238.16,749.372 2352.76,469.86 \n",
       "  \n",
       "  \"/>\n",
       "<polyline clip-path=\"url(#clip7602)\" style=\"stroke:#ffa500; stroke-width:4; stroke-opacity:1; fill:none\" points=\"\n",
       "  175.348,464.707 289.949,655.191 404.549,581.495 519.149,777.194 633.75,812.91 748.35,501.461 862.951,745.591 977.551,187.971 1092.15,524.784 1206.75,401.02 \n",
       "  1321.35,380.101 1435.95,608.231 1550.55,673.775 1665.15,758.015 1779.75,487.39 1894.35,1032.16 2008.95,540.299 2123.56,764.47 2238.16,608.175 2352.76,362.919 \n",
       "  \n",
       "  \"/>\n",
       "<polyline clip-path=\"url(#clip7602)\" style=\"stroke:#ffa500; stroke-width:4; stroke-opacity:1; fill:none\" points=\"\n",
       "  175.348,432.178 289.949,616.305 404.549,480.146 519.149,561.519 633.75,630.585 748.35,523.385 862.951,704.478 977.551,403.138 1092.15,525.719 1206.75,325.29 \n",
       "  1321.35,548.925 1435.95,605.966 1550.55,47.2441 1665.15,481.225 1779.75,598.433 1894.35,811.008 2008.95,424.87 2123.56,370.749 2238.16,864.56 2352.76,356.107 \n",
       "  \n",
       "  \"/>\n",
       "<polyline clip-path=\"url(#clip7602)\" style=\"stroke:#ffa500; stroke-width:4; stroke-opacity:1; fill:none\" points=\"\n",
       "  175.348,561.105 289.949,494.695 404.549,480.722 519.149,575.044 633.75,585.359 748.35,523.195 862.951,309.072 977.551,545.728 1092.15,505.722 1206.75,456.739 \n",
       "  1321.35,125.32 1435.95,754.85 1550.55,458.834 1665.15,462.891 1779.75,513.405 1894.35,518.62 2008.95,409.548 2123.56,351.349 2238.16,687.131 2352.76,311.016 \n",
       "  \n",
       "  \"/>\n",
       "<polyline clip-path=\"url(#clip7602)\" style=\"stroke:#ffa500; stroke-width:4; stroke-opacity:1; fill:none\" points=\"\n",
       "  175.348,411.638 289.949,899.262 404.549,717.154 519.149,660.713 633.75,376.282 748.35,552.288 862.951,687.987 977.551,608.569 1092.15,324.179 1206.75,507.339 \n",
       "  1321.35,538.776 1435.95,623.334 1550.55,573.247 1665.15,395.544 1779.75,398.03 1894.35,225.153 2008.95,623.36 2123.56,248.722 2238.16,515.157 2352.76,794.97 \n",
       "  \n",
       "  \"/>\n",
       "<polyline clip-path=\"url(#clip7602)\" style=\"stroke:#ffa500; stroke-width:4; stroke-opacity:1; fill:none\" points=\"\n",
       "  175.348,271.646 289.949,548.01 404.549,311.62 519.149,651.524 633.75,459.51 748.35,461.095 862.951,447.005 977.551,75.0814 1092.15,259.133 1206.75,191.166 \n",
       "  1321.35,355.082 1435.95,436.706 1550.55,433.223 1665.15,603.372 1779.75,512.872 1894.35,865.436 2008.95,398.049 2123.56,624.498 2238.16,490.789 2352.76,251.491 \n",
       "  \n",
       "  \"/>\n",
       "<polyline clip-path=\"url(#clip7602)\" style=\"stroke:#ffa500; stroke-width:4; stroke-opacity:1; fill:none\" points=\"\n",
       "  175.348,1150.65 289.949,656.178 404.549,1196.56 519.149,944.748 633.75,697.804 748.35,758.674 862.951,277.697 977.551,960.675 1092.15,991.622 1206.75,1125.18 \n",
       "  1321.35,973.125 1435.95,1042.78 1550.55,888.699 1665.15,1028.26 1779.75,813.948 1894.35,1009.12 2008.95,749.287 2123.56,817.707 2238.16,1096.95 2352.76,958.175 \n",
       "  \n",
       "  \"/>\n",
       "<polyline clip-path=\"url(#clip7602)\" style=\"stroke:#ffa500; stroke-width:4; stroke-opacity:1; fill:none\" points=\"\n",
       "  175.348,559.305 289.949,847.642 404.549,720.574 519.149,1094.84 633.75,775.908 748.35,766.572 862.951,894.341 977.551,841.106 1092.15,856.4 1206.75,661.27 \n",
       "  1321.35,651.243 1435.95,784.194 1550.55,635.935 1665.15,771.896 1779.75,571.539 1894.35,778.6 2008.95,575.93 2123.56,704.163 2238.16,543.036 2352.76,1117.74 \n",
       "  \n",
       "  \"/>\n",
       "<polyline clip-path=\"url(#clip7602)\" style=\"stroke:#ffa500; stroke-width:4; stroke-opacity:1; fill:none\" points=\"\n",
       "  175.348,974.913 289.949,891.375 404.549,1208.85 519.149,856.096 633.75,832.615 748.35,1039.46 862.951,976.785 977.551,1081.3 1092.15,848.178 1206.75,868.956 \n",
       "  1321.35,566.656 1435.95,907.347 1550.55,862.311 1665.15,737.741 1779.75,964.25 1894.35,467.38 2008.95,710.839 2123.56,552.437 2238.16,1032.44 2352.76,936.831 \n",
       "  \n",
       "  \"/>\n",
       "<polyline clip-path=\"url(#clip7602)\" style=\"stroke:#ffa500; stroke-width:4; stroke-opacity:1; fill:none\" points=\"\n",
       "  175.348,867.92 289.949,625.682 404.549,1134.13 519.149,937.656 633.75,719.013 748.35,805.077 862.951,422.042 977.551,800.791 1092.15,971.046 1206.75,643.936 \n",
       "  1321.35,842.302 1435.95,681.336 1550.55,667.223 1665.15,1077.39 1779.75,872.697 1894.35,897.625 2008.95,689.602 2123.56,856.091 2238.16,1012.53 2352.76,933.459 \n",
       "  \n",
       "  \"/>\n",
       "<polyline clip-path=\"url(#clip7602)\" style=\"stroke:#ffa500; stroke-width:4; stroke-opacity:1; fill:none\" points=\"\n",
       "  175.348,512.134 289.949,909.373 404.549,829.193 519.149,793.701 633.75,434.264 748.35,583.112 862.951,760.412 977.551,843.881 1092.15,686.05 1206.75,462.372 \n",
       "  1321.35,762.339 1435.95,913.156 1550.55,769.123 1665.15,446.007 1779.75,432.732 1894.35,304.599 2008.95,678.613 2123.56,166.998 2238.16,601.988 2352.76,1021.79 \n",
       "  \n",
       "  \"/>\n",
       "<polyline clip-path=\"url(#clip7602)\" style=\"stroke:#ffa500; stroke-width:4; stroke-opacity:1; fill:none\" points=\"\n",
       "  175.348,797.114 289.949,747.545 404.549,846.082 519.149,775.183 633.75,519.438 748.35,713.068 862.951,330.707 977.551,765.992 1092.15,866.734 1206.75,687.106 \n",
       "  1321.35,965.954 1435.95,1073.19 1550.55,580.74 1665.15,1076.64 1779.75,1109.08 1894.35,802.288 2008.95,711.008 2123.56,844.612 2238.16,1017.77 2352.76,883.033 \n",
       "  \n",
       "  \"/>\n",
       "<polyline clip-path=\"url(#clip7602)\" style=\"stroke:#ffa500; stroke-width:4; stroke-opacity:1; fill:none\" points=\"\n",
       "  175.348,909.204 289.949,792.565 404.549,872.355 519.149,867.865 633.75,631.214 748.35,867.657 862.951,284.941 977.551,769.739 1092.15,794.714 1206.75,936.477 \n",
       "  1321.35,1206.86 1435.95,1111.21 1550.55,827.58 1665.15,755.681 1779.75,961.424 1894.35,798.42 2008.95,561.348 2123.56,717.442 2238.16,911.141 2352.76,874.584 \n",
       "  \n",
       "  \"/>\n",
       "<polyline clip-path=\"url(#clip7602)\" style=\"stroke:#ffa500; stroke-width:4; stroke-opacity:1; fill:none\" points=\"\n",
       "  175.348,1079.79 289.949,936.231 404.549,1066.72 519.149,1017.08 633.75,677.993 748.35,1083.84 862.951,545.819 977.551,933.225 1092.15,872.761 1206.75,764.912 \n",
       "  1321.35,685.534 1435.95,1139.18 1550.55,829.633 1665.15,451.527 1779.75,748.869 1894.35,673.308 2008.95,735.502 2123.56,453.564 2238.16,947.543 2352.76,1043.17 \n",
       "  \n",
       "  \"/>\n",
       "<polyline clip-path=\"url(#clip7602)\" style=\"stroke:#ffa500; stroke-width:4; stroke-opacity:1; fill:none\" points=\"\n",
       "  175.348,1090.7 289.949,918.177 404.549,1078.13 519.149,839.125 633.75,680.149 748.35,966.571 862.951,731.193 977.551,781.449 1092.15,724.827 1206.75,968.41 \n",
       "  1321.35,270.371 1435.95,1030.66 1550.55,675.354 1665.15,509.635 1779.75,687.521 1894.35,594.053 2008.95,816.341 2123.56,316.572 2238.16,974.083 2352.76,836.938 \n",
       "  \n",
       "  \"/>\n",
       "<polyline clip-path=\"url(#clip7602)\" style=\"stroke:#ffa500; stroke-width:4; stroke-opacity:1; fill:none\" points=\"\n",
       "  175.348,370.842 289.949,955.719 404.549,624.728 519.149,595.135 633.75,361.161 748.35,344.853 862.951,834.534 977.551,660.339 1092.15,365.517 1206.75,503.054 \n",
       "  1321.35,821.713 1435.95,747.041 1550.55,411.807 1665.15,466.198 1779.75,417.303 1894.35,290.387 2008.95,601.927 2123.56,298.563 2238.16,767.639 2352.76,626.577 \n",
       "  \n",
       "  \"/>\n",
       "<polyline clip-path=\"url(#clip7602)\" style=\"stroke:#ffa500; stroke-width:4; stroke-opacity:1; fill:none\" points=\"\n",
       "  175.348,828.728 289.949,893.026 404.549,634.695 519.149,389.659 633.75,752.799 748.35,769.377 862.951,732.442 977.551,919.692 1092.15,315.154 1206.75,884.941 \n",
       "  1321.35,886.696 1435.95,460.317 1550.55,734.455 1665.15,646.84 1779.75,742.709 1894.35,347.459 2008.95,899.678 2123.56,624.303 2238.16,744.886 2352.76,787.496 \n",
       "  \n",
       "  \"/>\n",
       "<polyline clip-path=\"url(#clip7602)\" style=\"stroke:#ffa500; stroke-width:4; stroke-opacity:1; fill:none\" points=\"\n",
       "  175.348,722.23 289.949,545.42 404.549,871.219 519.149,551.999 633.75,856.597 748.35,823.436 862.951,951.229 977.551,721.354 1092.15,941.751 1206.75,598.144 \n",
       "  1321.35,789.064 1435.95,746.353 1550.55,596.881 1665.15,676.742 1779.75,896.652 1894.35,750.72 2008.95,949.381 2123.56,870.626 2238.16,737.154 2352.76,590.529 \n",
       "  \n",
       "  \"/>\n",
       "<polyline clip-path=\"url(#clip7602)\" style=\"stroke:#ffa500; stroke-width:4; stroke-opacity:1; fill:none\" points=\"\n",
       "  175.348,623.109 289.949,899.861 404.549,989.237 519.149,933.717 633.75,707.827 748.35,624.119 862.951,902.923 977.551,919.385 1092.15,749.513 1206.75,627.173 \n",
       "  1321.35,684.517 1435.95,850.716 1550.55,626.637 1665.15,574.889 1779.75,511.04 1894.35,467.862 2008.95,822.271 2123.56,222.89 2238.16,682.308 2352.76,894.95 \n",
       "  \n",
       "  \"/>\n",
       "<polyline clip-path=\"url(#clip7602)\" style=\"stroke:#ffa500; stroke-width:4; stroke-opacity:1; fill:none\" points=\"\n",
       "  175.348,967.313 289.949,858.185 404.549,886.236 519.149,853.53 633.75,566.958 748.35,897.231 862.951,479.91 977.551,651.783 1092.15,671.138 1206.75,782.258 \n",
       "  1321.35,470.771 1435.95,907.236 1550.55,677.86 1665.15,280.682 1779.75,565.344 1894.35,603.042 2008.95,731.634 2123.56,458.517 2238.16,892.276 2352.76,611.649 \n",
       "  \n",
       "  \"/>\n",
       "<polyline clip-path=\"url(#clip7602)\" style=\"stroke:#ffa500; stroke-width:4; stroke-opacity:1; fill:none\" points=\"\n",
       "  175.348,816.071 289.949,596.735 404.549,456.491 519.149,620.869 633.75,1076.65 748.35,603.822 862.951,635.967 977.551,946.944 1092.15,626.78 1206.75,965.45 \n",
       "  1321.35,449.408 1435.95,672.839 1550.55,830.667 1665.15,979.082 1779.75,842.658 1894.35,712.579 2008.95,502.57 2123.56,1018.1 2238.16,711.35 2352.76,523.066 \n",
       "  \n",
       "  \"/>\n",
       "<polyline clip-path=\"url(#clip7602)\" style=\"stroke:#ffa500; stroke-width:4; stroke-opacity:1; fill:none\" points=\"\n",
       "  175.348,310.244 289.949,528.448 404.549,448.153 519.149,739.893 633.75,653.984 748.35,460.441 862.951,509.358 977.551,181.687 1092.15,382.271 1206.75,244.215 \n",
       "  1321.35,338.399 1435.95,426.976 1550.55,535.011 1665.15,739.512 1779.75,512.774 1894.35,932.621 2008.95,516.585 2123.56,698.621 2238.16,550.766 2352.76,408.407 \n",
       "  \n",
       "  \"/>\n",
       "<polyline clip-path=\"url(#clip7602)\" style=\"stroke:#ffa500; stroke-width:4; stroke-opacity:1; fill:none\" points=\"\n",
       "  175.348,599.819 289.949,967.659 404.549,869.225 519.149,683.2 633.75,615.662 748.35,649.074 862.951,1056.18 977.551,712.4 1092.15,972.251 1206.75,615.074 \n",
       "  1321.35,922.876 1435.95,550.838 1550.55,699.146 1665.15,843.98 1779.75,578.485 1894.35,787.701 2008.95,893.067 2123.56,610.475 2238.16,789.399 2352.76,936.673 \n",
       "  \n",
       "  \"/>\n",
       "<polyline clip-path=\"url(#clip7602)\" style=\"stroke:#ffa500; stroke-width:4; stroke-opacity:1; fill:none\" points=\"\n",
       "  175.348,525.53 289.949,736.677 404.549,627.036 519.149,475.753 633.75,555.754 748.35,460.462 862.951,847.865 977.551,308.515 1092.15,638.253 1206.75,409.237 \n",
       "  1321.35,657.591 1435.95,695.466 1550.55,214.427 1665.15,414.623 1779.75,621.292 1894.35,650.377 2008.95,606.706 2123.56,327.127 2238.16,862.84 2352.76,368.71 \n",
       "  \n",
       "  \"/>\n",
       "<polyline clip-path=\"url(#clip7602)\" style=\"stroke:#ffa500; stroke-width:4; stroke-opacity:1; fill:none\" points=\"\n",
       "  175.348,393.223 289.949,636.09 404.549,384.774 519.149,607.077 633.75,631.47 748.35,458.013 862.951,618.045 977.551,418.134 1092.15,456.895 1206.75,269.403 \n",
       "  1321.35,608.522 1435.95,535.974 1550.55,86.8269 1665.15,540.211 1779.75,587.826 1894.35,829.173 2008.95,461.726 2123.56,337.538 2238.16,780.147 2352.76,326.094 \n",
       "  \n",
       "  \"/>\n",
       "<polyline clip-path=\"url(#clip7602)\" style=\"stroke:#ffa500; stroke-width:4; stroke-opacity:1; fill:none\" points=\"\n",
       "  175.348,687.105 289.949,801.169 404.549,915.843 519.149,602.495 633.75,539.079 748.35,762.343 862.951,683.208 977.551,763.435 1092.15,554.621 1206.75,682.172 \n",
       "  1321.35,711.392 1435.95,750.845 1550.55,601.356 1665.15,961.279 1779.75,1032.41 1894.35,645.334 2008.95,648.706 2123.56,850.834 2238.16,908.923 2352.76,826.004 \n",
       "  \n",
       "  \"/>\n",
       "<polyline clip-path=\"url(#clip7602)\" style=\"stroke:#ffa500; stroke-width:4; stroke-opacity:1; fill:none\" points=\"\n",
       "  175.348,812.854 289.949,722.304 404.549,1056.03 519.149,700.766 633.75,856.917 748.35,996.679 862.951,821.256 977.551,681.711 1092.15,937.455 1206.75,609.633 \n",
       "  1321.35,491.672 1435.95,704.824 1550.55,728.828 1665.15,777.427 1779.75,912.353 1894.35,628.276 2008.95,765.384 2123.56,565.208 2238.16,1042.92 2352.76,775.822 \n",
       "  \n",
       "  \"/>\n",
       "<polyline clip-path=\"url(#clip7602)\" style=\"stroke:#ffa500; stroke-width:4; stroke-opacity:1; fill:none\" points=\"\n",
       "  175.348,526.013 289.949,520.582 404.549,313.335 519.149,737.017 633.75,1037.21 748.35,561.275 862.951,695.129 977.551,872.633 1092.15,580.616 1206.75,898.146 \n",
       "  1321.35,309.834 1435.95,540.44 1550.55,814.244 1665.15,867.863 1779.75,663.368 1894.35,796.608 2008.95,453.793 2123.56,914.604 2238.16,561.236 2352.76,423.626 \n",
       "  \n",
       "  \"/>\n",
       "<polyline clip-path=\"url(#clip7602)\" style=\"stroke:#ffa500; stroke-width:4; stroke-opacity:1; fill:none\" points=\"\n",
       "  175.348,671.795 289.949,882.962 404.549,754.806 519.149,780.356 633.75,632.555 748.35,770.89 862.951,1046.54 977.551,819.583 1092.15,714.126 1206.75,446.071 \n",
       "  1321.35,612.291 1435.95,879.56 1550.55,605.087 1665.15,749.851 1779.75,614.776 1894.35,595.742 2008.95,602.119 2123.56,671.108 2238.16,1076.22 2352.76,939.877 \n",
       "  \n",
       "  \"/>\n",
       "<polyline clip-path=\"url(#clip7602)\" style=\"stroke:#ffa500; stroke-width:4; stroke-opacity:1; fill:none\" points=\"\n",
       "  175.348,705.443 289.949,763.005 404.549,659.539 519.149,962.819 633.75,773.366 748.35,531.708 862.951,877.469 977.551,768.252 1092.15,334.028 1206.75,710.752 \n",
       "  1321.35,700.288 1435.95,923.99 1550.55,695.355 1665.15,717.032 1779.75,491.139 1894.35,718.305 2008.95,558.333 2123.56,886.346 2238.16,628.089 2352.76,749.558 \n",
       "  \n",
       "  \"/>\n",
       "<polyline clip-path=\"url(#clip7602)\" style=\"stroke:#ffa500; stroke-width:4; stroke-opacity:1; fill:none\" points=\"\n",
       "  175.348,805.445 289.949,568.476 404.549,963.964 519.149,883.908 633.75,490.685 748.35,632.797 862.951,292.039 977.551,875.606 1092.15,766.142 1206.75,633.242 \n",
       "  1321.35,670.955 1435.95,771.29 1550.55,649.673 1665.15,654.942 1779.75,588.307 1894.35,539.265 2008.95,439.649 2123.56,431.065 2238.16,717.658 2352.76,997.477 \n",
       "  \n",
       "  \"/>\n",
       "<polyline clip-path=\"url(#clip7602)\" style=\"stroke:#ffa500; stroke-width:4; stroke-opacity:1; fill:none\" points=\"\n",
       "  175.348,392.633 289.949,615.478 404.549,448.14 519.149,489.729 633.75,561.269 748.35,577.7 862.951,542.142 977.551,345.936 1092.15,493.518 1206.75,375.842 \n",
       "  1321.35,375.534 1435.95,600.239 1550.55,114.82 1665.15,400.951 1779.75,673.613 1894.35,685.197 2008.95,417.399 2123.56,247.691 2238.16,740.856 2352.76,479.016 \n",
       "  \n",
       "  \"/>\n",
       "<polyline clip-path=\"url(#clip7602)\" style=\"stroke:#ffa500; stroke-width:4; stroke-opacity:1; fill:none\" points=\"\n",
       "  175.348,480.371 289.949,580.304 404.549,335.88 519.149,769.417 633.75,796.276 748.35,619.78 862.951,600.104 977.551,703.574 1092.15,658.936 1206.75,773.53 \n",
       "  1321.35,390.164 1435.95,569.229 1550.55,911.152 1665.15,770.412 1779.75,573.783 1894.35,919.614 2008.95,388.955 2123.56,976.317 2238.16,577.619 2352.76,395.748 \n",
       "  \n",
       "  \"/>\n",
       "<polyline clip-path=\"url(#clip7602)\" style=\"stroke:#ffa500; stroke-width:4; stroke-opacity:1; fill:none\" points=\"\n",
       "  175.348,633.573 289.949,834.68 404.549,852.32 519.149,763.444 633.75,448.372 748.35,629.333 862.951,800.248 977.551,826.383 1092.15,815.927 1206.75,549.253 \n",
       "  1321.35,779.257 1435.95,711.613 1550.55,805.592 1665.15,630.356 1779.75,488.447 1894.35,513.368 2008.95,649.248 2123.56,349.246 2238.16,506.85 2352.76,1122.05 \n",
       "  \n",
       "  \"/>\n",
       "<polyline clip-path=\"url(#clip7602)\" style=\"stroke:#ffa500; stroke-width:4; stroke-opacity:1; fill:none\" points=\"\n",
       "  175.348,845.348 289.949,749.421 404.549,787.055 519.149,792.533 633.75,526.909 748.35,729.696 862.951,385.215 977.551,613.054 1092.15,584.109 1206.75,545.008 \n",
       "  1321.35,348.443 1435.95,823.224 1550.55,583.512 1665.15,300.208 1779.75,507.587 1894.35,555.672 2008.95,737.31 2123.56,315.738 2238.16,865.691 2352.76,432.885 \n",
       "  \n",
       "  \"/>\n",
       "<polyline clip-path=\"url(#clip7602)\" style=\"stroke:#ffa500; stroke-width:4; stroke-opacity:1; fill:none\" points=\"\n",
       "  175.348,641.426 289.949,936.887 404.549,599.18 519.149,947.206 633.75,708.497 748.35,907.693 862.951,1077.03 977.551,824.048 1092.15,770.548 1206.75,684.486 \n",
       "  1321.35,547.617 1435.95,545.727 1550.55,721.095 1665.15,744.442 1779.75,353.75 1894.35,953.795 2008.95,467.797 2123.56,939.775 2238.16,663.19 2352.76,677.746 \n",
       "  \n",
       "  \"/>\n",
       "<polyline clip-path=\"url(#clip7602)\" style=\"stroke:#ffa500; stroke-width:4; stroke-opacity:1; fill:none\" points=\"\n",
       "  175.348,686.749 289.949,814.64 404.549,1032.74 519.149,926.309 633.75,599.215 748.35,572.813 862.951,814.359 977.551,808.33 1092.15,962.519 1206.75,662.301 \n",
       "  1321.35,719.86 1435.95,1055.45 1550.55,718.117 1665.15,529.367 1779.75,557.328 1894.35,673.719 2008.95,803 2123.56,219.502 2238.16,702.314 2352.76,1029.54 \n",
       "  \n",
       "  \"/>\n",
       "<polyline clip-path=\"url(#clip7602)\" style=\"stroke:#ffa500; stroke-width:4; stroke-opacity:1; fill:none\" points=\"\n",
       "  175.348,558.415 289.949,712.345 404.549,604.835 519.149,793.832 633.75,1005.82 748.35,548.491 862.951,500.184 977.551,1031.56 1092.15,685.025 1206.75,452.521 \n",
       "  1321.35,339.149 1435.95,707.087 1550.55,589.034 1665.15,944.164 1779.75,730.175 1894.35,543.228 2008.95,691.645 2123.56,471.012 2238.16,784.68 2352.76,527.659 \n",
       "  \n",
       "  \"/>\n",
       "<polyline clip-path=\"url(#clip7602)\" style=\"stroke:#ffa500; stroke-width:4; stroke-opacity:1; fill:none\" points=\"\n",
       "  175.348,546.272 289.949,603.33 404.549,598.185 519.149,890.726 633.75,843.322 748.35,642.638 862.951,608.111 977.551,381.606 1092.15,565.324 1206.75,538.986 \n",
       "  1321.35,211.633 1435.95,650.989 1550.55,655.334 1665.15,921.181 1779.75,573.417 1894.35,1008.22 2008.95,542.915 2123.56,781.176 2238.16,559.311 2352.76,459.947 \n",
       "  \n",
       "  \"/>\n",
       "<polyline clip-path=\"url(#clip7602)\" style=\"stroke:#ffa500; stroke-width:4; stroke-opacity:1; fill:none\" points=\"\n",
       "  175.348,1039.65 289.949,637.89 404.549,945.692 519.149,509.127 633.75,677.57 748.35,825.681 862.951,827.558 977.551,931.018 1092.15,607.35 1206.75,992.618 \n",
       "  1321.35,542.957 1435.95,626.494 1550.55,659.353 1665.15,599.518 1779.75,612.486 1894.35,623.328 2008.95,766.865 2123.56,577.307 2238.16,801.207 2352.76,782.462 \n",
       "  \n",
       "  \"/>\n",
       "<polyline clip-path=\"url(#clip7602)\" style=\"stroke:#ffa500; stroke-width:4; stroke-opacity:1; fill:none\" points=\"\n",
       "  175.348,861.197 289.949,744.728 404.549,843.185 519.149,470.198 633.75,836.969 748.35,800.058 862.951,950.094 977.551,861.167 1092.15,640.819 1206.75,944.828 \n",
       "  1321.35,759.413 1435.95,632.986 1550.55,546.285 1665.15,532.812 1779.75,915.801 1894.35,613.488 2008.95,1121.63 2123.56,527.473 2238.16,849.664 2352.76,650.848 \n",
       "  \n",
       "  \"/>\n",
       "<polyline clip-path=\"url(#clip7602)\" style=\"stroke:#ffa500; stroke-width:4; stroke-opacity:1; fill:none\" points=\"\n",
       "  175.348,1079.79 289.949,936.231 404.549,1066.72 519.149,1017.08 633.75,677.993 748.35,1083.84 862.951,545.819 977.551,933.225 1092.15,872.761 1206.75,764.912 \n",
       "  1321.35,685.534 1435.95,1139.18 1550.55,829.633 1665.15,451.527 1779.75,748.869 1894.35,673.308 2008.95,735.502 2123.56,453.564 2238.16,947.543 2352.76,1043.17 \n",
       "  \n",
       "  \"/>\n",
       "<polyline clip-path=\"url(#clip7602)\" style=\"stroke:#ffa500; stroke-width:4; stroke-opacity:1; fill:none\" points=\"\n",
       "  175.348,535.722 289.949,897.191 404.549,576.095 519.149,918.1 633.75,758.331 748.35,828.811 862.951,1014.67 977.551,764.518 1092.15,699.673 1206.75,567.318 \n",
       "  1321.35,617.657 1435.95,586.461 1550.55,687.482 1665.15,770.45 1779.75,341.21 1894.35,998.073 2008.95,537.686 2123.56,867.842 2238.16,803.334 2352.76,664.783 \n",
       "  \n",
       "  \"/>\n",
       "<polyline clip-path=\"url(#clip7602)\" style=\"stroke:#ffa500; stroke-width:4; stroke-opacity:1; fill:none\" points=\"\n",
       "  175.348,677.595 289.949,769.997 404.549,818.276 519.149,935.822 633.75,708.454 748.35,553.833 862.951,932.102 977.551,590.971 1092.15,486.508 1206.75,609.486 \n",
       "  1321.35,725.607 1435.95,978.252 1550.55,797.649 1665.15,583.057 1779.75,464.332 1894.35,633.103 2008.95,591.993 2123.56,451.376 2238.16,584.987 2352.76,697.12 \n",
       "  \n",
       "  \"/>\n",
       "<polyline clip-path=\"url(#clip7602)\" style=\"stroke:#ffa500; stroke-width:4; stroke-opacity:1; fill:none\" points=\"\n",
       "  175.348,860.531 289.949,687.471 404.549,475.566 519.149,578.836 633.75,1048.78 748.35,580.038 862.951,696.31 977.551,925.638 1092.15,719.246 1206.75,809.008 \n",
       "  1321.35,426.603 1435.95,861.833 1550.55,791.426 1665.15,782.028 1779.75,768.189 1894.35,610.29 2008.95,481.745 2123.56,901.479 2238.16,699.491 2352.76,727.21 \n",
       "  \n",
       "  \"/>\n",
       "<polyline clip-path=\"url(#clip7602)\" style=\"stroke:#ffa500; stroke-width:4; stroke-opacity:1; fill:none\" points=\"\n",
       "  175.348,735.423 289.949,849.798 404.549,946.594 519.149,686.447 633.75,616.865 748.35,712.869 862.951,882.287 977.551,762.401 1092.15,606.274 1206.75,551.049 \n",
       "  1321.35,473.888 1435.95,934.959 1550.55,560.963 1665.15,667.973 1779.75,691.854 1894.35,464.041 2008.95,772.307 2123.56,610.764 2238.16,614.048 2352.76,864.493 \n",
       "  \n",
       "  \"/>\n",
       "<polyline clip-path=\"url(#clip7602)\" style=\"stroke:#ffa500; stroke-width:4; stroke-opacity:1; fill:none\" points=\"\n",
       "  175.348,905.101 289.949,723.059 404.549,856.809 519.149,443.737 633.75,672.348 748.35,692.741 862.951,819.644 977.551,862.631 1092.15,500.663 1206.75,1027.86 \n",
       "  1321.35,525.444 1435.95,475.35 1550.55,659.479 1665.15,466.685 1779.75,562.715 1894.35,552.486 2008.95,671.558 2123.56,475.381 2238.16,659.914 2352.76,657.311 \n",
       "  \n",
       "  \"/>\n",
       "<polyline clip-path=\"url(#clip7602)\" style=\"stroke:#ffa500; stroke-width:4; stroke-opacity:1; fill:none\" points=\"\n",
       "  175.348,616.969 289.949,742.463 404.549,669.485 519.149,731.155 633.75,970.406 748.35,483.013 862.951,868.641 977.551,536.413 1092.15,573.793 1206.75,352.685 \n",
       "  1321.35,580.901 1435.95,630.242 1550.55,265.736 1665.15,649.576 1779.75,573.909 1894.35,1005.83 2008.95,588.166 2123.56,498.366 2238.16,771.108 2352.76,333.911 \n",
       "  \n",
       "  \"/>\n",
       "<polyline clip-path=\"url(#clip7602)\" style=\"stroke:#ffa500; stroke-width:4; stroke-opacity:1; fill:none\" points=\"\n",
       "  175.348,743.389 289.949,816.909 404.549,878.371 519.149,790.809 633.75,511.343 748.35,576.741 862.951,701.709 977.551,884.176 1092.15,566.49 1206.75,928.724 \n",
       "  1321.35,652.002 1435.95,826.717 1550.55,710.491 1665.15,712.079 1779.75,575.111 1894.35,493.315 2008.95,809.03 2123.56,566.428 2238.16,663.068 2352.76,1018.53 \n",
       "  \n",
       "  \"/>\n",
       "<polyline clip-path=\"url(#clip7602)\" style=\"stroke:#ffa500; stroke-width:4; stroke-opacity:1; fill:none\" points=\"\n",
       "  175.348,500.825 289.949,668.645 404.549,478.628 519.149,672.223 633.75,1038.64 748.35,744.663 862.951,818.351 977.551,1309.42 1092.15,794.315 1206.75,843.785 \n",
       "  1321.35,631.758 1435.95,909.439 1550.55,572.449 1665.15,953.4 1779.75,876.337 1894.35,658.372 2008.95,550.602 2123.56,639.975 2238.16,751.737 2352.76,775.687 \n",
       "  \n",
       "  \"/>\n",
       "<polyline clip-path=\"url(#clip7602)\" style=\"stroke:#ffa500; stroke-width:4; stroke-opacity:1; fill:none\" points=\"\n",
       "  175.348,583.607 289.949,823.946 404.549,794.464 519.149,598.299 633.75,754.271 748.35,845.512 862.951,770.657 977.551,581.945 1092.15,722.399 1206.75,545.685 \n",
       "  1321.35,446.576 1435.95,722.702 1550.55,571.083 1665.15,600.43 1779.75,847.965 1894.35,502.172 2008.95,771.256 2123.56,211.662 2238.16,987.364 2352.76,659.107 \n",
       "  \n",
       "  \"/>\n",
       "<polyline clip-path=\"url(#clip7602)\" style=\"stroke:#ffa500; stroke-width:4; stroke-opacity:1; fill:none\" points=\"\n",
       "  175.348,464.799 289.949,743.038 404.549,520.472 519.149,598.251 633.75,572.985 748.35,383.535 862.951,403.152 977.551,447.902 1092.15,343.209 1206.75,503.501 \n",
       "  1321.35,504.571 1435.95,706.061 1550.55,501.018 1665.15,382.625 1779.75,320.869 1894.35,457.402 2008.95,711.208 2123.56,486.718 2238.16,665.324 2352.76,515.958 \n",
       "  \n",
       "  \"/>\n",
       "<polyline clip-path=\"url(#clip7602)\" style=\"stroke:#ffa500; stroke-width:4; stroke-opacity:1; fill:none\" points=\"\n",
       "  175.348,797.114 289.949,747.545 404.549,846.082 519.149,775.183 633.75,519.438 748.35,713.068 862.951,330.707 977.551,765.992 1092.15,866.734 1206.75,687.106 \n",
       "  1321.35,965.954 1435.95,1073.19 1550.55,580.74 1665.15,1076.64 1779.75,1109.08 1894.35,802.288 2008.95,711.008 2123.56,844.612 2238.16,1017.77 2352.76,883.033 \n",
       "  \n",
       "  \"/>\n",
       "<polyline clip-path=\"url(#clip7602)\" style=\"stroke:#ffa500; stroke-width:4; stroke-opacity:1; fill:none\" points=\"\n",
       "  175.348,628.501 289.949,677.362 404.549,688.57 519.149,441.155 633.75,572.155 748.35,482.458 862.951,642.783 977.551,744.362 1092.15,395.048 1206.75,754.837 \n",
       "  1321.35,706.497 1435.95,648.148 1550.55,457.555 1665.15,621.891 1779.75,530.426 1894.35,399.8 2008.95,505.858 2123.56,621.915 2238.16,547.542 2352.76,640.657 \n",
       "  \n",
       "  \"/>\n",
       "<polyline clip-path=\"url(#clip7602)\" style=\"stroke:#ffa500; stroke-width:4; stroke-opacity:1; fill:none\" points=\"\n",
       "  175.348,906.235 289.949,623.248 404.549,966.63 519.149,470.002 633.75,789.695 748.35,760.454 862.951,959.723 977.551,957.876 1092.15,644.045 1206.75,955.994 \n",
       "  1321.35,829.648 1435.95,740.12 1550.55,647.402 1665.15,685.753 1779.75,715.743 1894.35,809.325 2008.95,923.356 2123.56,551.197 2238.16,906.233 2352.76,683.154 \n",
       "  \n",
       "  \"/>\n",
       "<polyline clip-path=\"url(#clip7602)\" style=\"stroke:#ffa500; stroke-width:4; stroke-opacity:1; fill:none\" points=\"\n",
       "  175.348,456.299 289.949,608.874 404.549,584.264 519.149,864.007 633.75,924.104 748.35,620.06 862.951,759.193 977.551,368.179 1092.15,470.554 1206.75,299.439 \n",
       "  1321.35,451.532 1435.95,709.337 1550.55,475.492 1665.15,766.676 1779.75,503.012 1894.35,970.933 2008.95,563.011 2123.56,764.526 2238.16,819.59 2352.76,500.494 \n",
       "  \n",
       "  \"/>\n",
       "<polyline clip-path=\"url(#clip7602)\" style=\"stroke:#ffa500; stroke-width:4; stroke-opacity:1; fill:none\" points=\"\n",
       "  175.348,619.695 289.949,825.369 404.549,474.937 519.149,926.63 633.75,962.972 748.35,791.269 862.951,531.912 977.551,764.274 1092.15,535.978 1206.75,772.228 \n",
       "  1321.35,669.418 1435.95,358.537 1550.55,613.286 1665.15,561.144 1779.75,702.733 1894.35,682.952 2008.95,902.578 2123.56,732.306 2238.16,836.554 2352.76,696.411 \n",
       "  \n",
       "  \"/>\n",
       "<polyline clip-path=\"url(#clip7602)\" style=\"stroke:#ffa500; stroke-width:4; stroke-opacity:1; fill:none\" points=\"\n",
       "  175.348,670.226 289.949,618.658 404.549,504.366 519.149,801.647 633.75,790.845 748.35,655.22 862.951,637.393 977.551,754.188 1092.15,589.292 1206.75,674.327 \n",
       "  1321.35,265.948 1435.95,603.283 1550.55,442.502 1665.15,896.357 1779.75,929.29 1894.35,833.217 2008.95,693.779 2123.56,713.532 2238.16,727.455 2352.76,633.884 \n",
       "  \n",
       "  \"/>\n",
       "<polyline clip-path=\"url(#clip7602)\" style=\"stroke:#ffa500; stroke-width:4; stroke-opacity:1; fill:none\" points=\"\n",
       "  175.348,817.039 289.949,594.281 404.549,870.17 519.149,498.701 633.75,920.294 748.35,717.924 862.951,939.691 977.551,689.712 1092.15,1008.34 1206.75,622.772 \n",
       "  1321.35,887.668 1435.95,862.485 1550.55,687.54 1665.15,780.858 1779.75,967.883 1894.35,765.473 2008.95,947.138 2123.56,983.781 2238.16,803.247 2352.76,601.67 \n",
       "  \n",
       "  \"/>\n",
       "<polyline clip-path=\"url(#clip7602)\" style=\"stroke:#ffa500; stroke-width:4; stroke-opacity:1; fill:none\" points=\"\n",
       "  175.348,422.935 289.949,697.523 404.549,523.751 519.149,786.727 633.75,621.223 748.35,655.85 862.951,513.225 977.551,1008.04 1092.15,674.687 1206.75,629.237 \n",
       "  1321.35,857.978 1435.95,971.389 1550.55,743.677 1665.15,622.369 1779.75,923.491 1894.35,739.481 2008.95,753.559 2123.56,707.074 2238.16,680.689 2352.76,623.631 \n",
       "  \n",
       "  \"/>\n",
       "<polyline clip-path=\"url(#clip7602)\" style=\"stroke:#ffa500; stroke-width:4; stroke-opacity:1; fill:none\" points=\"\n",
       "  175.348,522.257 289.949,695.048 404.549,505.917 519.149,608.82 633.75,577.445 748.35,565.931 862.951,477.735 977.551,550.251 1092.15,350.84 1206.75,528.895 \n",
       "  1321.35,763.754 1435.95,670.974 1550.55,322.1 1665.15,656.083 1779.75,701.197 1894.35,762.002 2008.95,561.132 2123.56,536.211 2238.16,648.661 2352.76,640.524 \n",
       "  \n",
       "  \"/>\n",
       "<polyline clip-path=\"url(#clip7602)\" style=\"stroke:#ffa500; stroke-width:4; stroke-opacity:1; fill:none\" points=\"\n",
       "  175.348,549.42 289.949,695.852 404.549,526.032 519.149,637.93 633.75,734.597 748.35,508.414 862.951,716.649 977.551,425.565 1092.15,427.321 1206.75,264.729 \n",
       "  1321.35,554.181 1435.95,601.171 1550.55,89.9765 1665.15,463.441 1779.75,602.377 1894.35,878.413 2008.95,494.34 2123.56,385.469 2238.16,752.878 2352.76,256.805 \n",
       "  \n",
       "  \"/>\n",
       "<polyline clip-path=\"url(#clip7602)\" style=\"stroke:#ffa500; stroke-width:4; stroke-opacity:1; fill:none\" points=\"\n",
       "  175.348,521.498 289.949,920.172 404.549,685.187 519.149,664.241 633.75,464.877 748.35,421.152 862.951,728.357 977.551,780.103 1092.15,343.044 1206.75,550.066 \n",
       "  1321.35,818.682 1435.95,794.033 1550.55,540.343 1665.15,550.856 1779.75,426.547 1894.35,361.755 2008.95,618.319 2123.56,401.791 2238.16,690.348 2352.76,853.742 \n",
       "  \n",
       "  \"/>\n",
       "<polyline clip-path=\"url(#clip7602)\" style=\"stroke:#ffa500; stroke-width:4; stroke-opacity:1; fill:none\" points=\"\n",
       "  175.348,558.516 289.949,790.589 404.549,625.081 519.149,750.198 633.75,479.781 748.35,392.585 862.951,589.198 977.551,646.203 1092.15,651.328 1206.75,491.685 \n",
       "  1321.35,806.578 1435.95,374.21 1550.55,555.05 1665.15,755.17 1779.75,546.837 1894.35,617.179 2008.95,640.699 2123.56,686.257 2238.16,636.47 2352.76,947.588 \n",
       "  \n",
       "  \"/>\n",
       "<polyline clip-path=\"url(#clip7602)\" style=\"stroke:#ffa500; stroke-width:4; stroke-opacity:1; fill:none\" points=\"\n",
       "  175.348,1010.89 289.949,651.647 404.549,921.419 519.149,623.623 633.75,485.887 748.35,646.839 862.951,821.941 977.551,1006.32 1092.15,725.197 1206.75,1037.73 \n",
       "  1321.35,441.798 1435.95,548.355 1550.55,679.173 1665.15,648.445 1779.75,519.39 1894.35,676.064 2008.95,767.306 2123.56,627.253 2238.16,862.619 2352.76,611.166 \n",
       "  \n",
       "  \"/>\n",
       "<polyline clip-path=\"url(#clip7602)\" style=\"stroke:#ffa500; stroke-width:4; stroke-opacity:1; fill:none\" points=\"\n",
       "  175.348,567.581 289.949,840.245 404.549,777.11 519.149,693.77 633.75,469.663 748.35,458.825 862.951,756.895 977.551,728.559 1092.15,490.508 1206.75,625.527 \n",
       "  1321.35,592.826 1435.95,660.368 1550.55,511.296 1665.15,327.94 1779.75,278.278 1894.35,445.864 2008.95,499.702 2123.56,399.642 2238.16,562.277 2352.76,727.038 \n",
       "  \n",
       "  \"/>\n",
       "<polyline clip-path=\"url(#clip7602)\" style=\"stroke:#ffa500; stroke-width:4; stroke-opacity:1; fill:none\" points=\"\n",
       "  175.348,636.178 289.949,817.467 404.549,919.336 519.149,543.87 633.75,418.157 748.35,630.076 862.951,718.729 977.551,636.928 1092.15,557.803 1206.75,568.366 \n",
       "  1321.35,732.854 1435.95,735.49 1550.55,607.74 1665.15,850.249 1779.75,970.176 1894.35,471.523 2008.95,680.898 2123.56,854.217 2238.16,763.548 2352.76,805.4 \n",
       "  \n",
       "  \"/>\n",
       "<polyline clip-path=\"url(#clip7602)\" style=\"stroke:#ffa500; stroke-width:4; stroke-opacity:1; fill:none\" points=\"\n",
       "  175.348,769.731 289.949,900.894 404.549,865.518 519.149,542.411 633.75,487.57 748.35,573.114 862.951,782.909 977.551,764.441 1092.15,569.197 1206.75,784.925 \n",
       "  1321.35,918.402 1435.95,596.786 1550.55,745.834 1665.15,784.029 1779.75,564.231 1894.35,572.349 2008.95,601.948 2123.56,661.972 2238.16,621.054 2352.76,913.713 \n",
       "  \n",
       "  \"/>\n",
       "<polyline clip-path=\"url(#clip7602)\" style=\"stroke:#ffa500; stroke-width:4; stroke-opacity:1; fill:none\" points=\"\n",
       "  175.348,641.526 289.949,981.629 404.549,632.248 519.149,778.82 633.75,587.509 748.35,648.328 862.951,562.645 977.551,689.459 1092.15,489.597 1206.75,748.578 \n",
       "  1321.35,853.831 1435.95,888.357 1550.55,748.731 1665.15,327.419 1779.75,537.692 1894.35,518.575 2008.95,670.282 2123.56,619.246 2238.16,819.217 2352.76,694.678 \n",
       "  \n",
       "  \"/>\n",
       "<polyline clip-path=\"url(#clip7602)\" style=\"stroke:#ffa500; stroke-width:4; stroke-opacity:1; fill:none\" points=\"\n",
       "  175.348,317.26 289.949,579.261 404.549,561.255 519.149,753.706 633.75,823.21 748.35,628.143 862.951,792.924 977.551,493.404 1092.15,673.289 1206.75,609.075 \n",
       "  1321.35,629.818 1435.95,463.434 1550.55,892.745 1665.15,663.64 1779.75,490.491 1894.35,962.752 2008.95,474.254 2123.56,902.952 2238.16,522.989 2352.76,535.034 \n",
       "  \n",
       "  \"/>\n",
       "<polyline clip-path=\"url(#clip7602)\" style=\"stroke:#ffa500; stroke-width:4; stroke-opacity:1; fill:none\" points=\"\n",
       "  175.348,342.992 289.949,942.651 404.549,664.619 519.149,733.985 633.75,442.456 748.35,471.041 862.951,630.147 977.551,479.425 1092.15,402.624 1206.75,473.937 \n",
       "  1321.35,591.84 1435.95,617.452 1550.55,636.911 1665.15,451.244 1779.75,316.372 1894.35,354.683 2008.95,600.285 2123.56,309.734 2238.16,534.736 2352.76,664.269 \n",
       "  \n",
       "  \"/>\n",
       "<polyline clip-path=\"url(#clip7602)\" style=\"stroke:#ffa500; stroke-width:4; stroke-opacity:1; fill:none\" points=\"\n",
       "  175.348,601.011 289.949,772.34 404.549,697.827 519.149,487.581 633.75,546.079 748.35,413.458 862.951,651.233 977.551,718.762 1092.15,368.194 1206.75,727.436 \n",
       "  1321.35,649.16 1435.95,587.168 1550.55,546.801 1665.15,500.549 1779.75,475.784 1894.35,338 2008.95,543.868 2123.56,606.041 2238.16,532.05 2352.76,642.681 \n",
       "  \n",
       "  \"/>\n",
       "<polyline clip-path=\"url(#clip7602)\" style=\"stroke:#ffa500; stroke-width:4; stroke-opacity:1; fill:none\" points=\"\n",
       "  175.348,377.635 289.949,563.078 404.549,616.812 519.149,767.829 633.75,697.425 748.35,601.694 862.951,490.74 977.551,186.436 1092.15,484.515 1206.75,215.861 \n",
       "  1321.35,290.425 1435.95,604.603 1550.55,375.664 1665.15,676.179 1779.75,454.239 1894.35,839.787 2008.95,593.172 2123.56,466.192 2238.16,687.146 2352.76,437.967 \n",
       "  \n",
       "  \"/>\n",
       "<polyline clip-path=\"url(#clip7602)\" style=\"stroke:#ffa500; stroke-width:4; stroke-opacity:1; fill:none\" points=\"\n",
       "  175.348,521.807 289.949,538.465 404.549,714.796 519.149,688.027 633.75,815.543 748.35,778.25 862.951,602.839 977.551,442.39 1092.15,661.262 1206.75,333.839 \n",
       "  1321.35,294.386 1435.95,702.053 1550.55,403.459 1665.15,797.514 1779.75,741.991 1894.35,810.732 2008.95,721.762 2123.56,603.506 2238.16,565.723 2352.76,665.323 \n",
       "  \n",
       "  \"/>\n",
       "<polyline clip-path=\"url(#clip7602)\" style=\"stroke:#ffa500; stroke-width:4; stroke-opacity:1; fill:none\" points=\"\n",
       "  175.348,581.925 289.949,635.468 404.549,798.466 519.149,726.655 633.75,675.019 748.35,367.104 862.951,556.027 977.551,578.656 1092.15,428.206 1206.75,640.144 \n",
       "  1321.35,657.472 1435.95,747.022 1550.55,494.824 1665.15,533.948 1779.75,455.158 1894.35,429.597 2008.95,586.704 2123.56,190.189 2238.16,557.877 2352.76,542.083 \n",
       "  \n",
       "  \"/>\n",
       "<polyline clip-path=\"url(#clip7602)\" style=\"stroke:#ffa500; stroke-width:4; stroke-opacity:1; fill:none\" points=\"\n",
       "  175.348,692.849 289.949,667.407 404.549,642.703 519.149,786.534 633.75,655.385 748.35,680.138 862.951,572.843 977.551,376.722 1092.15,510.279 1206.75,355.033 \n",
       "  1321.35,310.928 1435.95,580.703 1550.55,530.754 1665.15,540.44 1779.75,512.026 1894.35,592.824 2008.95,772.176 2123.56,342.338 2238.16,788.608 2352.76,497.644 \n",
       "  \n",
       "  \"/>\n",
       "<polyline clip-path=\"url(#clip7602)\" style=\"stroke:#ffa500; stroke-width:4; stroke-opacity:1; fill:none\" points=\"\n",
       "  175.348,614.296 289.949,700.33 404.549,420.902 519.149,664.428 633.75,834.63 748.35,638.571 862.951,695.947 977.551,772.883 1092.15,534.378 1206.75,391.015 \n",
       "  1321.35,303.371 1435.95,661.348 1550.55,476.945 1665.15,769.543 1779.75,775.732 1894.35,687.469 2008.95,542.465 2123.56,565.559 2238.16,637.339 2352.76,467.046 \n",
       "  \n",
       "  \"/>\n",
       "<polyline clip-path=\"url(#clip7602)\" style=\"stroke:#ffa500; stroke-width:4; stroke-opacity:1; fill:none\" points=\"\n",
       "  175.348,612.782 289.949,685.6 404.549,679.517 519.149,597.305 633.75,454.073 748.35,596.269 862.951,779.048 977.551,808.241 1092.15,644.545 1206.75,845.132 \n",
       "  1321.35,748.519 1435.95,802.753 1550.55,544.855 1665.15,628.737 1779.75,666.484 1894.35,882.318 2008.95,669.053 2123.56,645.607 2238.16,818.842 2352.76,420.856 \n",
       "  \n",
       "  \"/>\n",
       "<polyline clip-path=\"url(#clip7602)\" style=\"stroke:#ffa500; stroke-width:4; stroke-opacity:1; fill:none\" points=\"\n",
       "  175.348,582.834 289.949,580.758 404.549,540.606 519.149,630.626 633.75,734.301 748.35,599.684 862.951,598.3 977.551,522.902 1092.15,503.247 1206.75,372.302 \n",
       "  1321.35,545.894 1435.95,652.957 1550.55,175.78 1665.15,565.883 1779.75,607.677 1894.35,882.376 2008.95,441.263 2123.56,473.977 2238.16,787.268 2352.76,583.272 \n",
       "  \n",
       "  \"/>\n",
       "<polyline clip-path=\"url(#clip7602)\" style=\"stroke:#ffa500; stroke-width:4; stroke-opacity:1; fill:none\" points=\"\n",
       "  175.348,436.312 289.949,649.605 404.549,636.042 519.149,669.341 633.75,692.759 748.35,442.395 862.951,811.884 977.551,542.286 1092.15,429.813 1206.75,594.921 \n",
       "  1321.35,682.569 1435.95,813.43 1550.55,153.032 1665.15,488.807 1779.75,526.711 1894.35,724.399 2008.95,414.679 2123.56,307.086 2238.16,762.712 2352.76,496.082 \n",
       "  \n",
       "  \"/>\n",
       "<polyline clip-path=\"url(#clip7602)\" style=\"stroke:#ffa500; stroke-width:4; stroke-opacity:1; fill:none\" points=\"\n",
       "  175.348,518.736 289.949,696.66 404.549,511.194 519.149,639.522 633.75,749.061 748.35,523.78 862.951,764.639 977.551,420.175 1092.15,576.075 1206.75,391.301 \n",
       "  1321.35,606.821 1435.95,678.428 1550.55,151.619 1665.15,508.718 1779.75,590.813 1894.35,868.478 2008.95,510.149 2123.56,364.613 2238.16,879.303 2352.76,360.416 \n",
       "  \n",
       "  \"/>\n",
       "<polyline clip-path=\"url(#clip7602)\" style=\"stroke:#ffa500; stroke-width:4; stroke-opacity:1; fill:none\" points=\"\n",
       "  175.348,570.49 289.949,835.047 404.549,519.061 519.149,679.809 633.75,462.648 748.35,544.635 862.951,389.896 977.551,722.396 1092.15,527.371 1206.75,822.885 \n",
       "  1321.35,869.218 1435.95,849.935 1550.55,748.191 1665.15,384.541 1779.75,585.767 1894.35,555.663 2008.95,683.736 2123.56,661.94 2238.16,854.089 2352.76,627.801 \n",
       "  \n",
       "  \"/>\n",
       "<polyline clip-path=\"url(#clip7602)\" style=\"stroke:#ffa500; stroke-width:4; stroke-opacity:1; fill:none\" points=\"\n",
       "  175.348,493.499 289.949,708.805 404.549,481.644 519.149,723.315 633.75,385.763 748.35,387.089 862.951,472.118 977.551,625.548 1092.15,468.688 1206.75,574.006 \n",
       "  1321.35,662.595 1435.95,592.835 1550.55,341.919 1665.15,705.011 1779.75,608.101 1894.35,814.738 2008.95,561.572 2123.56,586.157 2238.16,710.072 2352.76,469.229 \n",
       "  \n",
       "  \"/>\n",
       "<polyline clip-path=\"url(#clip7602)\" style=\"stroke:#ffa500; stroke-width:4; stroke-opacity:1; fill:none\" points=\"\n",
       "  175.348,461.462 289.949,525.166 404.549,656.151 519.149,695.121 633.75,769.24 748.35,691.812 862.951,463.344 977.551,570.729 1092.15,701.364 1206.75,330.608 \n",
       "  1321.35,428.91 1435.95,604.213 1550.55,452.594 1665.15,814.089 1779.75,515.809 1894.35,916.715 2008.95,735.201 2123.56,823.194 2238.16,540.831 2352.76,555.564 \n",
       "  \n",
       "  \"/>\n",
       "<polyline clip-path=\"url(#clip7602)\" style=\"stroke:#ffa500; stroke-width:4; stroke-opacity:1; fill:none\" points=\"\n",
       "  175.348,858.415 289.949,784.215 404.549,669.725 519.149,668.403 633.75,959.654 748.35,623.717 862.951,728.938 977.551,800.072 1092.15,555.282 1206.75,690.568 \n",
       "  1321.35,436.231 1435.95,893.991 1550.55,371.012 1665.15,576.938 1779.75,894.74 1894.35,610.246 2008.95,538.456 2123.56,372.464 2238.16,707.327 2352.76,638.263 \n",
       "  \n",
       "  \"/>\n",
       "<polyline clip-path=\"url(#clip7602)\" style=\"stroke:#ffa500; stroke-width:4; stroke-opacity:1; fill:none\" points=\"\n",
       "  175.348,685.964 289.949,618.727 404.549,637.074 519.149,466.283 633.75,487.2 748.35,543.581 862.951,794.779 977.551,543.668 1092.15,668.064 1206.75,544.352 \n",
       "  1321.35,333.84 1435.95,666.773 1550.55,465.734 1665.15,559.292 1779.75,749.213 1894.35,489.318 2008.95,743.869 2123.56,540.541 2238.16,667.259 2352.76,796.748 \n",
       "  \n",
       "  \"/>\n",
       "<polyline clip-path=\"url(#clip7602)\" style=\"stroke:#ffa500; stroke-width:4; stroke-opacity:1; fill:none\" points=\"\n",
       "  175.348,609.442 289.949,774.291 404.549,621.588 519.149,808.823 633.75,600.703 748.35,524.851 862.951,553.678 977.551,772.71 1092.15,648.146 1206.75,605.492 \n",
       "  1321.35,785.116 1435.95,389.565 1550.55,548.666 1665.15,866.2 1779.75,609.069 1894.35,790.991 2008.95,608.507 2123.56,682.874 2238.16,781.844 2352.76,968.192 \n",
       "  \n",
       "  \"/>\n",
       "<polyline clip-path=\"url(#clip7602)\" style=\"stroke:#ffa500; stroke-width:4; stroke-opacity:1; fill:none\" points=\"\n",
       "  175.348,524.799 289.949,867.793 404.549,527.417 519.149,882.835 633.75,704.8 748.35,868.866 862.951,954.327 977.551,758.446 1092.15,636.952 1206.75,511.496 \n",
       "  1321.35,688.568 1435.95,633.246 1550.55,607.128 1665.15,867.572 1779.75,401.898 1894.35,968.118 2008.95,553.266 2123.56,866.03 2238.16,794.466 2352.76,644.211 \n",
       "  \n",
       "  \"/>\n",
       "<polyline clip-path=\"url(#clip7602)\" style=\"stroke:#ffa500; stroke-width:4; stroke-opacity:1; fill:none\" points=\"\n",
       "  175.348,442.944 289.949,902.027 404.549,731.32 519.149,787.899 633.75,418.991 748.35,505.428 862.951,703.045 977.551,826.499 1092.15,586.197 1206.75,368.772 \n",
       "  1321.35,753.553 1435.95,865.583 1550.55,679.183 1665.15,449.028 1779.75,333.51 1894.35,300.178 2008.95,645.152 2123.56,192.564 2238.16,518.36 2352.76,1020.39 \n",
       "  \n",
       "  \"/>\n",
       "<polyline clip-path=\"url(#clip7602)\" style=\"stroke:#ffa500; stroke-width:4; stroke-opacity:1; fill:none\" points=\"\n",
       "  175.348,412.181 289.949,949.997 404.549,762.493 519.149,739.787 633.75,457.729 748.35,548.726 862.951,687.513 977.551,496.807 1092.15,502.478 1206.75,567.537 \n",
       "  1321.35,600.627 1435.95,665.025 1550.55,726.85 1665.15,448.223 1779.75,415.594 1894.35,359.104 2008.95,633.746 2123.56,284.168 2238.16,618.365 2352.76,665.672 \n",
       "  \n",
       "  \"/>\n",
       "</svg>\n"
      ]
     },
     "metadata": {},
     "output_type": "display_data"
    }
   ],
   "source": [
    "ymin = Inf\n",
    "ymax = -Inf\n",
    "function plot_pop(P)\n",
    "    global ymin = min(ymin, minimum([minimum(i.y) for i in P]))\n",
    "    global ymax = max(ymax, maximum([maximum(i.y) for i in P]))\n",
    "    plot(xlims=(1, n_objectives), ylims=(ymin, ymax))\n",
    "    ND = filter(indiv -> indiv.rank == 1, P)\n",
    "    dominated = filter(indiv->indiv.rank != 1, P)\n",
    "    for i in dominated\n",
    "        plot!(1:n_objectives, collect(i.y), legend=:none, color=:blue)\n",
    "    end\n",
    "    for i in ND\n",
    "        plot!(1:n_objectives, collect(i.y), legend=:none, color=:orange)\n",
    "    end\n",
    "    sleep(2.0)\n",
    "end\n",
    "\n",
    "non_dominated = nsga_max(popsize, 50, objective, init, fCV=constraint,\n",
    "    fplot=plot_pop, plotevery=10, showprogress=false);"
   ]
  },
  {
   "cell_type": "code",
   "execution_count": null,
   "metadata": {},
   "outputs": [],
   "source": []
  },
  {
   "cell_type": "markdown",
   "metadata": {
    "slideshow": {
     "slide_type": "slide"
    }
   },
   "source": [
    "<div class=\"alert alert-success\">\n",
    "    <b>Exercise 4</b>\n",
    "    <br/>\n",
    "Gradually increase $K$, the number of objectives, and watch the number of non-dominated individuals in the population over evolution. What do you notice as $K$ increases?\n",
    "    <br/>\n",
    "</div>"
   ]
  }
 ],
 "metadata": {
  "celltoolbar": "Slideshow",
  "kernelspec": {
   "display_name": "Julia 1.4.0",
   "language": "julia",
   "name": "julia-1.4"
  },
  "language_info": {
   "file_extension": ".jl",
   "mimetype": "application/julia",
   "name": "julia",
   "version": "1.4.0"
  }
 },
 "nbformat": 4,
 "nbformat_minor": 2
}
