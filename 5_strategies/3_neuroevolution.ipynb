{
 "cells": [
  {
   "cell_type": "markdown",
   "metadata": {},
   "source": [
    "<img src=\"../imgs/logo.png\" width=\"20%\" align=\"right\" style=\"margin:0px 20px\">\n",
    "\n",
    "\n",
    "# Evolutionary Computation\n",
    "\n",
    "## 5.3 Deep Neuroevolution\n",
    "\n",
    "<a rel=\"license\" href=\"http://creativecommons.org/licenses/by-sa/4.0/\"><img alt=\"Creative Commons License\" align=\"left\" src=\"https://i.creativecommons.org/l/by-sa/4.0/80x15.png\" /></a>&nbsp;| Dennis G. Wilson | <a href=\"https://d9w.github.io/evolution/\">https://d9w.github.io/evolution/</a>"
   ]
  },
  {
   "cell_type": "code",
   "execution_count": 1,
   "metadata": {},
   "outputs": [],
   "source": [
    "using PyCall\n",
    "using Conda"
   ]
  },
  {
   "cell_type": "code",
   "execution_count": 2,
   "metadata": {
    "scrolled": true
   },
   "outputs": [
    {
     "name": "stderr",
     "output_type": "stream",
     "text": [
      "┌ Info: Running `conda install -y gym` in root environment\n",
      "└ @ Conda /home/qcm/.julia/packages/Conda/3rPhK/src/Conda.jl:113\n"
     ]
    },
    {
     "name": "stdout",
     "output_type": "stream",
     "text": [
      "Collecting package metadata (current_repodata.json): ...working... done\n",
      "Solving environment: ...working... failed with initial frozen solve. Retrying with flexible solve.\n",
      "Collecting package metadata (repodata.json): ...working... done\n",
      "Solving environment: ...working... failed with initial frozen solve. Retrying with flexible solve.\n"
     ]
    },
    {
     "name": "stderr",
     "output_type": "stream",
     "text": [
      "\n",
      "PackagesNotFoundError: The following packages are not available from current channels:\n",
      "\n",
      "  - gym\n",
      "\n",
      "Current channels:\n",
      "\n",
      "  - https://repo.anaconda.com/pkgs/main/linux-64\n",
      "  - https://repo.anaconda.com/pkgs/main/noarch\n",
      "  - https://repo.anaconda.com/pkgs/r/linux-64\n",
      "  - https://repo.anaconda.com/pkgs/r/noarch\n",
      "\n",
      "To search for alternate channels that may provide the conda package you're\n",
      "looking for, navigate to\n",
      "\n",
      "    https://anaconda.org\n",
      "\n",
      "and use the search bar at the top of the page.\n",
      "\n",
      "\n"
     ]
    },
    {
     "ename": "ProcessFailedException",
     "evalue": "failed process: Process(setenv(`/home/qcm/.julia/conda/3/bin/conda install -y gym`,[\"PATH=/home/qcm/julia-1.4.0/bin:/opt/ros/lunar/bin:/home/qcm/bin:/home/qcm/.local/bin:/usr/local/sbin:/usr/local/bin:/usr/sbin:/usr/bin:/sbin:/bin:/usr/games:/usr/local/games:/snap/bin\", \"SESSION=ubuntu\", \"ROS_DISTRO=lunar\", \"DEFAULTS_PATH=/usr/share/gconf/ubuntu.default.path\", \"QT_ACCESSIBILITY=1\", \"UPSTART_SESSION=unix:abstract=/com/ubuntu/upstart-session/1000/1252\", \"LD_LIBRARY_PATH=/opt/ros/lunar/lib:/opt/ros/lunar/lib/x86_64-linux-gnu\", \"UPSTART_JOB=unity7\", \"DBUS_SESSION_BUS_ADDRESS=unix:abstract=/tmp/dbus-lv6K3Ky5SC\", \"XDG_SEAT_PATH=/org/freedesktop/DisplayManager/Seat0\", \"ROS_ROOT=/opt/ros/lunar/share/ros\", \"XDG_SESSION_DESKTOP=ubuntu\", \"XDG_SESSION_TYPE=x11\", \"ROSLISP_PACKAGE_DIRECTORIES=\", \"ROS_ETC_DIR=/opt/ros/lunar/etc/ros\", \"QT_IM_MODULE=ibus\", \"XDG_CONFIG_DIRS=/etc/xdg/xdg-ubuntu:/usr/share/upstart/xdg:/etc/xdg\", \"LESSCLOSE=/usr/bin/lesspipe %s %s\", \"USER=qcm\", \"SESSIONTYPE=gnome-session\", \"INSTANCE=\", \"GDMSESSION=ubuntu\", \"COLUMNS=80\", \"LESSOPEN=| /usr/bin/lesspipe %s\", \"CMAKE_PREFIX_PATH=/opt/ros/lunar\", \"CLUTTER_IM_MODULE=xim\", \"XDG_DATA_DIRS=/usr/share/ubuntu:/usr/share/gnome:/usr/local/share:/usr/share:/var/lib/snapd/desktop\", \"SHELL=/bin/bash\", \"XDG_SEAT=seat0\", \"XAUTHORITY=/home/qcm/.Xauthority\", \"XDG_MENU_PREFIX=gnome-\", \"CONDARC=/home/qcm/.julia/conda/3/condarc-julia.yml\", \"GNOME_KEYRING_PID=\", \"GTK_MODULES=gail:atk-bridge:unity-gtk-module\", \"GTK_IM_MODULE=ibus\", \"SESSION_MANAGER=local/qcm-Vostro-3360:@/tmp/.ICE-unix/1511,unix/qcm-Vostro-3360:/tmp/.ICE-unix/1511\", \"QT_QPA_PLATFORMTHEME=appmenu-qt5\", \"XMODIFIERS=@im=ibus\", \"no_proxy=localhost,127.0.0.0/8,::1\", \"LINES=30\", \"TERM=xterm-256color\", \"HOME=/home/qcm\", \"PYTHONIOENCODING=UTF-8\", \"VTE_VERSION=4205\", \"UNITY_DEFAULT_PROFILE=unity\", \"NO_PROXY=localhost,127.0.0.0/8,::1\", \"ROS_MASTER_URI=http://localhost:11311\", \"GTK2_MODULES=overlay-scrollbar\", \"UPSTART_INSTANCE=\", \"COMPIZ_CONFIG_PROFILE=ubuntu\", \"IM_CONFIG_PHASE=1\", \"XDG_CURRENT_DESKTOP=Unity\", \"ROS_PACKAGE_PATH=/opt/ros/lunar/share\", \"LANG=fr_FR.UTF-8\", \"LOGNAME=qcm\", \"SHLVL=1\", \"GNOME_DESKTOP_SESSION_ID=this-is-deprecated\", \"XDG_RUNTIME_DIR=/run/user/1000\", \"SSH_AUTH_SOCK=/run/user/1000/keyring/ssh\", \"DESKTOP_SESSION=ubuntu\", \"GDM_LANG=fr_FR\", \"_=/home/qcm/julia-1.4.0/bin/julia\", \"GPG_AGENT_INFO=/home/qcm/.gnupg/S.gpg-agent:0:1\", \"PWD=/home/qcm\", \"DISPLAY=:0\", \"UPSTART_EVENTS=xsession started\", \"COMPIZ_BIN_PATH=/usr/bin/\", \"LANGUAGE=fr_FR\", \"JPY_PARENT_PID=2542\", \"XDG_GREETER_DATA_DIR=/var/lib/lightdm-data/qcm\", \"XDG_SESSION_PATH=/org/freedesktop/DisplayManager/Session0\", \"UNITY_HAS_3D_SUPPORT=true\", \"XDG_VTNR=7\", \"WINDOWID=62914570\", \"MANDATORY_PATH=/usr/share/gconf/ubuntu.mandatory.path\", \"XDG_SESSION_ID=c2\", \"ROS_VERSION=1\", \"CONDA_PREFIX=/home/qcm/.julia/conda/3\", \"PKG_CONFIG_PATH=/opt/ros/lunar/lib/pkgconfig:/opt/ros/lunar/lib/x86_64-linux-gnu/pkgconfig\", \"QT_LINUX_ACCESSIBILITY_ALWAYS_ON=1\", \"QT4_IM_MODULE=xim\", \"OPENBLAS_MAIN_FREE=1\", \"GNOME_KEYRING_CONTROL=\", \"LS_COLORS=rs=0:di=01;34:ln=01;36:mh=00:pi=40;33:so=01;35:do=01;35:bd=40;33;01:cd=40;33;01:or=40;31;01:mi=00:su=37;41:sg=30;43:ca=30;41:tw=30;42:ow=34;42:st=37;44:ex=01;32:*.tar=01;31:*.tgz=01;31:*.arc=01;31:*.arj=01;31:*.taz=01;31:*.lha=01;31:*.lz4=01;31:*.lzh=01;31:*.lzma=01;31:*.tlz=01;31:*.txz=01;31:*.tzo=01;31:*.t7z=01;31:*.zip=01;31:*.z=01;31:*.Z=01;31:*.dz=01;31:*.gz=01;31:*.lrz=01;31:*.lz=01;31:*.lzo=01;31:*.xz=01;31:*.bz2=01;31:*.bz=01;31:*.tbz=01;31:*.tbz2=01;31:*.tz=01;31:*.deb=01;31:*.rpm=01;31:*.jar=01;31:*.war=01;31:*.ear=01;31:*.sar=01;31:*.rar=01;31:*.alz=01;31:*.ace=01;31:*.zoo=01;31:*.cpio=01;31:*.7z=01;31:*.rz=01;31:*.cab=01;31:*.jpg=01;35:*.jpeg=01;35:*.gif=01;35:*.bmp=01;35:*.pbm=01;35:*.pgm=01;35:*.ppm=01;35:*.tga=01;35:*.xbm=01;35:*.xpm=01;35:*.tif=01;35:*.tiff=01;35:*.png=01;35:*.svg=01;35:*.svgz=01;35:*.mng=01;35:*.pcx=01;35:*.mov=01;35:*.mpg=01;35:*.mpeg=01;35:*.m2v=01;35:*.mkv=01;35:*.webm=01;35:*.ogm=01;35:*.mp4=01;35:*.m4v=01;35:*.mp4v=01;35:*.vob=01;35:*.qt=01;35:*.nuv=01;35:*.wmv=01;35:*.asf=01;35:*.rm=01;35:*.rmvb=01;35:*.flc=01;35:*.avi=01;35:*.fli=01;35:*.flv=01;35:*.gl=01;35:*.dl=01;35:*.xcf=01;35:*.xwd=01;35:*.yuv=01;35:*.cgm=01;35:*.emf=01;35:*.ogv=01;35:*.ogx=01;35:*.aac=00;36:*.au=00;36:*.flac=00;36:*.m4a=00;36:*.mid=00;36:*.midi=00;36:*.mka=00;36:*.mp3=00;36:*.mpc=00;36:*.ogg=00;36:*.ra=00;36:*.wav=00;36:*.oga=00;36:*.opus=00;36:*.spx=00;36:*.xspf=00;36:\", \"JOB=unity-settings-daemon\"]), ProcessExited(1)) [1]\n",
     "output_type": "error",
     "traceback": [
      "failed process: Process(setenv(`/home/qcm/.julia/conda/3/bin/conda install -y gym`,[\"PATH=/home/qcm/julia-1.4.0/bin:/opt/ros/lunar/bin:/home/qcm/bin:/home/qcm/.local/bin:/usr/local/sbin:/usr/local/bin:/usr/sbin:/usr/bin:/sbin:/bin:/usr/games:/usr/local/games:/snap/bin\", \"SESSION=ubuntu\", \"ROS_DISTRO=lunar\", \"DEFAULTS_PATH=/usr/share/gconf/ubuntu.default.path\", \"QT_ACCESSIBILITY=1\", \"UPSTART_SESSION=unix:abstract=/com/ubuntu/upstart-session/1000/1252\", \"LD_LIBRARY_PATH=/opt/ros/lunar/lib:/opt/ros/lunar/lib/x86_64-linux-gnu\", \"UPSTART_JOB=unity7\", \"DBUS_SESSION_BUS_ADDRESS=unix:abstract=/tmp/dbus-lv6K3Ky5SC\", \"XDG_SEAT_PATH=/org/freedesktop/DisplayManager/Seat0\", \"ROS_ROOT=/opt/ros/lunar/share/ros\", \"XDG_SESSION_DESKTOP=ubuntu\", \"XDG_SESSION_TYPE=x11\", \"ROSLISP_PACKAGE_DIRECTORIES=\", \"ROS_ETC_DIR=/opt/ros/lunar/etc/ros\", \"QT_IM_MODULE=ibus\", \"XDG_CONFIG_DIRS=/etc/xdg/xdg-ubuntu:/usr/share/upstart/xdg:/etc/xdg\", \"LESSCLOSE=/usr/bin/lesspipe %s %s\", \"USER=qcm\", \"SESSIONTYPE=gnome-session\", \"INSTANCE=\", \"GDMSESSION=ubuntu\", \"COLUMNS=80\", \"LESSOPEN=| /usr/bin/lesspipe %s\", \"CMAKE_PREFIX_PATH=/opt/ros/lunar\", \"CLUTTER_IM_MODULE=xim\", \"XDG_DATA_DIRS=/usr/share/ubuntu:/usr/share/gnome:/usr/local/share:/usr/share:/var/lib/snapd/desktop\", \"SHELL=/bin/bash\", \"XDG_SEAT=seat0\", \"XAUTHORITY=/home/qcm/.Xauthority\", \"XDG_MENU_PREFIX=gnome-\", \"CONDARC=/home/qcm/.julia/conda/3/condarc-julia.yml\", \"GNOME_KEYRING_PID=\", \"GTK_MODULES=gail:atk-bridge:unity-gtk-module\", \"GTK_IM_MODULE=ibus\", \"SESSION_MANAGER=local/qcm-Vostro-3360:@/tmp/.ICE-unix/1511,unix/qcm-Vostro-3360:/tmp/.ICE-unix/1511\", \"QT_QPA_PLATFORMTHEME=appmenu-qt5\", \"XMODIFIERS=@im=ibus\", \"no_proxy=localhost,127.0.0.0/8,::1\", \"LINES=30\", \"TERM=xterm-256color\", \"HOME=/home/qcm\", \"PYTHONIOENCODING=UTF-8\", \"VTE_VERSION=4205\", \"UNITY_DEFAULT_PROFILE=unity\", \"NO_PROXY=localhost,127.0.0.0/8,::1\", \"ROS_MASTER_URI=http://localhost:11311\", \"GTK2_MODULES=overlay-scrollbar\", \"UPSTART_INSTANCE=\", \"COMPIZ_CONFIG_PROFILE=ubuntu\", \"IM_CONFIG_PHASE=1\", \"XDG_CURRENT_DESKTOP=Unity\", \"ROS_PACKAGE_PATH=/opt/ros/lunar/share\", \"LANG=fr_FR.UTF-8\", \"LOGNAME=qcm\", \"SHLVL=1\", \"GNOME_DESKTOP_SESSION_ID=this-is-deprecated\", \"XDG_RUNTIME_DIR=/run/user/1000\", \"SSH_AUTH_SOCK=/run/user/1000/keyring/ssh\", \"DESKTOP_SESSION=ubuntu\", \"GDM_LANG=fr_FR\", \"_=/home/qcm/julia-1.4.0/bin/julia\", \"GPG_AGENT_INFO=/home/qcm/.gnupg/S.gpg-agent:0:1\", \"PWD=/home/qcm\", \"DISPLAY=:0\", \"UPSTART_EVENTS=xsession started\", \"COMPIZ_BIN_PATH=/usr/bin/\", \"LANGUAGE=fr_FR\", \"JPY_PARENT_PID=2542\", \"XDG_GREETER_DATA_DIR=/var/lib/lightdm-data/qcm\", \"XDG_SESSION_PATH=/org/freedesktop/DisplayManager/Session0\", \"UNITY_HAS_3D_SUPPORT=true\", \"XDG_VTNR=7\", \"WINDOWID=62914570\", \"MANDATORY_PATH=/usr/share/gconf/ubuntu.mandatory.path\", \"XDG_SESSION_ID=c2\", \"ROS_VERSION=1\", \"CONDA_PREFIX=/home/qcm/.julia/conda/3\", \"PKG_CONFIG_PATH=/opt/ros/lunar/lib/pkgconfig:/opt/ros/lunar/lib/x86_64-linux-gnu/pkgconfig\", \"QT_LINUX_ACCESSIBILITY_ALWAYS_ON=1\", \"QT4_IM_MODULE=xim\", \"OPENBLAS_MAIN_FREE=1\", \"GNOME_KEYRING_CONTROL=\", \"LS_COLORS=rs=0:di=01;34:ln=01;36:mh=00:pi=40;33:so=01;35:do=01;35:bd=40;33;01:cd=40;33;01:or=40;31;01:mi=00:su=37;41:sg=30;43:ca=30;41:tw=30;42:ow=34;42:st=37;44:ex=01;32:*.tar=01;31:*.tgz=01;31:*.arc=01;31:*.arj=01;31:*.taz=01;31:*.lha=01;31:*.lz4=01;31:*.lzh=01;31:*.lzma=01;31:*.tlz=01;31:*.txz=01;31:*.tzo=01;31:*.t7z=01;31:*.zip=01;31:*.z=01;31:*.Z=01;31:*.dz=01;31:*.gz=01;31:*.lrz=01;31:*.lz=01;31:*.lzo=01;31:*.xz=01;31:*.bz2=01;31:*.bz=01;31:*.tbz=01;31:*.tbz2=01;31:*.tz=01;31:*.deb=01;31:*.rpm=01;31:*.jar=01;31:*.war=01;31:*.ear=01;31:*.sar=01;31:*.rar=01;31:*.alz=01;31:*.ace=01;31:*.zoo=01;31:*.cpio=01;31:*.7z=01;31:*.rz=01;31:*.cab=01;31:*.jpg=01;35:*.jpeg=01;35:*.gif=01;35:*.bmp=01;35:*.pbm=01;35:*.pgm=01;35:*.ppm=01;35:*.tga=01;35:*.xbm=01;35:*.xpm=01;35:*.tif=01;35:*.tiff=01;35:*.png=01;35:*.svg=01;35:*.svgz=01;35:*.mng=01;35:*.pcx=01;35:*.mov=01;35:*.mpg=01;35:*.mpeg=01;35:*.m2v=01;35:*.mkv=01;35:*.webm=01;35:*.ogm=01;35:*.mp4=01;35:*.m4v=01;35:*.mp4v=01;35:*.vob=01;35:*.qt=01;35:*.nuv=01;35:*.wmv=01;35:*.asf=01;35:*.rm=01;35:*.rmvb=01;35:*.flc=01;35:*.avi=01;35:*.fli=01;35:*.flv=01;35:*.gl=01;35:*.dl=01;35:*.xcf=01;35:*.xwd=01;35:*.yuv=01;35:*.cgm=01;35:*.emf=01;35:*.ogv=01;35:*.ogx=01;35:*.aac=00;36:*.au=00;36:*.flac=00;36:*.m4a=00;36:*.mid=00;36:*.midi=00;36:*.mka=00;36:*.mp3=00;36:*.mpc=00;36:*.ogg=00;36:*.ra=00;36:*.wav=00;36:*.oga=00;36:*.opus=00;36:*.spx=00;36:*.xspf=00;36:\", \"JOB=unity-settings-daemon\"]), ProcessExited(1)) [1]\n",
      "",
      "Stacktrace:",
      " [1] pipeline_error at ./process.jl:525 [inlined]",
      " [2] run(::Cmd; wait::Bool) at ./process.jl:440",
      " [3] run at ./process.jl:438 [inlined]",
      " [4] runconda(::Cmd, ::String) at /home/qcm/.julia/packages/Conda/3rPhK/src/Conda.jl:114",
      " [5] add(::String, ::String; channel::String) at /home/qcm/.julia/packages/Conda/3rPhK/src/Conda.jl:188",
      " [6] add at /home/qcm/.julia/packages/Conda/3rPhK/src/Conda.jl:187 [inlined] (repeats 2 times)",
      " [7] top-level scope at In[2]:1"
     ]
    }
   ],
   "source": [
    "Conda.add(\"gym\")"
   ]
  },
  {
   "cell_type": "code",
   "execution_count": null,
   "metadata": {},
   "outputs": [],
   "source": [
    "import Random\n",
    "Random.seed!(1234);"
   ]
  },
  {
   "cell_type": "code",
   "execution_count": null,
   "metadata": {},
   "outputs": [],
   "source": [
    "include(\"cmaes.jl\");"
   ]
  },
  {
   "cell_type": "code",
   "execution_count": null,
   "metadata": {},
   "outputs": [],
   "source": [
    "struct FCLayer\n",
    "    w::Array{Float64}\n",
    "    b::Array{Float64}\n",
    "end\n",
    "\n",
    "struct SimpleANN\n",
    "    l1::FCLayer\n",
    "    l2::FCLayer\n",
    "    out::FCLayer\n",
    "end"
   ]
  },
  {
   "cell_type": "code",
   "execution_count": null,
   "metadata": {},
   "outputs": [],
   "source": [
    "function SimpleANN(input::Int, N1::Int, N2::Int, output::Int)\n",
    "    l1 = FCLayer(zeros(N1, input), zeros(N1))\n",
    "    l2 = FCLayer(zeros(N2, N1), zeros(N2))\n",
    "    out = FCLayer(zeros(output, N2), zeros(output))\n",
    "    SimpleANN(l1, l2, out)\n",
    "end"
   ]
  },
  {
   "cell_type": "code",
   "execution_count": null,
   "metadata": {},
   "outputs": [],
   "source": [
    "ann = SimpleANN(5, 64, 64, 4);"
   ]
  },
  {
   "cell_type": "code",
   "execution_count": null,
   "metadata": {},
   "outputs": [],
   "source": [
    "function compute(inputs::Array{Float64}, ann::SimpleANN)\n",
    "    x = ann.l1.w * inputs .+ ann.l1.b\n",
    "    x = ann.l2.w * x .+ ann.l2.b\n",
    "    x = ann.out.w * x .+ ann.out.b\n",
    "    x\n",
    "end"
   ]
  },
  {
   "cell_type": "code",
   "execution_count": null,
   "metadata": {},
   "outputs": [],
   "source": [
    "compute(zeros(5), ann)"
   ]
  },
  {
   "cell_type": "code",
   "execution_count": null,
   "metadata": {},
   "outputs": [],
   "source": [
    "gym = pyimport(\"gym\")"
   ]
  },
  {
   "cell_type": "code",
   "execution_count": null,
   "metadata": {},
   "outputs": [],
   "source": [
    "env = gym.make(\"CartPole-v1\")\n",
    "n_in = 4\n",
    "n_out = 2;"
   ]
  },
  {
   "cell_type": "code",
   "execution_count": null,
   "metadata": {},
   "outputs": [],
   "source": [
    "function play_env(ann::SimpleANN; render=false)\n",
    "    env = gym.make(\"CartPole-v1\")\n",
    "    env.seed(0)\n",
    "    obs = env.reset()\n",
    "    total_reward = 0.0\n",
    "    done = false\n",
    "    \n",
    "    while ~done\n",
    "        action = argmax(compute(obs, ann))-1\n",
    "        obs, reward, done, _ = env.step(action)\n",
    "        if render\n",
    "            env.render()\n",
    "        end\n",
    "        total_reward += reward\n",
    "    end\n",
    "    env.close()\n",
    "    env = nothing\n",
    "    Base.GC.gc()\n",
    "    total_reward\n",
    "end"
   ]
  },
  {
   "cell_type": "code",
   "execution_count": null,
   "metadata": {},
   "outputs": [],
   "source": [
    "ann = SimpleANN(n_in, 5, 5, n_out)\n",
    "play_env(ann; render=true)"
   ]
  },
  {
   "cell_type": "code",
   "execution_count": null,
   "metadata": {},
   "outputs": [],
   "source": [
    "play_env(ann)"
   ]
  },
  {
   "cell_type": "code",
   "execution_count": null,
   "metadata": {},
   "outputs": [],
   "source": [
    "function genes_to_ann(genes::Array{Float64})\n",
    "    ann = SimpleANN(n_in, 5, 5, n_out)\n",
    "    layers = [ann.l1.w, ann.l1.b, ann.l2.w, ann.l2.b, ann.out.w, ann.out.b]\n",
    "    L = 1\n",
    "    j = 1\n",
    "    for i in eachindex(genes)\n",
    "        if j > length(layers[L])\n",
    "            L += 1\n",
    "            j = 1\n",
    "        end\n",
    "        layers[L][j] = genes[i]\n",
    "        j += 1\n",
    "    end\n",
    "    ann\n",
    "end"
   ]
  },
  {
   "cell_type": "code",
   "execution_count": null,
   "metadata": {},
   "outputs": [],
   "source": [
    "function objective(genes::Array{Float64})\n",
    "    ann = genes_to_ann(genes)\n",
    "    -play_env(ann)\n",
    "end"
   ]
  },
  {
   "cell_type": "code",
   "execution_count": null,
   "metadata": {},
   "outputs": [],
   "source": [
    "N = n_in*5 + 5 + 5*5 + 5 + 5*n_out + n_out"
   ]
  },
  {
   "cell_type": "code",
   "execution_count": null,
   "metadata": {},
   "outputs": [],
   "source": [
    "ann = genes_to_ann(randn(N))"
   ]
  },
  {
   "cell_type": "code",
   "execution_count": null,
   "metadata": {},
   "outputs": [],
   "source": [
    "play_env(ann)"
   ]
  },
  {
   "cell_type": "code",
   "execution_count": null,
   "metadata": {},
   "outputs": [],
   "source": [
    "play_env(ann)"
   ]
  },
  {
   "cell_type": "code",
   "execution_count": null,
   "metadata": {},
   "outputs": [],
   "source": [
    "c = CMAES(N=N, µ=10, λ=30, τ=sqrt(N), τ_c=N^2, τ_σ=sqrt(N))\n",
    "for i in 1:5\n",
    "    step!(c, objective)\n",
    "    println(i, \" \", maximum(.-c.F_λ))\n",
    "end"
   ]
  },
  {
   "cell_type": "code",
   "execution_count": null,
   "metadata": {},
   "outputs": [],
   "source": [
    "best = nothing\n",
    "best_fit = -Inf\n",
    "c = CMAES(N=N, µ=10, λ=30, τ=sqrt(N), τ_c=N^2, τ_σ=sqrt(N))\n",
    "for i in 1:20\n",
    "    step!(c, objective)\n",
    "    bestind = argmin(c.F_λ)\n",
    "    maxfit = -c.F_λ[bestind]\n",
    "    println(i, \" \", maxfit)\n",
    "    if maxfit > best_fit\n",
    "        best = copy(c.offspring[bestind])\n",
    "        best_fit = maxfit\n",
    "    end\n",
    "    if best_fit == 500\n",
    "        break\n",
    "    end\n",
    "end"
   ]
  },
  {
   "cell_type": "code",
   "execution_count": null,
   "metadata": {},
   "outputs": [],
   "source": [
    "ann = genes_to_ann(best)\n",
    "play_env(ann; render=true)"
   ]
  },
  {
   "cell_type": "code",
   "execution_count": null,
   "metadata": {},
   "outputs": [],
   "source": []
  }
 ],
 "metadata": {
  "@webio": {
   "lastCommId": null,
   "lastKernelId": null
  },
  "kernelspec": {
   "display_name": "Julia 1.4.0",
   "language": "julia",
   "name": "julia-1.4"
  },
  "language_info": {
   "file_extension": ".jl",
   "mimetype": "application/julia",
   "name": "julia",
   "version": "1.4.0"
  }
 },
 "nbformat": 4,
 "nbformat_minor": 2
}
